{
  "cells": [
    {
      "cell_type": "markdown",
      "metadata": {
        "id": "view-in-github",
        "colab_type": "text"
      },
      "source": [
        "<a href=\"https://colab.research.google.com/github/Kridr/HW_MMDA_HSE/blob/main/HW2_RECSYS_MMDA.ipynb\" target=\"_parent\"><img src=\"https://colab.research.google.com/assets/colab-badge.svg\" alt=\"Open In Colab\"/></a>"
      ]
    },
    {
      "cell_type": "markdown",
      "metadata": {
        "collapsed": true,
        "id": "RzogTXpV_mJd"
      },
      "source": [
        "# \"Intro to Collaborative Filtering\" plus homework\n",
        "\n",
        "## Authors: Dmitry Ignatov\n",
        "Freely avaiable for non-commercial purposes. The code examples are based on T. Segaran [Programming Collective Intelligence book. Chapter 2](http://shop.oreilly.com/product/9780596529321.do)\n",
        "\n",
        "The homework talsk is formulated in the last cells. Please send the results to TA (futurelife@gmail.com) and the lecturer (dmitrii.ignatov@gmail.com) with a *mandatory* topic [MMDA-HW2-RecSys]-Your-Full-Name.\n",
        "\n",
        "\n",
        "\n",
        "### Deadlines: Soft – December 17, 22; Hard – December 19, 2022\n"
      ]
    },
    {
      "cell_type": "markdown",
      "metadata": {
        "id": "vaPtI-uz_mJg"
      },
      "source": [
        "## Dictionary with user preferences"
      ]
    },
    {
      "cell_type": "code",
      "execution_count": 1,
      "metadata": {
        "id": "gwhzURvC_mJg"
      },
      "outputs": [],
      "source": [
        "# A dictionary of movie critics and their ratings of a small\n",
        "# set of movies\n",
        "\n",
        "critics={'Lisa Rose': {'Lady in the Water': 2.5, 'Snakes on a Plane': 3.5,\n",
        " 'Just My Luck': 3.0, 'Superman Returns': 3.5, 'You, Me and Dupree': 2.5, \n",
        " 'The Night Listener': 3.0},\n",
        "'Gene Seymour': {'Lady in the Water': 3.0, 'Snakes on a Plane': 3.5, \n",
        " 'Just My Luck': 1.5, 'Superman Returns': 5.0, 'The Night Listener': 3.0, \n",
        " 'You, Me and Dupree': 3.5}, \n",
        "'Michael Phillips': {'Lady in the Water': 2.5, 'Snakes on a Plane': 3.0,\n",
        " 'Superman Returns': 3.5, 'The Night Listener': 4.0},\n",
        "'Claudia Puig': {'Snakes on a Plane': 3.5, 'Just My Luck': 3.0,\n",
        " 'The Night Listener': 4.5, 'Superman Returns': 4.0, \n",
        " 'You, Me and Dupree': 2.5},\n",
        "'Mick LaSalle': {'Lady in the Water': 3.0, 'Snakes on a Plane': 4.0, \n",
        " 'Just My Luck': 2.0, 'Superman Returns': 3.0, 'The Night Listener': 3.0,\n",
        " 'You, Me and Dupree': 2.0}, \n",
        "'Jack Matthews': {'Lady in the Water': 3.0, 'Snakes on a Plane': 4.0,\n",
        " 'The Night Listener': 3.0, 'Superman Returns': 5.0, 'You, Me and Dupree': 3.5},\n",
        "'Toby': {'Snakes on a Plane':4.5,'You, Me and Dupree':1.0,'Superman Returns':4.0}}"
      ]
    },
    {
      "cell_type": "code",
      "execution_count": 2,
      "metadata": {
        "id": "ksJcq3rj_mJi",
        "outputId": "0807d150-02e7-4a51-de26-4d26894cc96e",
        "colab": {
          "base_uri": "https://localhost:8080/"
        }
      },
      "outputs": [
        {
          "output_type": "execute_result",
          "data": {
            "text/plain": [
              "{'Snakes on a Plane': 4.5, 'You, Me and Dupree': 1.0, 'Superman Returns': 4.0}"
            ]
          },
          "metadata": {},
          "execution_count": 2
        }
      ],
      "source": [
        "critics['Toby']"
      ]
    },
    {
      "cell_type": "code",
      "execution_count": 3,
      "metadata": {
        "id": "HjVcDrRt_mJi",
        "outputId": "cb6ee3fb-2353-4c25-ae40-e8cbdd410447",
        "colab": {
          "base_uri": "https://localhost:8080/"
        }
      },
      "outputs": [
        {
          "output_type": "execute_result",
          "data": {
            "text/plain": [
              "2.5"
            ]
          },
          "metadata": {},
          "execution_count": 3
        }
      ],
      "source": [
        "critics['Lisa Rose']['Lady in the Water']"
      ]
    },
    {
      "cell_type": "code",
      "execution_count": 4,
      "metadata": {
        "id": "v7nlipUP_mJj",
        "outputId": "1a6cdeca-592b-4757-cdfc-b75e51aab0c2",
        "colab": {
          "base_uri": "https://localhost:8080/"
        }
      },
      "outputs": [
        {
          "output_type": "execute_result",
          "data": {
            "text/plain": [
              "3.1622776601683795"
            ]
          },
          "metadata": {},
          "execution_count": 4
        }
      ],
      "source": [
        "#Euclid distance\n",
        "from math import sqrt\n",
        "sqrt(pow(5-4,2)+pow(4-1,2))\n"
      ]
    },
    {
      "cell_type": "code",
      "execution_count": 5,
      "metadata": {
        "id": "ORucHBxd_mJj",
        "outputId": "e654f0cf-97e4-4305-8390-d9684c632bbe",
        "colab": {
          "base_uri": "https://localhost:8080/"
        }
      },
      "outputs": [
        {
          "output_type": "execute_result",
          "data": {
            "text/plain": [
              "0.6666666666666666"
            ]
          },
          "metadata": {},
          "execution_count": 5
        }
      ],
      "source": [
        "#distance-based simialrity \n",
        "1/(1+sqrt(pow(5-4.5,2)+pow(5-5,2)))"
      ]
    },
    {
      "cell_type": "code",
      "execution_count": 6,
      "metadata": {
        "id": "LD2DVnPf_mJk"
      },
      "outputs": [],
      "source": [
        "from numpy import exp"
      ]
    },
    {
      "cell_type": "code",
      "execution_count": 7,
      "metadata": {
        "id": "VrEfqdiS_mJk",
        "outputId": "bed1b68f-8d5c-4fe5-eb88-91212109eea3",
        "colab": {
          "base_uri": "https://localhost:8080/"
        }
      },
      "outputs": [
        {
          "output_type": "execute_result",
          "data": {
            "text/plain": [
              "0.9277434863285529"
            ]
          },
          "metadata": {},
          "execution_count": 7
        }
      ],
      "source": [
        "exp(-0.3*sqrt(pow(5-4.5,2)+pow(5-5,2))**2)\n"
      ]
    },
    {
      "cell_type": "code",
      "execution_count": 8,
      "metadata": {
        "id": "vDsHlKF5_mJk"
      },
      "outputs": [],
      "source": [
        "from math import sqrt\n",
        "# Returns a distance-based similarity score for person1 and person2\n",
        "def sim_distance(prefs,person1,person2):\n",
        "# Get the list of shared_items\n",
        "    si={}\n",
        "    for item in prefs[person1]:\n",
        "        if item in prefs[person2]:\n",
        "            si[item]=1\n",
        "# if they have no ratings in common, return 0\n",
        "    if len(si)==0: return 0\n",
        "# Add up the squares of all the differences\n",
        "    sum_of_squares=sum([pow(prefs[person1][item]-prefs[person2][item],2)\n",
        "    for item in prefs[person1] if item in prefs[person2]])\n",
        "    return 1/(1+sum_of_squares)\n"
      ]
    },
    {
      "cell_type": "code",
      "execution_count": 9,
      "metadata": {
        "id": "b3xYUki4_mJl"
      },
      "outputs": [],
      "source": [
        "from math import sqrt\n",
        "# Returns a distance-based similarity score for person1 and person2\n",
        "def sim_kernel(prefs,person1,person2,alpha=0.3):\n",
        "# Get the list of shared_items\n",
        "    si={}\n",
        "    for item in prefs[person1]:\n",
        "        if item in prefs[person2]:\n",
        "            si[item]=1\n",
        "# if they have no ratings in common, return 0\n",
        "    if len(si)==0: return 0\n",
        "# Add up the squares of all the differences and take the wieghted exponent\n",
        "    sum_of_squares=sum([pow(prefs[person1][item]-prefs[person2][item],2)\n",
        "    for item in prefs[person1] if item in prefs[person2]])\n",
        "    return exp(-alpha*sum_of_squares)"
      ]
    },
    {
      "cell_type": "code",
      "execution_count": 10,
      "metadata": {
        "id": "SaZOroUD_mJl",
        "outputId": "9c29b59c-4b01-4d4b-e9bb-41b5a4817095",
        "colab": {
          "base_uri": "https://localhost:8080/"
        }
      },
      "outputs": [
        {
          "output_type": "execute_result",
          "data": {
            "text/plain": [
              "0.3499377491111553"
            ]
          },
          "metadata": {},
          "execution_count": 10
        }
      ],
      "source": [
        "sim_kernel(critics, 'Lisa Rose','Toby')"
      ]
    },
    {
      "cell_type": "code",
      "execution_count": 11,
      "metadata": {
        "id": "4NYWqWSa_mJm",
        "outputId": "1781e731-6598-4618-ad01-ea4f93356539",
        "colab": {
          "base_uri": "https://localhost:8080/"
        }
      },
      "outputs": [
        {
          "output_type": "execute_result",
          "data": {
            "text/plain": [
              "0.2222222222222222"
            ]
          },
          "metadata": {},
          "execution_count": 11
        }
      ],
      "source": [
        "sim_distance(critics, 'Lisa Rose','Toby')"
      ]
    },
    {
      "cell_type": "code",
      "execution_count": 12,
      "metadata": {
        "id": "8M4WyvQG_mJm"
      },
      "outputs": [],
      "source": [
        "# Returns the Pearson correlation coefficient for p1 and p2\n",
        "def sim_pearson(prefs,p1,p2):\n",
        " # Get the list of mutually rated items\n",
        "    si={}\n",
        "    for item in prefs[p1]: \n",
        "        if item in prefs[p2]: si[item]=1\n",
        "\n",
        "     # if they are no ratings in common, return 0\n",
        "    if len(si)==0: return 0\n",
        "\n",
        "    # The number of mutually rated movies\n",
        "    n=len(si)\n",
        "  \n",
        "    # Sums of all the preferences\n",
        "    sum1=sum([prefs[p1][it] for it in si])\n",
        "    sum2=sum([prefs[p2][it] for it in si])\n",
        "  \n",
        "    # Sums of the squares\n",
        "    sum1Sq=sum([pow(prefs[p1][it],2) for it in si])\n",
        "    sum2Sq=sum([pow(prefs[p2][it],2) for it in si])\t\n",
        "  \n",
        "     # Sum of the products\n",
        "    pSum=sum([prefs[p1][it]*prefs[p2][it] for it in si])\n",
        "  \n",
        "     # Calculate r (Pearson score)\n",
        "    num=pSum-(sum1*sum2/n)\n",
        "    den=sqrt((sum1Sq-pow(sum1,2)/n)*(sum2Sq-pow(sum2,2)/n))\n",
        "    if den==0: return 0\n",
        "\n",
        "    r=num/den\n",
        "\n",
        "    return r"
      ]
    },
    {
      "cell_type": "code",
      "execution_count": 13,
      "metadata": {
        "id": "XRTzFzKe_mJm",
        "outputId": "7b432f4a-3c83-4776-b98b-2b1b38c14131",
        "colab": {
          "base_uri": "https://localhost:8080/"
        }
      },
      "outputs": [
        {
          "output_type": "execute_result",
          "data": {
            "text/plain": [
              "(0.39605901719066977, 0.14814814814814814)"
            ]
          },
          "metadata": {},
          "execution_count": 13
        }
      ],
      "source": [
        "sim_pearson(critics,'Lisa Rose','Gene Seymour'), sim_distance(critics, 'Lisa Rose','Gene Seymour')\n",
        "\n"
      ]
    },
    {
      "cell_type": "markdown",
      "metadata": {
        "id": "u07hmm03_mJn"
      },
      "source": [
        "##  Ranking of critics"
      ]
    },
    {
      "cell_type": "code",
      "execution_count": 13,
      "metadata": {
        "id": "dxZEthVd_mJn"
      },
      "outputs": [],
      "source": []
    },
    {
      "cell_type": "code",
      "execution_count": 14,
      "metadata": {
        "id": "7xLAOY6n_mJn"
      },
      "outputs": [],
      "source": [
        "# Returns the best matches for person from the prefs dictionary. \n",
        "# Number of results and similarity function are optional params.\n",
        "\n",
        "def topMatches(prefs,person,n=5,similarity=sim_pearson):\n",
        "    scores=[(similarity(prefs,person,other),other)\n",
        "    for other in prefs if other!=person]\n",
        "    # Descending sorting\n",
        "    scores.sort( )\n",
        "    scores.reverse( )\n",
        "    return scores[0:n]\n"
      ]
    },
    {
      "cell_type": "code",
      "execution_count": 15,
      "metadata": {
        "id": "7tOyAbhB_mJn",
        "outputId": "d4335548-5703-4831-ea6f-f989be11869d",
        "colab": {
          "base_uri": "https://localhost:8080/"
        }
      },
      "outputs": [
        {
          "output_type": "execute_result",
          "data": {
            "text/plain": [
              "[(0.9912407071619299, 'Lisa Rose'),\n",
              " (0.9244734516419049, 'Mick LaSalle'),\n",
              " (0.8934051474415647, 'Claudia Puig')]"
            ]
          },
          "metadata": {},
          "execution_count": 15
        }
      ],
      "source": [
        "topMatches(critics,'Toby',n=3)"
      ]
    },
    {
      "cell_type": "code",
      "execution_count": 16,
      "metadata": {
        "id": "Y16Li-pE_mJo",
        "outputId": "afe058c2-55b8-48df-bd7e-3b21610b9bc8",
        "colab": {
          "base_uri": "https://localhost:8080/"
        }
      },
      "outputs": [
        {
          "output_type": "execute_result",
          "data": {
            "text/plain": [
              "[(0.5091564206075492, 'Mick LaSalle'),\n",
              " (0.4723665527410147, 'Michael Phillips'),\n",
              " (0.37719235356315695, 'Claudia Puig')]"
            ]
          },
          "metadata": {},
          "execution_count": 16
        }
      ],
      "source": [
        "topMatches(critics,'Toby',n=3, similarity=sim_kernel)"
      ]
    },
    {
      "cell_type": "code",
      "execution_count": 17,
      "metadata": {
        "id": "yS4Z6_-u_mJo",
        "outputId": "8493d8e9-d736-48e3-f3a6-894096170b57",
        "colab": {
          "base_uri": "https://localhost:8080/"
        }
      },
      "outputs": [
        {
          "output_type": "execute_result",
          "data": {
            "text/plain": [
              "[(0.3076923076923077, 'Mick LaSalle'),\n",
              " (0.2857142857142857, 'Michael Phillips'),\n",
              " (0.23529411764705882, 'Claudia Puig')]"
            ]
          },
          "metadata": {},
          "execution_count": 17
        }
      ],
      "source": [
        "topMatches(critics,'Toby',n=3, similarity=sim_distance)"
      ]
    },
    {
      "cell_type": "markdown",
      "metadata": {
        "id": "f2WOR9o2_mJo"
      },
      "source": [
        "## Movie recommendation (User-based approach)"
      ]
    },
    {
      "cell_type": "code",
      "execution_count": 18,
      "metadata": {
        "id": "wxa-ofPq_mJo"
      },
      "outputs": [],
      "source": [
        "# Gets recommendations for a person by using a weighted average\n",
        "# of every other user's rankings\n",
        "\n",
        "def getRecommendations(prefs,person,similarity=sim_pearson):\n",
        "    totals={}\n",
        "    simSums={}\n",
        "    for other in prefs:\n",
        "     # don't compare me to myself\n",
        "        if other==person: continue\n",
        "        sim=similarity(prefs,person,other)\n",
        "     # ignore scores of zero or lower\n",
        "        if sim<=0: continue\n",
        "        for item in prefs[other]:\n",
        "    # only score movies I haven't seen yet\n",
        "            if item not in prefs[person] or prefs[person][item]==0:\n",
        "     # Similarity * Score\n",
        "                totals.setdefault(item,0)\n",
        "                totals[item]+=prefs[other][item]*sim\n",
        "        # Sum of similarities\n",
        "                simSums.setdefault(item,0)\n",
        "                simSums[item]+=sim\n",
        "     # Create the normalized list\n",
        "    rankings=[(total/simSums[item],item) for item,total in totals.items( )]\n",
        "    # Return the sorted list\n",
        "    rankings.sort( )\n",
        "    rankings.reverse( )\n",
        "    return rankings"
      ]
    },
    {
      "cell_type": "code",
      "execution_count": 19,
      "metadata": {
        "id": "IypPCwbr_mJp",
        "outputId": "877291a4-79c4-41c1-996e-34c9cec86f91",
        "colab": {
          "base_uri": "https://localhost:8080/"
        }
      },
      "outputs": [
        {
          "output_type": "execute_result",
          "data": {
            "text/plain": [
              "[(3.3477895267131017, 'The Night Listener'),\n",
              " (2.8325499182641614, 'Lady in the Water'),\n",
              " (2.530980703765565, 'Just My Luck')]"
            ]
          },
          "metadata": {},
          "execution_count": 19
        }
      ],
      "source": [
        "getRecommendations(critics,'Toby')\n"
      ]
    },
    {
      "cell_type": "code",
      "execution_count": 20,
      "metadata": {
        "id": "BUVcSZkw_mJp",
        "outputId": "311ab26d-ae79-450e-dde7-44f2180a03d7",
        "colab": {
          "base_uri": "https://localhost:8080/"
        }
      },
      "outputs": [
        {
          "output_type": "execute_result",
          "data": {
            "text/plain": [
              "[(3.5469111370529656, 'The Night Listener'),\n",
              " (2.729687080418633, 'Lady in the Water'),\n",
              " (2.518799545549861, 'Just My Luck')]"
            ]
          },
          "metadata": {},
          "execution_count": 20
        }
      ],
      "source": [
        "getRecommendations(critics,'Toby', sim_kernel)"
      ]
    },
    {
      "cell_type": "code",
      "execution_count": 21,
      "metadata": {
        "id": "1v738FaL_mJp",
        "outputId": "78fb78da-cc88-43f1-db0f-9aacf94830b9",
        "colab": {
          "base_uri": "https://localhost:8080/"
        }
      },
      "outputs": [
        {
          "output_type": "execute_result",
          "data": {
            "text/plain": [
              "[(3.5002478401415877, 'The Night Listener'),\n",
              " (2.7561242939959363, 'Lady in the Water'),\n",
              " (2.461988486074374, 'Just My Luck')]"
            ]
          },
          "metadata": {},
          "execution_count": 21
        }
      ],
      "source": [
        "getRecommendations(critics,'Toby', sim_distance)"
      ]
    },
    {
      "cell_type": "markdown",
      "metadata": {
        "id": "phDSAIOo_mJp"
      },
      "source": [
        "## Items similarity\n",
        "\n",
        "How to replace \n",
        "\n",
        "{'Lisa Rose': {'Lady in the Water': 2.5, 'Snakes on a Plane': 3.5},\n",
        "'Gene Seymour': {'Lady in the Water': 3.0, 'Snakes on a Plane': 3.5}}\n",
        "\n",
        "by\n",
        "\n",
        "{'Lady in the Water':{'Lisa Rose':2.5,'Gene Seymour':3.0},\n",
        "'Snakes on a Plane':{'Lisa Rose':3.5,'Gene Seymour':3.5}}?\n"
      ]
    },
    {
      "cell_type": "code",
      "execution_count": 22,
      "metadata": {
        "id": "laEN2HoX_mJp"
      },
      "outputs": [],
      "source": [
        "def transformPrefs(prefs):\n",
        "    result={}\n",
        "    for person in prefs:\n",
        "        for item in prefs[person]:\n",
        "            result.setdefault(item,{})\n",
        "    # Flip item and person\n",
        "    \n",
        "            result[item][person]=prefs[person][item]\n",
        "    return result"
      ]
    },
    {
      "cell_type": "code",
      "execution_count": 23,
      "metadata": {
        "id": "F1nnlfwu_mJp"
      },
      "outputs": [],
      "source": [
        "movies=transformPrefs(critics)\n"
      ]
    },
    {
      "cell_type": "code",
      "execution_count": 24,
      "metadata": {
        "id": "ltnJXR0i_mJq",
        "outputId": "72eb3caf-74d5-48dc-c51c-932184fdcbc2",
        "colab": {
          "base_uri": "https://localhost:8080/"
        }
      },
      "outputs": [
        {
          "output_type": "execute_result",
          "data": {
            "text/plain": [
              "{'Lady in the Water': {'Lisa Rose': 2.5,\n",
              "  'Gene Seymour': 3.0,\n",
              "  'Michael Phillips': 2.5,\n",
              "  'Mick LaSalle': 3.0,\n",
              "  'Jack Matthews': 3.0},\n",
              " 'Snakes on a Plane': {'Lisa Rose': 3.5,\n",
              "  'Gene Seymour': 3.5,\n",
              "  'Michael Phillips': 3.0,\n",
              "  'Claudia Puig': 3.5,\n",
              "  'Mick LaSalle': 4.0,\n",
              "  'Jack Matthews': 4.0,\n",
              "  'Toby': 4.5},\n",
              " 'Just My Luck': {'Lisa Rose': 3.0,\n",
              "  'Gene Seymour': 1.5,\n",
              "  'Claudia Puig': 3.0,\n",
              "  'Mick LaSalle': 2.0},\n",
              " 'Superman Returns': {'Lisa Rose': 3.5,\n",
              "  'Gene Seymour': 5.0,\n",
              "  'Michael Phillips': 3.5,\n",
              "  'Claudia Puig': 4.0,\n",
              "  'Mick LaSalle': 3.0,\n",
              "  'Jack Matthews': 5.0,\n",
              "  'Toby': 4.0},\n",
              " 'You, Me and Dupree': {'Lisa Rose': 2.5,\n",
              "  'Gene Seymour': 3.5,\n",
              "  'Claudia Puig': 2.5,\n",
              "  'Mick LaSalle': 2.0,\n",
              "  'Jack Matthews': 3.5,\n",
              "  'Toby': 1.0},\n",
              " 'The Night Listener': {'Lisa Rose': 3.0,\n",
              "  'Gene Seymour': 3.0,\n",
              "  'Michael Phillips': 4.0,\n",
              "  'Claudia Puig': 4.5,\n",
              "  'Mick LaSalle': 3.0,\n",
              "  'Jack Matthews': 3.0}}"
            ]
          },
          "metadata": {},
          "execution_count": 24
        }
      ],
      "source": [
        "movies"
      ]
    },
    {
      "cell_type": "code",
      "execution_count": 25,
      "metadata": {
        "id": "bTQO-xBa_mJq",
        "outputId": "fc7c559d-f7e1-4035-f9bb-9e40e62b1bc2",
        "colab": {
          "base_uri": "https://localhost:8080/"
        }
      },
      "outputs": [
        {
          "output_type": "execute_result",
          "data": {
            "text/plain": [
              "[(0.7637626158259785, 'Lady in the Water'),\n",
              " (0.11180339887498941, 'Superman Returns'),\n",
              " (-0.3333333333333333, 'Just My Luck'),\n",
              " (-0.5663521139548527, 'The Night Listener'),\n",
              " (-0.6454972243679047, 'You, Me and Dupree')]"
            ]
          },
          "metadata": {},
          "execution_count": 25
        }
      ],
      "source": [
        "topMatches(movies,'Snakes on a Plane',5, sim_pearson)"
      ]
    },
    {
      "cell_type": "code",
      "execution_count": 26,
      "metadata": {
        "id": "mYgiJGgR_mJq",
        "outputId": "6c0796d0-49f4-4944-f6c9-99f41bc07f80",
        "colab": {
          "base_uri": "https://localhost:8080/"
        }
      },
      "outputs": [
        {
          "output_type": "execute_result",
          "data": {
            "text/plain": [
              "[(0.2222222222222222, 'Lady in the Water'),\n",
              " (0.18181818181818182, 'The Night Listener'),\n",
              " (0.16666666666666666, 'Superman Returns'),\n",
              " (0.10526315789473684, 'Just My Luck'),\n",
              " (0.05128205128205128, 'You, Me and Dupree')]"
            ]
          },
          "metadata": {},
          "execution_count": 26
        }
      ],
      "source": [
        "topMatches(movies,'Snakes on a Plane',5, sim_distance)"
      ]
    },
    {
      "cell_type": "code",
      "execution_count": 27,
      "metadata": {
        "id": "e3Dv-y4m_mJq",
        "outputId": "2305e7b2-dbcc-4d0b-93ab-a456d7c67f58",
        "colab": {
          "base_uri": "https://localhost:8080/"
        }
      },
      "outputs": [
        {
          "output_type": "execute_result",
          "data": {
            "text/plain": [
              "[(3.352635310801229, 'Claudia Puig'), (2.4730878186968837, 'Toby')]"
            ]
          },
          "metadata": {},
          "execution_count": 27
        }
      ],
      "source": [
        "getRecommendations(movies,'Lady in the Water', sim_distance)"
      ]
    },
    {
      "cell_type": "markdown",
      "metadata": {
        "id": "q1vQKceC_mJq"
      },
      "source": [
        "## Item-based collaborative filtering"
      ]
    },
    {
      "cell_type": "code",
      "execution_count": 28,
      "metadata": {
        "id": "QVi2inGe_mJr"
      },
      "outputs": [],
      "source": [
        "def calculateSimilarItems(prefs,n=10):\n",
        "    # Create a dictionary of items showing which other items they\n",
        "  # are most similar to.\n",
        "    result={}\n",
        "    # Invert the preference matrix to be item-centric\n",
        "    itemPrefs=transformPrefs(prefs)\n",
        "    c=0\n",
        "    for item in itemPrefs:\n",
        "    # Status updates for large datasets\n",
        "        c+=1\n",
        "        #if c%100==0: print(\"%d / %d\" % (c,len(itemPrefs)))\n",
        "    # Find the most similar items to this one\n",
        "        scores=topMatches(itemPrefs,item,n=n,similarity=sim_distance)\n",
        "        result[item]=scores\n",
        "    return result"
      ]
    },
    {
      "cell_type": "code",
      "execution_count": 29,
      "metadata": {
        "id": "JrQRDlsm_mJr",
        "outputId": "3a46f27b-9ae0-42dc-8e27-1b8956b5a9fe",
        "colab": {
          "base_uri": "https://localhost:8080/"
        }
      },
      "outputs": [
        {
          "output_type": "execute_result",
          "data": {
            "text/plain": [
              "{'Lady in the Water': [(0.4, 'You, Me and Dupree'),\n",
              "  (0.2857142857142857, 'The Night Listener'),\n",
              "  (0.2222222222222222, 'Snakes on a Plane'),\n",
              "  (0.2222222222222222, 'Just My Luck'),\n",
              "  (0.09090909090909091, 'Superman Returns')],\n",
              " 'Snakes on a Plane': [(0.2222222222222222, 'Lady in the Water'),\n",
              "  (0.18181818181818182, 'The Night Listener'),\n",
              "  (0.16666666666666666, 'Superman Returns'),\n",
              "  (0.10526315789473684, 'Just My Luck'),\n",
              "  (0.05128205128205128, 'You, Me and Dupree')],\n",
              " 'Just My Luck': [(0.2222222222222222, 'Lady in the Water'),\n",
              "  (0.18181818181818182, 'You, Me and Dupree'),\n",
              "  (0.15384615384615385, 'The Night Listener'),\n",
              "  (0.10526315789473684, 'Snakes on a Plane'),\n",
              "  (0.06451612903225806, 'Superman Returns')],\n",
              " 'Superman Returns': [(0.16666666666666666, 'Snakes on a Plane'),\n",
              "  (0.10256410256410256, 'The Night Listener'),\n",
              "  (0.09090909090909091, 'Lady in the Water'),\n",
              "  (0.06451612903225806, 'Just My Luck'),\n",
              "  (0.05333333333333334, 'You, Me and Dupree')],\n",
              " 'You, Me and Dupree': [(0.4, 'Lady in the Water'),\n",
              "  (0.18181818181818182, 'Just My Luck'),\n",
              "  (0.14814814814814814, 'The Night Listener'),\n",
              "  (0.05333333333333334, 'Superman Returns'),\n",
              "  (0.05128205128205128, 'Snakes on a Plane')],\n",
              " 'The Night Listener': [(0.2857142857142857, 'Lady in the Water'),\n",
              "  (0.18181818181818182, 'Snakes on a Plane'),\n",
              "  (0.15384615384615385, 'Just My Luck'),\n",
              "  (0.14814814814814814, 'You, Me and Dupree'),\n",
              "  (0.10256410256410256, 'Superman Returns')]}"
            ]
          },
          "metadata": {},
          "execution_count": 29
        }
      ],
      "source": [
        "itemsim=calculateSimilarItems(critics)\n",
        "itemsim"
      ]
    },
    {
      "cell_type": "code",
      "execution_count": 30,
      "metadata": {
        "id": "f9bMAO7h_mJr"
      },
      "outputs": [],
      "source": [
        "def getRecommendedItems(prefs,itemMatch,user):\n",
        "    userRatings=prefs[user]\n",
        "    scores={}\n",
        "    totalSim={}\n",
        "\n",
        "    # Loop over items rated by this user\n",
        "    for (item,rating) in userRatings.items():\n",
        "        \n",
        "    # Loop over items similar to this one\n",
        "        for (similarity,item2) in itemMatch[item]:\n",
        "    # Ignore if this user has already rated this item\n",
        "            if item2 in userRatings: continue\n",
        "         # Weighted sum of rating times similarity\n",
        "            scores.setdefault(item2,0)\n",
        "            scores[item2]+=similarity*rating\n",
        "         # Sum of all the similarities\n",
        "            totalSim.setdefault(item2,0)\n",
        "            totalSim[item2]+=similarity\n",
        "            if totalSim[item2]==0: totalSim[item2]=0.0000001 # to avoid divison by zero\n",
        "    # Divide each total score by total weighting to get an average\n",
        "    rankings=[(score/totalSim[item],item) for item,score in scores.items( ) ]\n",
        "\n",
        "    # Return the rankings from highest to lowest\n",
        "    rankings.sort( )\n",
        "    rankings.reverse( )\n",
        "    return rankings"
      ]
    },
    {
      "cell_type": "code",
      "execution_count": 31,
      "metadata": {
        "id": "Z6PF9niJ_mJr",
        "outputId": "41f64ed6-cb3c-4c85-cf28-88486b8e409d",
        "colab": {
          "base_uri": "https://localhost:8080/"
        }
      },
      "outputs": [
        {
          "output_type": "execute_result",
          "data": {
            "text/plain": [
              "[(3.182634730538922, 'The Night Listener'),\n",
              " (2.5983318700614575, 'Just My Luck'),\n",
              " (2.4730878186968837, 'Lady in the Water')]"
            ]
          },
          "metadata": {},
          "execution_count": 31
        }
      ],
      "source": [
        "getRecommendedItems(critics,itemsim,'Toby')\n"
      ]
    },
    {
      "cell_type": "markdown",
      "metadata": {
        "id": "SVf_b6U-_mJr"
      },
      "source": [
        "## Recommendations on MovieLens data \n",
        "\n",
        "Source: http://grouplens.org/datasets/movielens/"
      ]
    },
    {
      "cell_type": "code",
      "source": [
        "!wget https://www.dropbox.com/sh/jq1ihy6sagczsm9/AAAp44JskNhpzss869AlGxh2a\n",
        "!unzip AAAp44JskNhpzss869AlGxh2a"
      ],
      "metadata": {
        "colab": {
          "base_uri": "https://localhost:8080/"
        },
        "id": "E-ljCg-35zmt",
        "outputId": "306e7b50-37e4-4402-df13-db7576381fdf"
      },
      "execution_count": 32,
      "outputs": [
        {
          "output_type": "stream",
          "name": "stdout",
          "text": [
            "--2022-12-17 20:10:00--  https://www.dropbox.com/sh/jq1ihy6sagczsm9/AAAp44JskNhpzss869AlGxh2a\n",
            "Resolving www.dropbox.com (www.dropbox.com)... 162.125.5.18, 2620:100:601d:18::a27d:512\n",
            "Connecting to www.dropbox.com (www.dropbox.com)|162.125.5.18|:443... connected.\n",
            "HTTP request sent, awaiting response... 302 Found\n",
            "Location: /sh/raw/jq1ihy6sagczsm9/AAAp44JskNhpzss869AlGxh2a [following]\n",
            "--2022-12-17 20:10:00--  https://www.dropbox.com/sh/raw/jq1ihy6sagczsm9/AAAp44JskNhpzss869AlGxh2a\n",
            "Reusing existing connection to www.dropbox.com:443.\n",
            "HTTP request sent, awaiting response... 302 Found\n",
            "Location: https://uc653f41933cd924846d7fb1e966.dl.dropboxusercontent.com/zip_download_get/BWPpP7dHz2PYO3QBonVL1Wx9E3a8UcxNGCLI4wUwO1InLA26334mQkWHXArzxfo8JY-pXCRcC-l6eKDzhFs_RtQZS8l4Rks7S6t6xOjuPmWBvw# [following]\n",
            "--2022-12-17 20:10:01--  https://uc653f41933cd924846d7fb1e966.dl.dropboxusercontent.com/zip_download_get/BWPpP7dHz2PYO3QBonVL1Wx9E3a8UcxNGCLI4wUwO1InLA26334mQkWHXArzxfo8JY-pXCRcC-l6eKDzhFs_RtQZS8l4Rks7S6t6xOjuPmWBvw\n",
            "Resolving uc653f41933cd924846d7fb1e966.dl.dropboxusercontent.com (uc653f41933cd924846d7fb1e966.dl.dropboxusercontent.com)... 162.125.5.15, 2620:100:601f:15::a27d:90f\n",
            "Connecting to uc653f41933cd924846d7fb1e966.dl.dropboxusercontent.com (uc653f41933cd924846d7fb1e966.dl.dropboxusercontent.com)|162.125.5.15|:443... connected.\n",
            "HTTP request sent, awaiting response... 200 OK\n",
            "Length: 16103994 (15M) [application/zip]\n",
            "Saving to: ‘AAAp44JskNhpzss869AlGxh2a’\n",
            "\n",
            "AAAp44JskNhpzss869A 100%[===================>]  15.36M  28.1MB/s    in 0.5s    \n",
            "\n",
            "2022-12-17 20:10:02 (28.1 MB/s) - ‘AAAp44JskNhpzss869AlGxh2a’ saved [16103994/16103994]\n",
            "\n",
            "Archive:  AAAp44JskNhpzss869AlGxh2a\n",
            "warning:  stripped absolute path spec from /\n",
            "mapname:  conversion of  failed\n",
            " extracting: u.data                  \n",
            " extracting: u.item                  \n",
            " extracting: README                  \n",
            " extracting: mku.sh                  \n",
            " extracting: u.info                  \n",
            " extracting: u.user                  \n",
            " extracting: ub.test                 \n",
            " extracting: u5.base                 \n",
            " extracting: u5.test                 \n",
            " extracting: ua.base                 \n",
            " extracting: ua.test                 \n",
            " extracting: ub.base                 \n",
            " extracting: u.genre                 \n",
            " extracting: u1.base                 \n",
            " extracting: u1.test                 \n",
            " extracting: u2.base                 \n",
            " extracting: u2.test                 \n",
            " extracting: u3.base                 \n",
            " extracting: u3.test                 \n",
            " extracting: u4.base                 \n",
            " extracting: u4.test                 \n",
            "   creating: movielens/\n",
            " extracting: allbut.pl               \n",
            " extracting: u.occupation            \n"
          ]
        }
      ]
    },
    {
      "cell_type": "code",
      "execution_count": 33,
      "metadata": {
        "id": "F9uKmmNR_mJs"
      },
      "outputs": [],
      "source": [
        "def loadMovieLens(path='data/'):\n",
        "# Get movie titles\n",
        "    movies={}\n",
        "    for line in open(path+'u.item'):\n",
        "        (id,title)=line.split('|')[0:2]\n",
        "        movies[id]=title\n",
        " # Load data\n",
        "    prefs={}\n",
        "    for line in open(path+'u.data'):\n",
        "        (user,movieid,rating,ts)=line.split('\\t')\n",
        "        prefs.setdefault(user,{})\n",
        "        prefs[user][movies[movieid]]=float(rating)\n",
        "    return prefs"
      ]
    },
    {
      "cell_type": "code",
      "execution_count": 34,
      "metadata": {
        "id": "_jmWW9ni_mJs"
      },
      "outputs": [],
      "source": [
        "prefs=loadMovieLens('')"
      ]
    },
    {
      "cell_type": "code",
      "execution_count": 35,
      "metadata": {
        "id": "M8tiMPcV_mJs",
        "outputId": "f61d84d7-8de8-4af7-fa1d-9ad23354c9a6",
        "colab": {
          "base_uri": "https://localhost:8080/"
        }
      },
      "outputs": [
        {
          "output_type": "execute_result",
          "data": {
            "text/plain": [
              "{'Naked Gun 33 1/3: The Final Insult (1994)': 4.0,\n",
              " 'Con Air (1997)': 4.0,\n",
              " 'Sabrina (1995)': 4.0,\n",
              " 'Waterworld (1995)': 4.0,\n",
              " 'To Wong Foo, Thanks for Everything! Julie Newmar (1995)': 3.0,\n",
              " 'Clueless (1995)': 4.0,\n",
              " 'Jurassic Park (1993)': 5.0,\n",
              " 'Brady Bunch Movie, The (1995)': 2.0,\n",
              " 'Son in Law (1993)': 4.0,\n",
              " 'Indiana Jones and the Last Crusade (1989)': 5.0,\n",
              " 'Good, The Bad and The Ugly, The (1966)': 5.0,\n",
              " 'Dead Poets Society (1989)': 5.0,\n",
              " 'Dead Man Walking (1995)': 4.0,\n",
              " \"Joe's Apartment (1996)\": 2.0,\n",
              " 'GoldenEye (1995)': 4.0,\n",
              " 'M*A*S*H (1970)': 5.0,\n",
              " 'Something to Talk About (1995)': 2.0,\n",
              " 'Lightning Jack (1994)': 3.0,\n",
              " 'Big Green, The (1995)': 3.0,\n",
              " 'Cowboy Way, The (1994)': 3.0,\n",
              " \"Ulee's Gold (1997)\": 3.0,\n",
              " 'Addams Family Values (1993)': 2.0,\n",
              " '2001: A Space Odyssey (1968)': 5.0,\n",
              " 'Platoon (1986)': 3.0,\n",
              " 'Return of the Pink Panther, The (1974)': 4.0,\n",
              " 'Four Weddings and a Funeral (1994)': 5.0,\n",
              " 'Under Siege (1992)': 4.0,\n",
              " 'Ace Ventura: Pet Detective (1994)': 4.0,\n",
              " 'Die Hard: With a Vengeance (1995)': 4.0,\n",
              " 'Prefontaine (1997)': 5.0,\n",
              " 'Cops and Robbersons (1994)': 3.0,\n",
              " \"Pyromaniac's Love Story, A (1995)\": 3.0,\n",
              " 'Glory (1989)': 4.0,\n",
              " 'This Is Spinal Tap (1984)': 5.0,\n",
              " 'Multiplicity (1996)': 3.0,\n",
              " 'Tommy Boy (1995)': 4.0,\n",
              " 'Cool Hand Luke (1967)': 5.0,\n",
              " \"Monty Python's Life of Brian (1979)\": 4.0,\n",
              " 'Victor/Victoria (1982)': 4.0,\n",
              " 'Treasure of the Sierra Madre, The (1948)': 4.0,\n",
              " 'That Old Feeling (1997)': 4.0,\n",
              " 'Mrs. Doubtfire (1993)': 4.0,\n",
              " 'Professional, The (1994)': 4.0,\n",
              " 'True Lies (1994)': 5.0,\n",
              " 'Air Force One (1997)': 3.0,\n",
              " 'Speechless (1994)': 4.0,\n",
              " 'Sleepless in Seattle (1993)': 5.0,\n",
              " 'Young Frankenstein (1974)': 5.0,\n",
              " 'GoodFellas (1990)': 4.0,\n",
              " 'Fugitive, The (1993)': 5.0,\n",
              " 'In the Line of Fire (1993)': 5.0,\n",
              " 'Reality Bites (1994)': 3.0,\n",
              " 'Shadow, The (1994)': 3.0,\n",
              " 'Speed (1994)': 5.0,\n",
              " 'Batman Returns (1992)': 3.0,\n",
              " 'Conan the Barbarian (1981)': 3.0,\n",
              " 'Terminator 2: Judgment Day (1991)': 5.0,\n",
              " 'Strange Days (1995)': 3.0,\n",
              " 'Star Trek III: The Search for Spock (1984)': 4.0,\n",
              " \"Schindler's List (1993)\": 4.0,\n",
              " 'Sneakers (1992)': 4.0,\n",
              " 'Twelve Monkeys (1995)': 4.0,\n",
              " 'Switchblade Sisters (1975)': 2.0,\n",
              " 'Searching for Bobby Fischer (1993)': 4.0,\n",
              " 'Birdcage, The (1996)': 4.0,\n",
              " \"Singin' in the Rain (1952)\": 4.0,\n",
              " 'Shawshank Redemption, The (1994)': 5.0,\n",
              " 'Santa Clause, The (1994)': 4.0,\n",
              " 'Clear and Present Danger (1994)': 5.0,\n",
              " 'Dances with Wolves (1990)': 5.0,\n",
              " 'Deer Hunter, The (1978)': 3.0,\n",
              " 'Boot, Das (1981)': 4.0,\n",
              " 'Alien (1979)': 4.0,\n",
              " 'Speed 2: Cruise Control (1997)': 3.0,\n",
              " 'Maverick (1994)': 3.0,\n",
              " 'Jack (1996)': 3.0,\n",
              " 'Desperado (1995)': 3.0,\n",
              " 'Nutty Professor, The (1996)': 4.0,\n",
              " 'Batman (1989)': 3.0,\n",
              " 'Dave (1993)': 4.0,\n",
              " 'Crow, The (1994)': 3.0,\n",
              " 'Adventures of Robin Hood, The (1938)': 5.0,\n",
              " 'Blues Brothers, The (1980)': 5.0,\n",
              " 'Adventures of Priscilla, Queen of the Desert, The (1994)': 3.0,\n",
              " 'Raging Bull (1980)': 3.0,\n",
              " 'Batman & Robin (1997)': 4.0,\n",
              " 'Babe (1995)': 5.0,\n",
              " 'Raising Arizona (1987)': 3.0,\n",
              " 'Cliffhanger (1993)': 3.0,\n",
              " 'Top Gun (1986)': 5.0,\n",
              " 'Endless Summer 2, The (1994)': 3.0,\n",
              " 'Barcelona (1994)': 3.0,\n",
              " 'Twister (1996)': 4.0,\n",
              " 'Evil Dead II (1987)': 2.0,\n",
              " 'Sleepers (1996)': 4.0,\n",
              " 'Striptease (1996)': 2.0,\n",
              " 'Get Shorty (1995)': 5.0,\n",
              " 'So I Married an Axe Murderer (1993)': 2.0,\n",
              " 'Mission: Impossible (1996)': 4.0,\n",
              " 'Wizard of Oz, The (1939)': 5.0,\n",
              " 'Baby-Sitters Club, The (1995)': 2.0,\n",
              " 'When Harry Met Sally... (1989)': 5.0,\n",
              " 'Mother (1996)': 2.0,\n",
              " 'Star Trek IV: The Voyage Home (1986)': 5.0,\n",
              " 'Swimming with Sharks (1995)': 3.0,\n",
              " 'Net, The (1995)': 5.0,\n",
              " 'Private Benjamin (1980)': 4.0,\n",
              " 'Fargo (1996)': 5.0,\n",
              " 'Dumb & Dumber (1994)': 4.0,\n",
              " 'Stargate (1994)': 5.0,\n",
              " \"City Slickers II: The Legend of Curly's Gold (1994)\": 3.0,\n",
              " 'Hoop Dreams (1994)': 4.0,\n",
              " 'Young Guns (1988)': 3.0,\n",
              " 'Groundhog Day (1993)': 5.0,\n",
              " 'Bridge on the River Kwai, The (1957)': 5.0,\n",
              " 'Braveheart (1995)': 4.0,\n",
              " 'Vegas Vacation (1997)': 4.0,\n",
              " 'Michael (1996)': 4.0,\n",
              " 'Star Trek: The Wrath of Khan (1982)': 5.0,\n",
              " 'Muppet Treasure Island (1996)': 3.0,\n",
              " 'Nine Months (1995)': 4.0,\n",
              " 'Die Hard (1988)': 4.0,\n",
              " 'Bananas (1971)': 5.0,\n",
              " 'Forget Paris (1995)': 4.0,\n",
              " 'French Kiss (1995)': 5.0,\n",
              " 'Truth About Cats & Dogs, The (1996)': 4.0,\n",
              " 'Empire Strikes Back, The (1980)': 5.0,\n",
              " 'Dunston Checks In (1996)': 1.0,\n",
              " 'Star Trek: The Motion Picture (1979)': 3.0,\n",
              " 'Return of the Jedi (1983)': 5.0,\n",
              " 'Manchurian Candidate, The (1962)': 4.0,\n",
              " 'River Wild, The (1994)': 4.0,\n",
              " 'House Arrest (1996)': 3.0,\n",
              " 'Milk Money (1994)': 4.0,\n",
              " 'Godfather, The (1972)': 4.0,\n",
              " 'Low Down Dirty Shame, A (1994)': 3.0,\n",
              " 'Butch Cassidy and the Sundance Kid (1969)': 5.0,\n",
              " 'Wyatt Earp (1994)': 3.0,\n",
              " 'Star Wars (1977)': 5.0,\n",
              " 'To Kill a Mockingbird (1962)': 4.0,\n",
              " 'Magnificent Seven, The (1954)': 5.0,\n",
              " 'Back to the Future (1985)': 5.0,\n",
              " 'Hot Shots! Part Deux (1993)': 4.0,\n",
              " 'Great White Hype, The (1996)': 3.0,\n",
              " \"Dante's Peak (1997)\": 3.0,\n",
              " 'Matilda (1996)': 3.0,\n",
              " 'Junior (1994)': 4.0,\n",
              " 'Blade Runner (1982)': 4.0,\n",
              " 'Mars Attacks! (1996)': 3.0,\n",
              " 'My Favorite Year (1982)': 3.0,\n",
              " 'Broken Arrow (1996)': 3.0,\n",
              " 'Young Guns II (1990)': 2.0,\n",
              " 'Terminator, The (1984)': 5.0,\n",
              " 'Fish Called Wanda, A (1988)': 5.0,\n",
              " 'Down Periscope (1996)': 4.0,\n",
              " 'Hard Target (1993)': 4.0,\n",
              " 'Ed Wood (1994)': 3.0,\n",
              " 'Demolition Man (1993)': 3.0,\n",
              " 'Mask, The (1994)': 3.0,\n",
              " 'E.T. the Extra-Terrestrial (1982)': 3.0,\n",
              " 'Coneheads (1993)': 4.0,\n",
              " 'Man of the House (1995)': 3.0,\n",
              " 'That Thing You Do! (1996)': 4.0,\n",
              " 'Strictly Ballroom (1992)': 3.0,\n",
              " \"It's a Wonderful Life (1946)\": 5.0,\n",
              " 'Annie Hall (1977)': 4.0,\n",
              " 'Dragonheart (1996)': 4.0,\n",
              " 'Renaissance Man (1994)': 5.0,\n",
              " 'Kingpin (1996)': 4.0,\n",
              " 'In the Army Now (1994)': 4.0,\n",
              " 'Mighty Aphrodite (1995)': 3.0,\n",
              " \"Weekend at Bernie's (1989)\": 3.0,\n",
              " 'Clockwork Orange, A (1971)': 4.0,\n",
              " 'Heat (1995)': 3.0,\n",
              " 'Addicted to Love (1997)': 4.0,\n",
              " 'Program, The (1993)': 3.0,\n",
              " 'Grumpier Old Men (1995)': 4.0,\n",
              " 'Bad Boys (1995)': 4.0,\n",
              " 'American President, The (1995)': 5.0,\n",
              " 'Grease (1978)': 4.0,\n",
              " 'Full Metal Jacket (1987)': 4.0,\n",
              " 'Air Up There, The (1994)': 3.0,\n",
              " 'Home Alone (1990)': 4.0,\n",
              " 'Jimmy Hollywood (1994)': 3.0,\n",
              " 'I.Q. (1994)': 5.0,\n",
              " 'First Wives Club, The (1996)': 2.0,\n",
              " 'Boomerang (1992)': 3.0,\n",
              " 'Heathers (1989)': 3.0,\n",
              " 'While You Were Sleeping (1995)': 5.0,\n",
              " 'Star Trek: First Contact (1996)': 4.0,\n",
              " 'Independence Day (ID4) (1996)': 5.0,\n",
              " 'Lost World: Jurassic Park, The (1997)': 3.0,\n",
              " 'Raiders of the Lost Ark (1981)': 5.0,\n",
              " 'To Die For (1995)': 3.0,\n",
              " 'I Love Trouble (1994)': 3.0,\n",
              " 'Citizen Kane (1941)': 4.0,\n",
              " 'Sleeper (1973)': 4.0,\n",
              " 'Quiet Man, The (1952)': 5.0,\n",
              " 'Sting, The (1973)': 5.0,\n",
              " 'Up in Smoke (1978)': 3.0,\n",
              " 'Executive Decision (1996)': 3.0,\n",
              " 'Jeffrey (1995)': 3.0,\n",
              " 'Inkwell, The (1994)': 3.0,\n",
              " 'Serial Mom (1994)': 1.0,\n",
              " 'Pulp Fiction (1994)': 4.0,\n",
              " 'Supercop (1992)': 3.0,\n",
              " 'Major Payne (1994)': 3.0,\n",
              " 'Big Squeeze, The (1996)': 2.0,\n",
              " 'Days of Thunder (1990)': 5.0,\n",
              " 'Apocalypse Now (1979)': 4.0}"
            ]
          },
          "metadata": {},
          "execution_count": 35
        }
      ],
      "source": [
        "prefs['87']"
      ]
    },
    {
      "cell_type": "code",
      "execution_count": 36,
      "metadata": {
        "id": "Jt_YCGei_mJs",
        "outputId": "85074e37-e8f2-4c35-ebc9-1e8bda23a6e1",
        "colab": {
          "base_uri": "https://localhost:8080/"
        }
      },
      "outputs": [
        {
          "output_type": "execute_result",
          "data": {
            "text/plain": [
              "210"
            ]
          },
          "metadata": {},
          "execution_count": 36
        }
      ],
      "source": [
        "len(prefs['87'])"
      ]
    },
    {
      "cell_type": "code",
      "execution_count": 37,
      "metadata": {
        "scrolled": true,
        "id": "mzLxyHSZ_mJs",
        "outputId": "d6ec20ad-4c89-4809-e748-3ad45b1f4203",
        "colab": {
          "base_uri": "https://localhost:8080/"
        }
      },
      "outputs": [
        {
          "output_type": "execute_result",
          "data": {
            "text/plain": [
              "[(5.0, 'They Made Me a Criminal (1939)'),\n",
              " (5.0, 'Star Kid (1997)'),\n",
              " (5.0, 'Santa with Muscles (1996)'),\n",
              " (5.0, 'Saint of Fort Washington, The (1993)'),\n",
              " (5.0, 'Marlene Dietrich: Shadow and Light (1996) '),\n",
              " (5.0, 'Great Day in Harlem, A (1994)')]"
            ]
          },
          "metadata": {},
          "execution_count": 37
        }
      ],
      "source": [
        "getRecommendations(prefs,'87')[0:6]"
      ]
    },
    {
      "cell_type": "code",
      "execution_count": 38,
      "metadata": {
        "id": "bE4-veX1_mJs"
      },
      "outputs": [],
      "source": [
        "itemsim=calculateSimilarItems(prefs,n=50)"
      ]
    },
    {
      "cell_type": "code",
      "execution_count": 39,
      "metadata": {
        "id": "QCyoQMnV_mJt",
        "outputId": "086c2f4e-cfe1-418b-8f07-f6375d152d05",
        "colab": {
          "base_uri": "https://localhost:8080/"
        }
      },
      "outputs": [
        {
          "output_type": "execute_result",
          "data": {
            "text/plain": [
              "[(1.0, 'Wonderland (1997)'),\n",
              " (1.0, 'Spice World (1997)'),\n",
              " (1.0, 'Sphere (1998)'),\n",
              " (1.0, 'Spawn (1997)'),\n",
              " (1.0, 'Shooting Fish (1997)'),\n",
              " (1.0, 'Shadow Conspiracy (1997)'),\n",
              " (1.0, 'Replacement Killers, The (1998)'),\n",
              " (1.0, 'Red Corner (1997)'),\n",
              " (1.0, 'Prophecy II, The (1998)'),\n",
              " (1.0, 'Playing God (1997)'),\n",
              " (1.0, 'Peacemaker, The (1997)'),\n",
              " (1.0, 'Murder at 1600 (1997)'),\n",
              " (1.0, 'Mortal Kombat: Annihilation (1997)'),\n",
              " (1.0, 'Magic Hour, The (1998)'),\n",
              " (1.0, 'Leading Man, The (1996)'),\n",
              " (1.0, 'Kull the Conqueror (1997)'),\n",
              " (1.0, 'Kicked in the Head (1997)'),\n",
              " (1.0, 'Jackal, The (1997)'),\n",
              " (1.0, 'Hugo Pool (1997)'),\n",
              " (1.0, 'How to Be a Player (1997)'),\n",
              " (1.0, 'Half Baked (1998)'),\n",
              " (1.0, 'Good Will Hunting (1997)'),\n",
              " (1.0, 'Four Days in September (1997)'),\n",
              " (1.0, 'Fire Down Below (1997)'),\n",
              " (1.0, 'Fast, Cheap & Out of Control (1997)'),\n",
              " (1.0, 'Fallen (1998)'),\n",
              " (1.0, 'Edge, The (1997)'),\n",
              " (1.0, 'Duoluo tianshi (1995)'),\n",
              " (1.0, 'Desperate Measures (1998)'),\n",
              " (1.0, \"Dante's Peak (1997)\"),\n",
              " (1.0, 'Dangerous Beauty (1998)'),\n",
              " (1.0, 'Assignment, The (1997)'),\n",
              " (1.0, 'As Good As It Gets (1997)'),\n",
              " (1.0, 'Apt Pupil (1998)'),\n",
              " (1.0, 'Amistad (1997)'),\n",
              " (1.0, 'Alien: Resurrection (1997)'),\n",
              " (1.0, 'Afterglow (1997)'),\n",
              " (0.5, 'Wings of the Dove, The (1997)'),\n",
              " (0.5, 'Volcano (1997)'),\n",
              " (0.5, \"Ulee's Gold (1997)\"),\n",
              " (0.5, 'U Turn (1997)'),\n",
              " (0.5, 'Tomorrow Never Dies (1997)'),\n",
              " (0.5, 'Tokyo Fist (1995)'),\n",
              " (0.5, 'Rosewood (1997)'),\n",
              " (0.5, 'Rainmaker, The (1997)'),\n",
              " (0.5, 'Phantoms (1998)'),\n",
              " (0.5, 'Night Flier (1997)'),\n",
              " (0.5, 'Mouse Hunt (1997)'),\n",
              " (0.5, 'MatchMaker, The (1997)'),\n",
              " (0.5, 'L.A. Confidential (1997)')]"
            ]
          },
          "metadata": {},
          "execution_count": 39
        }
      ],
      "source": [
        "itemsim['Star Kid (1997)']"
      ]
    },
    {
      "cell_type": "code",
      "execution_count": 40,
      "metadata": {
        "id": "m_ASU8_z_mJt",
        "outputId": "8df43ec1-63d1-423b-b0b3-d249db93856b",
        "colab": {
          "base_uri": "https://localhost:8080/"
        }
      },
      "outputs": [
        {
          "output_type": "execute_result",
          "data": {
            "text/plain": [
              "[(5.0, \"What's Eating Gilbert Grape (1993)\"),\n",
              " (5.0, 'Vertigo (1958)'),\n",
              " (5.0, 'Usual Suspects, The (1995)'),\n",
              " (5.0, 'Toy Story (1995)'),\n",
              " (5.0, 'Titanic (1997)'),\n",
              " (5.0, 'Sword in the Stone, The (1963)'),\n",
              " (5.0, 'Stand by Me (1986)'),\n",
              " (5.0, 'Sling Blade (1996)'),\n",
              " (5.0, 'Silence of the Lambs, The (1991)'),\n",
              " (5.0, 'Shining, The (1980)'),\n",
              " (5.0, 'Shine (1996)'),\n",
              " (5.0, 'Sense and Sensibility (1995)'),\n",
              " (5.0, 'Scream (1996)'),\n",
              " (5.0, 'Rumble in the Bronx (1995)'),\n",
              " (5.0, 'Rock, The (1996)'),\n",
              " (5.0, 'Robin Hood: Prince of Thieves (1991)'),\n",
              " (5.0, 'Reservoir Dogs (1992)'),\n",
              " (5.0, 'Police Story 4: Project S (Chao ji ji hua) (1993)'),\n",
              " (5.0, 'House of the Spirits, The (1993)'),\n",
              " (5.0, 'Fresh (1994)'),\n",
              " (5.0, 'Denise Calls Up (1995)'),\n",
              " (5.0, 'Day the Sun Turned Cold, The (Tianguo niezi) (1994)'),\n",
              " (5.0, 'Before the Rain (Pred dozhdot) (1994)'),\n",
              " (5.0, 'Assignment, The (1997)'),\n",
              " (5.0, '1-900 (1994)'),\n",
              " (4.875, \"Ed's Next Move (1996)\"),\n",
              " (4.833333333333333, 'Anna (1996)'),\n",
              " (4.8, 'Dark City (1998)'),\n",
              " (4.75, 'Flower of My Secret, The (Flor de mi secreto, La) (1995)'),\n",
              " (4.75, 'Broken English (1996)')]"
            ]
          },
          "metadata": {},
          "execution_count": 40
        }
      ],
      "source": [
        "getRecommendedItems(prefs,itemsim,'87')[0:30]"
      ]
    },
    {
      "cell_type": "code",
      "execution_count": 41,
      "metadata": {
        "id": "JpcHOMdF_mJt"
      },
      "outputs": [],
      "source": [
        "setIB=set([t[1] for t in  getRecommendedItems(prefs,itemsim,'87')[0:30]])"
      ]
    },
    {
      "cell_type": "code",
      "execution_count": 42,
      "metadata": {
        "id": "h_ycc0n8_mJt"
      },
      "outputs": [],
      "source": [
        "setUB=set([t[1] for t in getRecommendations(prefs,'87')[0:30]])\n"
      ]
    },
    {
      "cell_type": "code",
      "execution_count": 43,
      "metadata": {
        "id": "m4aB_rdB_mJt",
        "outputId": "361b7f6d-3893-4fbc-8db2-adab8f517fd0",
        "colab": {
          "base_uri": "https://localhost:8080/"
        }
      },
      "outputs": [
        {
          "output_type": "execute_result",
          "data": {
            "text/plain": [
              "{'Anna (1996)', 'Usual Suspects, The (1995)'}"
            ]
          },
          "metadata": {},
          "execution_count": 43
        }
      ],
      "source": [
        "setIB.intersection(setUB)"
      ]
    },
    {
      "cell_type": "markdown",
      "metadata": {
        "id": "wW_kvpo__mJt"
      },
      "source": [
        "# Homework 2 (RecSys). Comparison of User-based and Item-based approaches\n",
        "\n",
        "1. Implement MAE  and RMSE errors' estimators for [Movie Lens](http://grouplens.org/datasets/movielens/) data with 100,000 ratings.  \n",
        "As a training set you need a file with .base extension, but a testing set has extension .test: the pairs of files u1.base and u1.test, ..., u5.base and u5.test. Each such pair is the 80%/20% random split of the input data for all users $u$ into test and training sets.\n",
        "2. For each method (user-based and item-based) plot MAE and RMSE dependence by the number of neighbours  in a range from 1 to 100 with a reasonable step.\n",
        "3. If you are not satisfied with your prediction quality (MAE>1.0), then try formulas 2.6 and 2.7 from the review http://files.grouplens.org/papers/FnT%20CF%20Recsys%20Survey.pdf.\n",
        "\n",
        "There are alternative formulas: $r_{u,i} = k\\sum\\limits_{u^\\prime \\in U}\\operatorname{sim}(u,u^\\prime)r_{u^\\prime, i} \\mbox{ (the case of user-based model):}$\n",
        "$$r_{u,i} = \\frac{1}{N}\\sum\\limits_{u^\\prime \\in U}r_{u^\\prime, i}$$\n",
        "$$r_{u,i} = \\bar{r_u} +  k\\sum\\limits_{u^\\prime \\in U} sim(u,u^\\prime)(r_{u^\\prime, i}-\\bar{r_{u^\\prime}} ) \\mbox{, где } k =1/\\sum_{u^\\prime \\in U}|\\operatorname{sim}(u,u^\\prime)|.$$\n",
        "\n",
        "4. Compare the results as in 1 and 2. \n",
        "\n",
        "5. How MAE (RMSE) varies by the top-n size: $n \\in \\{1,3,5,10,15,20,30,40,50,100\\}$? \n",
        "\n",
        "6. Which movies are recommended more often -- popular with high ratings or rare ones (i.e. with low number of ratings) with high ratings?\n",
        "\n",
        "7. What to do if the neigbourhood (similar users or items to a target user or a certain item) is too small? How to evaluate the confidence of such recommendations? \n",
        "\n",
        "8. *Auxiliary.* How different are top-n list for user-based and item-based methods. Try to improve the results by grid search on $\\beta$ parameter for MAE (RMSE) minimisation in hybrid recommendations depending on the number of neighbours (or top-n size):\n",
        "$$\\beta\\cdot r^{user-based}_{ui} + (1-\\beta)\\cdot r^{item-based}_{ui}, \\mbox{ where } 0 \\leq \\beta \\leq 1.$$ \n",
        "\n"
      ]
    },
    {
      "cell_type": "markdown",
      "source": [
        "Implemeting mae and rmse"
      ],
      "metadata": {
        "id": "EkoL-FOvcKeg"
      }
    },
    {
      "cell_type": "code",
      "source": [
        "import numpy as np"
      ],
      "metadata": {
        "id": "SYqFDvU_nrEZ"
      },
      "execution_count": 44,
      "outputs": []
    },
    {
      "cell_type": "code",
      "execution_count": 45,
      "metadata": {
        "collapsed": true,
        "id": "bLrhGRTo_mJu"
      },
      "outputs": [],
      "source": [
        "def mae(y_true, y_pred):\n",
        "    return np.abs(np.array(y_true) - np.array(y_pred)).mean()\n",
        "\n",
        "def rmse(y_true, y_pred):\n",
        "    return ((np.array(y_true) - np.array(y_pred)) ** 2).mean() ** .5 "
      ]
    },
    {
      "cell_type": "markdown",
      "source": [
        "Reading data (all splits)"
      ],
      "metadata": {
        "id": "JleogjHyebng"
      }
    },
    {
      "cell_type": "code",
      "source": [
        "def loadMovieLens(path='data/'):\n",
        "    # Get movie titles\n",
        "    movies={}\n",
        "    for line in open(path+'u.item'):\n",
        "        (id,title)=line.split('|')[0:2]\n",
        "        movies[id]=title\n",
        "\n",
        "    #Load data\n",
        "    prefs_train_list = []\n",
        "    prefs_test_list = []\n",
        "    for i in range(1, 6):\n",
        "\n",
        "        prefs_train = {}\n",
        "\n",
        "        for line in open(path+f'u{i}.base'):\n",
        "            (user,movieid,rating,ts)=line.split('\\t')\n",
        "            prefs_train.setdefault(user,{})\n",
        "            prefs_train[user][movies[movieid]]=float(rating)\n",
        "        \n",
        "        prefs_train_list.append(prefs_train)\n",
        "\n",
        "        prefs_test = {}\n",
        "\n",
        "        for line in open(path+f'u{i}.test'):\n",
        "            (user,movieid,rating,ts)=line.split('\\t')\n",
        "            prefs_test.setdefault(user,{})\n",
        "            prefs_test[user][movies[movieid]]=float(rating)\n",
        "        \n",
        "        prefs_test_list.append(prefs_test)\n",
        "\n",
        "    return prefs_train_list, prefs_test_list"
      ],
      "metadata": {
        "id": "bEnB-YIMb_44"
      },
      "execution_count": 46,
      "outputs": []
    },
    {
      "cell_type": "code",
      "source": [
        "prefs_train_list, prefs_test_list = loadMovieLens('')"
      ],
      "metadata": {
        "id": "raa9KDjVqFa5"
      },
      "execution_count": 47,
      "outputs": []
    },
    {
      "cell_type": "markdown",
      "source": [
        "Implemeting evaluation of item based approach. We just use splits we read. We train the \"model\" using train data and evaluate the model using test data. "
      ],
      "metadata": {
        "id": "p1GNzsaqfMGz"
      }
    },
    {
      "cell_type": "code",
      "source": [
        "def item_based_approach(prefs_train_list, prefs_test_list):\n",
        "    mae_scores = []\n",
        "    rmse_scores = []\n",
        "    ns = [1,3,5,10,15,20,30,40,50,100]\n",
        "    for n in ns:\n",
        "        split_mae = []\n",
        "        split_rmse = []\n",
        "        for i in range(1):\n",
        "\n",
        "            itemsim = calculateSimilarItems(prefs_train_list[i], n=n)\n",
        "            y_true = []\n",
        "            y_pred = []\n",
        "            for user in prefs_test_list[i].keys():\n",
        "                try:\n",
        "                    rec_items = getRecommendedItems(prefs_train_list[i], itemsim, user)\n",
        "                    rec_items = {v: k for k, v in rec_items}\n",
        "                    for k in rec_items.keys():\n",
        "                        if k in prefs_test_list[i][user].keys():\n",
        "                            y_true.append(prefs_test_list[i][user][k])\n",
        "                            y_pred.append(rec_items[k])\n",
        "                except:\n",
        "                    pass\n",
        "            split_mae.append(mae(y_true, y_pred))\n",
        "            split_rmse.append(rmse(y_true, y_pred))\n",
        "                    \n",
        "        mae_scores.append(np.mean(split_mae))\n",
        "        rmse_scores.append(np.mean(split_rmse))\n",
        "\n",
        "    return ns, mae_scores, rmse_scores"
      ],
      "metadata": {
        "id": "FFP8yR8chjqh"
      },
      "execution_count": 48,
      "outputs": []
    },
    {
      "cell_type": "markdown",
      "source": [
        "Implementing user-based approach. Here we do not have number of members parameter, so the results will be constant"
      ],
      "metadata": {
        "id": "KGzhhla1fuE7"
      }
    },
    {
      "cell_type": "code",
      "source": [
        "def user_based_approach(prefs_train_list, prefs_test_list):\n",
        "    mae_scores = []\n",
        "    rmse_scores = []\n",
        "    ns = [1,3,5,10,15,20,30,40,50,100]\n",
        "    for n in ns:\n",
        "        split_mae = []\n",
        "        split_rmse = []\n",
        "        for i in range(1):\n",
        "            y_true = []\n",
        "            y_pred = []\n",
        "            for user in prefs_test_list[i].keys():\n",
        "                try:\n",
        "                    rec_items = getRecommendations(prefs_train_list[i], user)\n",
        "                    rec_items = {v: k for k, v in rec_items}\n",
        "                    for k in rec_items.keys():\n",
        "                        if k in prefs_test_list[i][user].keys():\n",
        "                            y_true.append(prefs_test_list[i][user][k])\n",
        "                            y_pred.append(rec_items[k])\n",
        "                except:\n",
        "                    pass\n",
        "            split_mae.append(mae(y_true, y_pred))\n",
        "            split_rmse.append(rmse(y_true, y_pred))\n",
        "                    \n",
        "        mae_scores.append(np.mean(split_mae))\n",
        "        rmse_scores.append(np.mean(split_rmse))\n",
        "\n",
        "    return ns, mae_scores, rmse_scores"
      ],
      "metadata": {
        "id": "RtUjnjs9Kv2a"
      },
      "execution_count": 49,
      "outputs": []
    },
    {
      "cell_type": "code",
      "source": [
        "ns_i, mae_i, rmse_i = item_based_approach(prefs_train_list, prefs_test_list)"
      ],
      "metadata": {
        "id": "TD-WZApgqNyI"
      },
      "execution_count": 50,
      "outputs": []
    },
    {
      "cell_type": "code",
      "source": [
        "ns_u, mae_u, rmse_u = user_based_approach(prefs_train_list, prefs_test_list)"
      ],
      "metadata": {
        "id": "ZDL5jTdWKtF7"
      },
      "execution_count": 51,
      "outputs": []
    },
    {
      "cell_type": "markdown",
      "source": [
        "Plotting dependences"
      ],
      "metadata": {
        "id": "87sroGnhhhS7"
      }
    },
    {
      "cell_type": "code",
      "source": [
        "import matplotlib.pyplot as plt"
      ],
      "metadata": {
        "id": "iY37IDNhf_97"
      },
      "execution_count": 52,
      "outputs": []
    },
    {
      "cell_type": "code",
      "source": [
        "plt.plot(ns_i, mae_i, label='Item-based approach')\n",
        "plt.plot(ns_u, mae_u, label='User-based approach')\n",
        "plt.title('MAE')\n",
        "plt.legend()"
      ],
      "metadata": {
        "colab": {
          "base_uri": "https://localhost:8080/",
          "height": 298
        },
        "id": "vKtmoWwMgE1j",
        "outputId": "57d34cfd-aa0b-46b6-bf79-74ab9b8874ae"
      },
      "execution_count": 53,
      "outputs": [
        {
          "output_type": "execute_result",
          "data": {
            "text/plain": [
              "<matplotlib.legend.Legend at 0x7f5f2f0e3670>"
            ]
          },
          "metadata": {},
          "execution_count": 53
        },
        {
          "output_type": "display_data",
          "data": {
            "text/plain": [
              "<Figure size 432x288 with 1 Axes>"
            ],
            "image/png": "[encoded data removed]"
          },
          "metadata": {
            "needs_background": "light"
          }
        }
      ]
    },
    {
      "cell_type": "code",
      "source": [
        "plt.plot(ns_i, rmse_i, label='Item-based approach')\n",
        "plt.plot(ns_u, rmse_u, label='User-based approach')\n",
        "plt.title('RMSE')\n",
        "plt.legend()"
      ],
      "metadata": {
        "colab": {
          "base_uri": "https://localhost:8080/",
          "height": 298
        },
        "id": "G528K3RDgalK",
        "outputId": "63da88e0-b66a-42b7-c80d-960fe565faca"
      },
      "execution_count": 54,
      "outputs": [
        {
          "output_type": "execute_result",
          "data": {
            "text/plain": [
              "<matplotlib.legend.Legend at 0x7f5f2cbb6970>"
            ]
          },
          "metadata": {},
          "execution_count": 54
        },
        {
          "output_type": "display_data",
          "data": {
            "text/plain": [
              "<Figure size 432x288 with 1 Axes>"
            ],
            "image/png": "[encoded data removed]"
          },
          "metadata": {
            "needs_background": "light"
          }
        }
      ]
    },
    {
      "cell_type": "markdown",
      "source": [
        "As we can see\n",
        "1. User-based approach is better\n",
        "2. Metrics decrease if the number of neighbors increases"
      ],
      "metadata": {
        "id": "VuQhHqxSiZ2r"
      }
    },
    {
      "cell_type": "markdown",
      "source": [
        "Let's check what films (rare or popular) do we recommend most (in user-based approach)"
      ],
      "metadata": {
        "id": "NCfvWI1skZ1E"
      }
    },
    {
      "cell_type": "code",
      "source": [
        "from collections import defaultdict\n",
        "def user_based_film_counter(prefs_train_list):\n",
        "    rare_count = 0\n",
        "    popular_count = 0\n",
        "    full_count = 0\n",
        "\n",
        "    counts = defaultdict(int)\n",
        "    for user in prefs_test_list[0].keys():\n",
        "        for movie in prefs_test_list[0][user].keys():\n",
        "            counts[movie] += 1\n",
        "\n",
        "    for user in prefs_test_list[0].keys():\n",
        "        rec_items = getRecommendations(prefs_train_list[0], user)[:5] #top 5 films\n",
        "        rec_items = {v: k for k, v in rec_items}\n",
        "        full_count += 5\n",
        "        for rec_item in rec_items.keys():\n",
        "            if counts[rec_item] > 20:\n",
        "                popular_count += 1\n",
        "            elif counts[rec_item] < 5:\n",
        "                rare_count += 1\n",
        "\n",
        "    print(f'Percent of rare (< 5 reviews) movies for top 5 recomendations: {rare_count / full_count * 100}%')\n",
        "    print(f'Percent of popular (> 20 reviews) movies for top 5 recomendations: {popular_count / full_count * 100}%')\n",
        "user_based_film_counter(prefs_train_list)"
      ],
      "metadata": {
        "colab": {
          "base_uri": "https://localhost:8080/"
        },
        "id": "-87ne-J_ioSD",
        "outputId": "15345559-9d53-4ade-e44a-582a87c822dd"
      },
      "execution_count": 55,
      "outputs": [
        {
          "output_type": "stream",
          "name": "stdout",
          "text": [
            "Percent of rare (< 5 reviews) movies for top 5 recomendations: 97.42919389978213%\n",
            "Percent of popular (> 20 reviews) movies for top 5 recomendations: 0.0%\n"
          ]
        }
      ]
    },
    {
      "cell_type": "markdown",
      "source": [
        "The same for item-based approach"
      ],
      "metadata": {
        "id": "nbIWnzrtodW6"
      }
    },
    {
      "cell_type": "code",
      "source": [
        "def item_based_film_counter(prefs_train_list):\n",
        "    rare_count = 0\n",
        "    popular_count = 0\n",
        "    full_count = 0\n",
        "\n",
        "    counts = defaultdict(int)\n",
        "    for user in prefs_test_list[0].keys():\n",
        "        for movie in prefs_test_list[0][user].keys():\n",
        "            counts[movie] += 1\n",
        "        \n",
        "    itemsim = calculateSimilarItems(prefs_train_list[0], n=100)\n",
        "    for user in prefs_test_list[0].keys():\n",
        "        rec_items = getRecommendedItems(prefs_train_list[0], itemsim, user)[:5] #top 5 films\n",
        "        rec_items = {v: k for k, v in rec_items}\n",
        "        full_count += 5\n",
        "        for rec_item in rec_items.keys():\n",
        "            if counts[rec_item] > 20:\n",
        "                popular_count += 1\n",
        "            elif counts[rec_item] < 5:\n",
        "                rare_count += 1\n",
        "\n",
        "    print(f'Percent of rare (< 5 reviews) movies for top 5 recomendations: {rare_count / full_count * 100}%')\n",
        "    print(f'Percent of popular (> 20 reviews) movies for top 5 recomendations: {popular_count / full_count * 100}%')\n",
        "item_based_film_counter(prefs_train_list)"
      ],
      "metadata": {
        "colab": {
          "base_uri": "https://localhost:8080/"
        },
        "id": "B8mmlP0soHv0",
        "outputId": "04e36d84-2229-4163-eca8-9f64647119a5"
      },
      "execution_count": 56,
      "outputs": [
        {
          "output_type": "stream",
          "name": "stdout",
          "text": [
            "Percent of rare (< 5 reviews) movies for top 5 recomendations: 45.70806100217865%\n",
            "Percent of popular (> 20 reviews) movies for top 5 recomendations: 13.594771241830065%\n"
          ]
        }
      ]
    },
    {
      "cell_type": "markdown",
      "source": [
        "As you can see, we mostly recommend rare movies. I think this is because almost all users have watched popular films. But user-based approach recommends rare movies almost everytime and no popular movies at all, while item-based approach can recommend both rare and popular movies, so I think it is just better"
      ],
      "metadata": {
        "id": "_nFwkfWDq4PM"
      }
    },
    {
      "cell_type": "markdown",
      "source": [
        "Q: What to do if the neigbourhood (similar users or items to a target user or a certain item) is too small? How to evaluate the confidence of such recommendations?\n",
        "\n",
        "A: We can calculate the ratio of such small neighborhoods among all neighborhoods and use this ratio as confidence level of recommendations."
      ],
      "metadata": {
        "id": "WFhMBCx0rGKD"
      }
    }
  ],
  "metadata": {
    "kernelspec": {
      "display_name": "Python 3",
      "language": "python",
      "name": "python3"
    },
    "language_info": {
      "codemirror_mode": {
        "name": "ipython",
        "version": 3
      },
      "file_extension": ".py",
      "mimetype": "text/x-python",
      "name": "python",
      "nbconvert_exporter": "python",
      "pygments_lexer": "ipython3",
      "version": "3.8.8"
    },
    "name": "lesson11_recsys.ipynb",
    "colab": {
      "provenance": [],
      "include_colab_link": true
    }
  },
  "nbformat": 4,
  "nbformat_minor": 0
}