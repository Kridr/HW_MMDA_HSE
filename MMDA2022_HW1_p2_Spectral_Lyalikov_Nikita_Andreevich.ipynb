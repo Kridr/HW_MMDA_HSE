{
  "cells": [
    {
      "cell_type": "markdown",
      "metadata": {
        "id": "view-in-github",
        "colab_type": "text"
      },
      "source": [
        "<a href=\"https://colab.research.google.com/github/Kridr/HW_MMDA_HSE/blob/main/MMDA2022_HW1_p2_Spectral_Lyalikov_Nikita_Andreevich.ipynb\" target=\"_parent\"><img src=\"https://colab.research.google.com/assets/colab-badge.svg\" alt=\"Open In Colab\"/></a>"
      ]
    },
    {
      "cell_type": "markdown",
      "metadata": {
        "id": "W7b8yd6V_jB4"
      },
      "source": [
        "# Homework 2 (Part 2): Spectral clustering\n"
      ]
    },
    {
      "cell_type": "markdown",
      "metadata": {
        "id": "8ZoDISAY_jB5"
      },
      "source": [
        "<span style=\"color: red; font-size: 14pt\">Soft deadline: 15.12.2022</span>\n",
        "\n",
        "<span style=\"color: red; font-size: 14pt\">Hard deadline: 16.12.2022 </span>"
      ]
    },
    {
      "cell_type": "markdown",
      "metadata": {
        "id": "AOuLEWCx_jB6"
      },
      "source": [
        "**Requirements**: \n",
        "\n",
        "- The report shoulbe in a file: ``MMDA2022-HW1-p2-Spectral_<your_full_name>.ipynb``;\n",
        "- It should be sent to dmitrii.ignatov@gmail.com (Dmitry Ignatov: the lecturer) and futurelifestefan@gmail.com (Stefan Nikolić: TA) with the topic [MMDA2022-HW1-p2-Spectral]-your_full_name.\n",
        "\n",
        "\n"
      ]
    },
    {
      "cell_type": "code",
      "execution_count": 1,
      "metadata": {
        "id": "zEjMle2E_jB7"
      },
      "outputs": [],
      "source": [
        "import numpy as np\n",
        "import pandas as pd\n",
        "import matplotlib.pyplot as plt\n",
        "\n",
        "%matplotlib inline"
      ]
    },
    {
      "cell_type": "markdown",
      "metadata": {
        "id": "iMLklZJl_jB-"
      },
      "source": [
        "In this exercise we follow graph clustering example from David Gleich's tutorial: https://www.dropbox.com/s/w06niyzfe2r8y90/tutorial.pdf?dl=0."
      ]
    },
    {
      "cell_type": "markdown",
      "metadata": {
        "id": "kxgoE3XV_jCA"
      },
      "source": [
        "### 1 (Warm up). Finding a partition (0%)\n",
        "Generate a graph repsresnted by its adjecency matrix that consists of two communities."
      ]
    },
    {
      "cell_type": "code",
      "execution_count": 2,
      "metadata": {
        "id": "pFt1ZGPZ_jCA"
      },
      "outputs": [],
      "source": [
        "# the number of vertices\n",
        "# (each vertex is an individual actor, for example, a person with certain political views, e.g. republican or democrat\n",
        "\n",
        "n = 1000\n",
        "\n",
        "# an array of n vertices\n",
        "x = np.arange(n)\n",
        "\n",
        "# random permutations\n",
        "np.random.shuffle(x)\n",
        "\n",
        "# the size of the first group\n",
        "gs = 450\n",
        "\n",
        "# let us select gs group members to the first group\n",
        "group1 = x[:gs]\n",
        "\n",
        "# and n-gs representatives to the second one\n",
        "group2 = x[gs:]\n",
        "\n",
        "# the probability of connection within the first group\n",
        "p_group1 = 0.5\n",
        "\n",
        "# the probability of connection within the second group\n",
        "p_group2 = 0.4\n",
        "\n",
        "# intergroup connections\n",
        "p_between = 0.1\n",
        "\n",
        "# initialistion of the adjacency matrix nxn\n",
        "A = np.zeros([n, n])"
      ]
    },
    {
      "cell_type": "code",
      "execution_count": 3,
      "metadata": {
        "id": "YWm_V9rK_OhA"
      },
      "outputs": [],
      "source": [
        "n = 1000"
      ]
    },
    {
      "cell_type": "code",
      "execution_count": 4,
      "metadata": {
        "id": "cTMFISrT_OhB"
      },
      "outputs": [],
      "source": [
        "x = np.arange(n)"
      ]
    },
    {
      "cell_type": "code",
      "execution_count": 5,
      "metadata": {
        "id": "sYwQGhgN_OhB",
        "outputId": "cfeba375-2b19-4135-a49f-59e9c1241e53",
        "colab": {
          "base_uri": "https://localhost:8080/"
        }
      },
      "outputs": [
        {
          "output_type": "execute_result",
          "data": {
            "text/plain": [
              "array([  0,   1,   2,   3,   4,   5,   6,   7,   8,   9,  10,  11,  12,\n",
              "        13,  14,  15,  16,  17,  18,  19,  20,  21,  22,  23,  24,  25,\n",
              "        26,  27,  28,  29,  30,  31,  32,  33,  34,  35,  36,  37,  38,\n",
              "        39,  40,  41,  42,  43,  44,  45,  46,  47,  48,  49,  50,  51,\n",
              "        52,  53,  54,  55,  56,  57,  58,  59,  60,  61,  62,  63,  64,\n",
              "        65,  66,  67,  68,  69,  70,  71,  72,  73,  74,  75,  76,  77,\n",
              "        78,  79,  80,  81,  82,  83,  84,  85,  86,  87,  88,  89,  90,\n",
              "        91,  92,  93,  94,  95,  96,  97,  98,  99, 100, 101, 102, 103,\n",
              "       104, 105, 106, 107, 108, 109, 110, 111, 112, 113, 114, 115, 116,\n",
              "       117, 118, 119, 120, 121, 122, 123, 124, 125, 126, 127, 128, 129,\n",
              "       130, 131, 132, 133, 134, 135, 136, 137, 138, 139, 140, 141, 142,\n",
              "       143, 144, 145, 146, 147, 148, 149, 150, 151, 152, 153, 154, 155,\n",
              "       156, 157, 158, 159, 160, 161, 162, 163, 164, 165, 166, 167, 168,\n",
              "       169, 170, 171, 172, 173, 174, 175, 176, 177, 178, 179, 180, 181,\n",
              "       182, 183, 184, 185, 186, 187, 188, 189, 190, 191, 192, 193, 194,\n",
              "       195, 196, 197, 198, 199, 200, 201, 202, 203, 204, 205, 206, 207,\n",
              "       208, 209, 210, 211, 212, 213, 214, 215, 216, 217, 218, 219, 220,\n",
              "       221, 222, 223, 224, 225, 226, 227, 228, 229, 230, 231, 232, 233,\n",
              "       234, 235, 236, 237, 238, 239, 240, 241, 242, 243, 244, 245, 246,\n",
              "       247, 248, 249, 250, 251, 252, 253, 254, 255, 256, 257, 258, 259,\n",
              "       260, 261, 262, 263, 264, 265, 266, 267, 268, 269, 270, 271, 272,\n",
              "       273, 274, 275, 276, 277, 278, 279, 280, 281, 282, 283, 284, 285,\n",
              "       286, 287, 288, 289, 290, 291, 292, 293, 294, 295, 296, 297, 298,\n",
              "       299, 300, 301, 302, 303, 304, 305, 306, 307, 308, 309, 310, 311,\n",
              "       312, 313, 314, 315, 316, 317, 318, 319, 320, 321, 322, 323, 324,\n",
              "       325, 326, 327, 328, 329, 330, 331, 332, 333, 334, 335, 336, 337,\n",
              "       338, 339, 340, 341, 342, 343, 344, 345, 346, 347, 348, 349, 350,\n",
              "       351, 352, 353, 354, 355, 356, 357, 358, 359, 360, 361, 362, 363,\n",
              "       364, 365, 366, 367, 368, 369, 370, 371, 372, 373, 374, 375, 376,\n",
              "       377, 378, 379, 380, 381, 382, 383, 384, 385, 386, 387, 388, 389,\n",
              "       390, 391, 392, 393, 394, 395, 396, 397, 398, 399, 400, 401, 402,\n",
              "       403, 404, 405, 406, 407, 408, 409, 410, 411, 412, 413, 414, 415,\n",
              "       416, 417, 418, 419, 420, 421, 422, 423, 424, 425, 426, 427, 428,\n",
              "       429, 430, 431, 432, 433, 434, 435, 436, 437, 438, 439, 440, 441,\n",
              "       442, 443, 444, 445, 446, 447, 448, 449, 450, 451, 452, 453, 454,\n",
              "       455, 456, 457, 458, 459, 460, 461, 462, 463, 464, 465, 466, 467,\n",
              "       468, 469, 470, 471, 472, 473, 474, 475, 476, 477, 478, 479, 480,\n",
              "       481, 482, 483, 484, 485, 486, 487, 488, 489, 490, 491, 492, 493,\n",
              "       494, 495, 496, 497, 498, 499, 500, 501, 502, 503, 504, 505, 506,\n",
              "       507, 508, 509, 510, 511, 512, 513, 514, 515, 516, 517, 518, 519,\n",
              "       520, 521, 522, 523, 524, 525, 526, 527, 528, 529, 530, 531, 532,\n",
              "       533, 534, 535, 536, 537, 538, 539, 540, 541, 542, 543, 544, 545,\n",
              "       546, 547, 548, 549, 550, 551, 552, 553, 554, 555, 556, 557, 558,\n",
              "       559, 560, 561, 562, 563, 564, 565, 566, 567, 568, 569, 570, 571,\n",
              "       572, 573, 574, 575, 576, 577, 578, 579, 580, 581, 582, 583, 584,\n",
              "       585, 586, 587, 588, 589, 590, 591, 592, 593, 594, 595, 596, 597,\n",
              "       598, 599, 600, 601, 602, 603, 604, 605, 606, 607, 608, 609, 610,\n",
              "       611, 612, 613, 614, 615, 616, 617, 618, 619, 620, 621, 622, 623,\n",
              "       624, 625, 626, 627, 628, 629, 630, 631, 632, 633, 634, 635, 636,\n",
              "       637, 638, 639, 640, 641, 642, 643, 644, 645, 646, 647, 648, 649,\n",
              "       650, 651, 652, 653, 654, 655, 656, 657, 658, 659, 660, 661, 662,\n",
              "       663, 664, 665, 666, 667, 668, 669, 670, 671, 672, 673, 674, 675,\n",
              "       676, 677, 678, 679, 680, 681, 682, 683, 684, 685, 686, 687, 688,\n",
              "       689, 690, 691, 692, 693, 694, 695, 696, 697, 698, 699, 700, 701,\n",
              "       702, 703, 704, 705, 706, 707, 708, 709, 710, 711, 712, 713, 714,\n",
              "       715, 716, 717, 718, 719, 720, 721, 722, 723, 724, 725, 726, 727,\n",
              "       728, 729, 730, 731, 732, 733, 734, 735, 736, 737, 738, 739, 740,\n",
              "       741, 742, 743, 744, 745, 746, 747, 748, 749, 750, 751, 752, 753,\n",
              "       754, 755, 756, 757, 758, 759, 760, 761, 762, 763, 764, 765, 766,\n",
              "       767, 768, 769, 770, 771, 772, 773, 774, 775, 776, 777, 778, 779,\n",
              "       780, 781, 782, 783, 784, 785, 786, 787, 788, 789, 790, 791, 792,\n",
              "       793, 794, 795, 796, 797, 798, 799, 800, 801, 802, 803, 804, 805,\n",
              "       806, 807, 808, 809, 810, 811, 812, 813, 814, 815, 816, 817, 818,\n",
              "       819, 820, 821, 822, 823, 824, 825, 826, 827, 828, 829, 830, 831,\n",
              "       832, 833, 834, 835, 836, 837, 838, 839, 840, 841, 842, 843, 844,\n",
              "       845, 846, 847, 848, 849, 850, 851, 852, 853, 854, 855, 856, 857,\n",
              "       858, 859, 860, 861, 862, 863, 864, 865, 866, 867, 868, 869, 870,\n",
              "       871, 872, 873, 874, 875, 876, 877, 878, 879, 880, 881, 882, 883,\n",
              "       884, 885, 886, 887, 888, 889, 890, 891, 892, 893, 894, 895, 896,\n",
              "       897, 898, 899, 900, 901, 902, 903, 904, 905, 906, 907, 908, 909,\n",
              "       910, 911, 912, 913, 914, 915, 916, 917, 918, 919, 920, 921, 922,\n",
              "       923, 924, 925, 926, 927, 928, 929, 930, 931, 932, 933, 934, 935,\n",
              "       936, 937, 938, 939, 940, 941, 942, 943, 944, 945, 946, 947, 948,\n",
              "       949, 950, 951, 952, 953, 954, 955, 956, 957, 958, 959, 960, 961,\n",
              "       962, 963, 964, 965, 966, 967, 968, 969, 970, 971, 972, 973, 974,\n",
              "       975, 976, 977, 978, 979, 980, 981, 982, 983, 984, 985, 986, 987,\n",
              "       988, 989, 990, 991, 992, 993, 994, 995, 996, 997, 998, 999])"
            ]
          },
          "metadata": {},
          "execution_count": 5
        }
      ],
      "source": [
        "x"
      ]
    },
    {
      "cell_type": "code",
      "execution_count": 6,
      "metadata": {
        "id": "afEORlIm_OhC"
      },
      "outputs": [],
      "source": [
        "np.random.shuffle(x)"
      ]
    },
    {
      "cell_type": "code",
      "execution_count": 7,
      "metadata": {
        "id": "y46ew5M8_OhC",
        "outputId": "e386de10-74f0-4edb-9b41-028f3cae050d",
        "colab": {
          "base_uri": "https://localhost:8080/"
        }
      },
      "outputs": [
        {
          "output_type": "execute_result",
          "data": {
            "text/plain": [
              "array([591, 840, 889, 300, 330, 862, 723,   0, 128, 739, 260, 495, 139,\n",
              "        66, 500, 396, 841,  68, 303, 384, 237, 530, 876, 703, 895, 817,\n",
              "       535, 380, 935, 946, 252, 566, 944, 347,  47, 222, 890, 420,  40,\n",
              "       164, 432, 843, 436, 917, 832, 462, 931, 298, 332, 491, 964, 618,\n",
              "       974, 859, 547, 205, 811, 835, 494, 434, 965, 178,   3, 400, 527,\n",
              "       736, 801, 182, 231, 827, 789, 356, 189, 170, 902, 770, 275, 914,\n",
              "       863, 472, 793, 216, 979, 140, 877, 868, 991, 131, 721, 625, 976,\n",
              "       799, 267, 136, 501, 745, 606, 782, 488, 941, 386, 115, 955, 604,\n",
              "       647, 397,  99,  19, 378, 697, 989, 498, 762, 925, 152, 117, 334,\n",
              "       312, 146, 111, 329, 730,  32, 582, 174, 600, 125, 728, 585,  91,\n",
              "       590, 912, 448, 308,  49, 924, 233, 437, 709, 702, 584, 572, 742,\n",
              "       102, 135, 854, 282, 492, 920,  53, 293,  70, 939, 230, 385, 855,\n",
              "       153, 711,  28, 390,  89, 689, 666, 601, 381, 746, 383, 279, 609,\n",
              "       885, 698, 531, 414, 923, 461, 905, 933, 455, 253, 653,   2, 852,\n",
              "       988, 713, 104, 413,  43, 228, 422, 497, 735, 204, 948, 847, 581,\n",
              "       734, 331, 184, 496, 208, 533, 268, 930, 255, 389, 197, 738,  60,\n",
              "        77, 357, 317, 215, 737, 345, 927, 785, 326, 475, 910, 463, 786,\n",
              "       477, 691, 392, 892, 177, 708, 851, 474, 416, 456,  29, 837, 156,\n",
              "       311, 874, 659, 161, 667, 725, 457, 787, 898, 517, 881, 619, 526,\n",
              "       615, 320, 480, 509, 515, 175, 671,  20,  33, 776,  85, 263,  93,\n",
              "       662, 342, 661, 433,  46, 639, 750, 682, 201, 251, 722,  55, 141,\n",
              "        72, 469, 483, 412,  61, 324, 869, 999, 468, 879, 544, 763,  31,\n",
              "       757,  36, 962, 402, 996, 438, 157, 819, 775, 880, 717, 779, 362,\n",
              "        56,  87, 514, 394, 410, 805, 354, 467, 198, 411, 701,   9, 226,\n",
              "       627, 183, 960,  24, 369, 431, 574, 159, 637, 894, 907, 489,  15,\n",
              "       163, 800, 916, 741, 951, 871, 114,  21, 812, 276,  57, 304, 206,\n",
              "       127, 223, 773, 644, 861, 239, 611,  92, 537, 355, 364,  27, 154,\n",
              "       715, 224, 913, 720, 860,  34,  18, 284, 753, 444, 505,  98,   6,\n",
              "        96, 258,  30, 791,  58, 940, 452, 629, 142,  25, 957, 838, 598,\n",
              "       803, 990, 399, 597, 148, 603, 864, 683, 620, 193, 511,  22, 145,\n",
              "       684, 540, 447, 650, 287,  37, 614, 283, 242,  71, 688, 155, 977,\n",
              "       203, 532, 588, 904, 321,  76, 579, 648, 624, 337, 219,  12, 853,\n",
              "       635, 747, 649, 295, 926, 593, 199, 797, 234, 238, 269, 289, 403,\n",
              "        48, 848, 897, 820,  81, 536, 731, 240, 510, 460, 795, 969, 271,\n",
              "       945, 676, 954, 887, 310, 522, 236, 424, 220, 599, 407, 487, 545,\n",
              "       592, 387,  41, 626, 486, 336, 822, 290, 395, 543, 921, 408, 909,\n",
              "       338, 323, 656, 248, 616, 351, 966, 908, 594,  78, 306, 470, 291,\n",
              "       610, 272, 578,  63, 162, 418, 743, 158, 994, 856, 502,  65, 937,\n",
              "       196, 249, 607, 428, 981, 250, 105, 274, 953,   7,   5, 346, 539,\n",
              "       573, 464, 783, 796, 928, 508, 829, 806, 328, 724, 401, 126, 358,\n",
              "       587, 973, 978, 513,  11, 858, 670, 576,  13, 270,  59, 520, 804,\n",
              "       707, 641, 285,  62, 246, 839,  97, 546, 168, 938, 443,  83,  88,\n",
              "       732, 344, 425, 541, 756, 315, 445, 899, 570, 261, 845, 984, 262,\n",
              "       318, 490, 834, 679, 613, 525, 784, 352, 348, 919, 493, 652, 998,\n",
              "       767,  84, 903, 677, 341, 542,  90, 559, 365, 873, 752, 244, 814,\n",
              "       404, 850, 363, 176,  45, 583, 569, 377, 997, 130, 794, 911, 961,\n",
              "       740, 628, 316, 133, 471, 108, 280, 118, 211, 949, 891, 901, 870,\n",
              "       759, 419, 952, 518, 106, 816, 446, 872, 278,  74, 972, 426, 379,\n",
              "       288, 297, 454, 555, 147, 833, 589, 307, 327, 107, 660, 896, 986,\n",
              "        67, 551, 754,  54, 180, 631, 186, 992, 257, 374, 299, 449, 716,\n",
              "       167, 993, 595, 669, 751, 232, 214, 209, 802, 963, 417, 134, 586,\n",
              "       674,  94, 350, 113, 932, 427, 534, 893, 353, 700, 552, 934, 849,\n",
              "       815, 809, 846,  38, 247, 995, 772, 479, 548, 643, 368, 366, 971,\n",
              "       915, 521, 664, 712, 218, 116, 207, 825, 524, 499, 388, 558, 309,\n",
              "       685, 165, 813, 623, 690, 565, 640,   8, 376, 296, 942, 630, 621,\n",
              "       878, 943, 673, 774, 875, 429, 406, 602, 695,  95, 225, 765,  44,\n",
              "        14, 259, 657, 302, 190, 918, 191, 567, 696, 749, 292, 760, 202,\n",
              "       241, 371,  79, 245, 622, 790, 672, 221, 169, 187, 112, 755, 883,\n",
              "       409, 200, 884, 507, 478, 645, 339, 699, 281, 768, 580, 459, 788,\n",
              "       681, 605, 120, 195,  52, 668, 651, 458, 719, 194, 441, 692, 538,\n",
              "       777, 361, 693,  82, 727, 792,  50, 313,  17, 349, 882, 382, 568,\n",
              "       638, 264, 769, 865, 179, 826, 561,   1, 550, 634, 124, 529,  10,\n",
              "       254,  16, 686, 714, 704, 807, 359, 642, 132, 121, 560, 143, 476,\n",
              "       172, 294, 325, 528, 705, 967, 423, 900, 554, 557, 844, 764, 836,\n",
              "       109, 658,  51, 151, 481, 959, 950, 810, 608, 101, 415, 562, 301,\n",
              "       665, 733, 421, 149, 110, 830, 867, 465, 235, 435, 171, 823, 824,\n",
              "       577, 549, 512,  86, 373, 484, 748, 451, 100, 596, 808, 506, 439,\n",
              "       929, 188, 319, 956, 857,  23, 985, 137, 129, 780, 563, 217, 273,\n",
              "       781, 138, 633, 305, 123, 314, 482, 694, 798, 523, 632, 947, 970,\n",
              "       213, 503, 181, 987, 571, 192, 564, 343, 405,  80, 391, 266, 265,\n",
              "       655,  35, 983, 556, 982, 466, 706, 360, 185, 975, 144,  26,  69,\n",
              "       210, 980, 575, 818, 229, 453, 828, 888, 906, 370, 212, 440, 842,\n",
              "       122,  39, 340, 744, 519, 286, 678, 680, 442, 612, 277,  64, 654,\n",
              "       227, 119, 886, 173, 936, 617, 831, 663, 398,   4, 485, 718, 922,\n",
              "       430, 968, 771,  75, 166, 335, 866, 333, 646, 103, 778, 473,  42,\n",
              "       726, 375, 675, 450, 256, 243, 367,  73, 758, 729, 821, 687, 322,\n",
              "       710, 160, 372, 150, 761, 958, 636, 766, 504, 393, 553, 516])"
            ]
          },
          "metadata": {},
          "execution_count": 7
        }
      ],
      "source": [
        "x"
      ]
    },
    {
      "cell_type": "code",
      "execution_count": 8,
      "metadata": {
        "id": "7-yizvyu_OhC"
      },
      "outputs": [],
      "source": [
        "# the size of the first group\n",
        "gs = 450\n",
        "\n",
        "# let us select gs group members to the first group\n",
        "group1 = x[:gs]"
      ]
    },
    {
      "cell_type": "code",
      "execution_count": 9,
      "metadata": {
        "id": "LxWLYUfe_OhD",
        "outputId": "e85e8939-e5f3-40be-db59-926f90f55d56",
        "colab": {
          "base_uri": "https://localhost:8080/"
        }
      },
      "outputs": [
        {
          "output_type": "execute_result",
          "data": {
            "text/plain": [
              "450"
            ]
          },
          "metadata": {},
          "execution_count": 9
        }
      ],
      "source": [
        "len(group1)"
      ]
    },
    {
      "cell_type": "code",
      "execution_count": 10,
      "metadata": {
        "id": "JEsQCexN_OhD",
        "outputId": "cb3cc5f7-1d88-4ac8-ee06-61fc5259ea9c",
        "colab": {
          "base_uri": "https://localhost:8080/"
        }
      },
      "outputs": [
        {
          "output_type": "execute_result",
          "data": {
            "text/plain": [
              "450"
            ]
          },
          "metadata": {},
          "execution_count": 10
        }
      ],
      "source": [
        "len(group1)"
      ]
    },
    {
      "cell_type": "code",
      "execution_count": 11,
      "metadata": {
        "id": "7EocrGCn_OhD"
      },
      "outputs": [],
      "source": [
        "# and n-gs representatives to the second one\n",
        "group2 = x[gs:]"
      ]
    },
    {
      "cell_type": "code",
      "execution_count": 12,
      "metadata": {
        "id": "IQqx5Uuz_OhE"
      },
      "outputs": [],
      "source": [
        "# the probability of connection within the first group\n",
        "p_group1 = 0.5\n",
        "\n",
        "# the probability of connection within the second group\n",
        "p_group2 = 0.4\n",
        "\n",
        "# intergroup connections\n",
        "p_between = 0.1\n",
        "\n",
        "# initialistion of the adjacency matrix nxn\n",
        "A = np.zeros([n, n])"
      ]
    },
    {
      "cell_type": "code",
      "execution_count": 13,
      "metadata": {
        "id": "dL0zIYqj_OhE",
        "outputId": "5b38ec21-94b5-4043-bf25-cd9cd6fb182c",
        "colab": {
          "base_uri": "https://localhost:8080/"
        }
      },
      "outputs": [
        {
          "output_type": "execute_result",
          "data": {
            "text/plain": [
              "array([[0., 0., 0., ..., 0., 0., 0.],\n",
              "       [0., 0., 0., ..., 0., 0., 0.],\n",
              "       [0., 0., 0., ..., 0., 0., 0.],\n",
              "       ...,\n",
              "       [0., 0., 0., ..., 0., 0., 0.],\n",
              "       [0., 0., 0., ..., 0., 0., 0.],\n",
              "       [0., 0., 0., ..., 0., 0., 0.]])"
            ]
          },
          "metadata": {},
          "execution_count": 13
        }
      ],
      "source": [
        "A"
      ]
    },
    {
      "cell_type": "code",
      "execution_count": 14,
      "metadata": {
        "id": "vDRbyot__jCE"
      },
      "outputs": [],
      "source": [
        "assert A.shape == (1000, 1000)"
      ]
    },
    {
      "cell_type": "code",
      "execution_count": 15,
      "metadata": {
        "id": "ltxWNpEY_jCI",
        "outputId": "5d165e16-ce86-4fe7-c988-882667c93741",
        "colab": {
          "base_uri": "https://localhost:8080/"
        }
      },
      "outputs": [
        {
          "output_type": "execute_result",
          "data": {
            "text/plain": [
              "(450, 450)"
            ]
          },
          "metadata": {},
          "execution_count": 15
        }
      ],
      "source": [
        "# adjecency submatrix for the first group\n",
        "A[np.ix_(group1, group1)].shape"
      ]
    },
    {
      "cell_type": "code",
      "execution_count": 16,
      "metadata": {
        "id": "uKgyeVEy_OhF",
        "outputId": "0189d54a-97b9-45f6-cf79-b603614a8a40",
        "colab": {
          "base_uri": "https://localhost:8080/"
        }
      },
      "outputs": [
        {
          "output_type": "execute_result",
          "data": {
            "text/plain": [
              "array([[ True,  True, False, ...,  True,  True, False],\n",
              "       [False, False,  True, ..., False,  True, False],\n",
              "       [ True, False,  True, ...,  True, False,  True],\n",
              "       ...,\n",
              "       [ True, False,  True, ..., False,  True,  True],\n",
              "       [ True,  True,  True, ...,  True,  True,  True],\n",
              "       [False,  True,  True, ..., False,  True, False]])"
            ]
          },
          "metadata": {},
          "execution_count": 16
        }
      ],
      "source": [
        "np.random.rand(gs, gs) < p_group1"
      ]
    },
    {
      "cell_type": "code",
      "execution_count": 17,
      "metadata": {
        "id": "85AVawX4_OhF",
        "outputId": "1aa9c4d4-70c8-4681-8434-9377add1a01f",
        "colab": {
          "base_uri": "https://localhost:8080/"
        }
      },
      "outputs": [
        {
          "output_type": "execute_result",
          "data": {
            "text/plain": [
              "array([[0.85203898, 0.02601737, 0.19702605, ..., 0.80795415, 0.20726802,\n",
              "        0.84536266],\n",
              "       [0.9885248 , 0.87323316, 0.0571323 , ..., 0.37082833, 0.40886489,\n",
              "        0.73858746],\n",
              "       [0.1405347 , 0.36365598, 0.76636501, ..., 0.77006534, 0.80890812,\n",
              "        0.33808   ],\n",
              "       ...,\n",
              "       [0.97037822, 0.22346148, 0.81018743, ..., 0.84329974, 0.14961009,\n",
              "        0.68292595],\n",
              "       [0.06690731, 0.17674461, 0.94043638, ..., 0.89054459, 0.26123322,\n",
              "        0.230204  ],\n",
              "       [0.62901678, 0.43429627, 0.55473687, ..., 0.9837602 , 0.6575126 ,\n",
              "        0.56227283]])"
            ]
          },
          "metadata": {},
          "execution_count": 17
        }
      ],
      "source": [
        "np.random.rand(gs, gs) "
      ]
    },
    {
      "cell_type": "code",
      "execution_count": 18,
      "metadata": {
        "id": "BO9gouwc_jCN"
      },
      "outputs": [],
      "source": [
        "# generation of connections in the first group\n",
        "A[np.ix_(group1, group1)] = np.random.rand(gs, gs) < p_group1\n",
        "\n",
        "# generation of connections in the second group\n",
        "A[np.ix_(group2, group2)] = np.random.rand(n-gs, n-gs) < p_group2\n",
        "\n",
        "# genegation of intergroup connections\n",
        "A[np.ix_(group1, group2)] = np.random.rand(gs, n-gs) < p_between\n",
        "\n",
        "# we need a symmetric matrix for modeling \"friendship relationship\"\n",
        "# and cut the upper triangle matrix\n",
        "A = np.triu(A,1)\n",
        "\n",
        "\n",
        "# let us transpose it and add to the upper triangle matrix\n",
        "A = A + A.T"
      ]
    },
    {
      "cell_type": "code",
      "execution_count": 19,
      "metadata": {
        "id": "AgZIDOMD_OhF"
      },
      "outputs": [],
      "source": [
        "# generation of connections in the first group\n",
        "A[np.ix_(group1, group1)] = np.random.rand(gs, gs) < p_group1\n",
        "\n",
        "# generation of connections in the second group\n",
        "A[np.ix_(group2, group2)] = np.random.rand(n-gs, n-gs) < p_group2\n",
        "\n",
        "# genegation of intergroup connections\n",
        "A[np.ix_(group1, group2)] = np.random.rand(gs, n-gs) < p_between\n",
        "\n"
      ]
    },
    {
      "cell_type": "code",
      "execution_count": 20,
      "metadata": {
        "id": "fO4mOp6B_OhG",
        "outputId": "f14cf7e6-7eb9-4ea0-d138-09c8ee5fb529",
        "colab": {
          "base_uri": "https://localhost:8080/",
          "height": 286
        }
      },
      "outputs": [
        {
          "output_type": "execute_result",
          "data": {
            "text/plain": [
              "<matplotlib.collections.QuadMesh at 0x7fe3895db1f0>"
            ]
          },
          "metadata": {},
          "execution_count": 20
        },
        {
          "output_type": "display_data",
          "data": {
            "text/plain": [
              "<Figure size 432x288 with 1 Axes>"
            ],
            "image/png": "[encoded data removed]"
          },
          "metadata": {
            "needs_background": "light"
          }
        }
      ],
      "source": [
        "plt.pcolormesh(A)"
      ]
    },
    {
      "cell_type": "code",
      "execution_count": 21,
      "metadata": {
        "id": "teNbIS_4_OhG"
      },
      "outputs": [],
      "source": [
        "A = np.triu(A,1)"
      ]
    },
    {
      "cell_type": "code",
      "execution_count": 22,
      "metadata": {
        "id": "Ibz2fjI4_OhG",
        "outputId": "2211eaae-8e2e-49ac-cabb-f5e5273c48d5",
        "colab": {
          "base_uri": "https://localhost:8080/",
          "height": 286
        }
      },
      "outputs": [
        {
          "output_type": "execute_result",
          "data": {
            "text/plain": [
              "<matplotlib.collections.QuadMesh at 0x7fe38912fe50>"
            ]
          },
          "metadata": {},
          "execution_count": 22
        },
        {
          "output_type": "display_data",
          "data": {
            "text/plain": [
              "<Figure size 432x288 with 1 Axes>"
            ],
            "image/png": "[encoded data removed]"
          },
          "metadata": {
            "needs_background": "light"
          }
        }
      ],
      "source": [
        "plt.pcolormesh(A)"
      ]
    },
    {
      "cell_type": "code",
      "execution_count": 23,
      "metadata": {
        "id": "Tux2BkXs_OhG",
        "outputId": "9085d86b-99e9-4807-e360-a3be29de1de9",
        "colab": {
          "base_uri": "https://localhost:8080/",
          "height": 286
        }
      },
      "outputs": [
        {
          "output_type": "execute_result",
          "data": {
            "text/plain": [
              "<matplotlib.collections.QuadMesh at 0x7fe3891078e0>"
            ]
          },
          "metadata": {},
          "execution_count": 23
        },
        {
          "output_type": "display_data",
          "data": {
            "text/plain": [
              "<Figure size 432x288 with 1 Axes>"
            ],
            "image/png": "[encoded data removed]"
          },
          "metadata": {
            "needs_background": "light"
          }
        }
      ],
      "source": [
        "plt.pcolormesh(A.T)"
      ]
    },
    {
      "cell_type": "code",
      "execution_count": 24,
      "metadata": {
        "id": "2eT3jooS_OhH"
      },
      "outputs": [],
      "source": [
        "A=A+A.T"
      ]
    },
    {
      "cell_type": "code",
      "execution_count": 25,
      "metadata": {
        "id": "Bt7yWhwm_OhH",
        "outputId": "242322d7-5fce-4941-a778-015d18b51d50",
        "colab": {
          "base_uri": "https://localhost:8080/",
          "height": 286
        }
      },
      "outputs": [
        {
          "output_type": "execute_result",
          "data": {
            "text/plain": [
              "<matplotlib.collections.QuadMesh at 0x7fe389066ca0>"
            ]
          },
          "metadata": {},
          "execution_count": 25
        },
        {
          "output_type": "display_data",
          "data": {
            "text/plain": [
              "<Figure size 432x288 with 1 Axes>"
            ],
            "image/png": "[encoded data removed]"
          },
          "metadata": {
            "needs_background": "light"
          }
        }
      ],
      "source": [
        "plt.pcolormesh(A)"
      ]
    },
    {
      "cell_type": "code",
      "execution_count": 26,
      "metadata": {
        "id": "sLV_9Sic_OhH",
        "outputId": "82d39815-ae4f-4fc1-aa4d-85ba28614213",
        "colab": {
          "base_uri": "https://localhost:8080/",
          "height": 269
        }
      },
      "outputs": [
        {
          "output_type": "display_data",
          "data": {
            "text/plain": [
              "<Figure size 432x288 with 1 Axes>"
            ],
            "image/png": "[encoded data removed]"
          },
          "metadata": {
            "needs_background": "light"
          }
        }
      ],
      "source": [
        "# let us have a look (it seems, the structure is absent)\n",
        "plt.pcolormesh(A);"
      ]
    },
    {
      "cell_type": "code",
      "execution_count": 27,
      "metadata": {
        "id": "SxWBqPW8_OhH",
        "outputId": "e24df5be-a5dc-4a5c-d552-a66ab0fa5fca",
        "colab": {
          "base_uri": "https://localhost:8080/"
        }
      },
      "outputs": [
        {
          "output_type": "execute_result",
          "data": {
            "text/plain": [
              "0.0"
            ]
          },
          "metadata": {},
          "execution_count": 27
        }
      ],
      "source": [
        "#checking the symmetry\n",
        "sum(sum(np.abs(A-A.T)))"
      ]
    },
    {
      "cell_type": "code",
      "execution_count": 28,
      "metadata": {
        "id": "iU9Onek4_OhI",
        "outputId": "ab9ccd4a-be25-4784-e10a-694124d59c5d",
        "colab": {
          "base_uri": "https://localhost:8080/"
        }
      },
      "outputs": [
        {
          "output_type": "execute_result",
          "data": {
            "text/plain": [
              "0.0"
            ]
          },
          "metadata": {},
          "execution_count": 28
        }
      ],
      "source": [
        "#cheking the main diagonal -- it should be empty\n",
        "sum(np.diag(A))"
      ]
    },
    {
      "cell_type": "markdown",
      "metadata": {
        "id": "3y6BZjtw_jCT"
      },
      "source": [
        "Follow the hints from the tutorial. First, calculate the Laplacian matrix, L=D-A, find its second smallest eigenvector, sort it, and use the found indicies and restore the model structure as the two group of  \"friends\"."
      ]
    },
    {
      "cell_type": "code",
      "execution_count": 29,
      "metadata": {
        "id": "SDSCmvdR_jCU"
      },
      "outputs": [],
      "source": [
        "D=np.diag(sum(A))"
      ]
    },
    {
      "cell_type": "code",
      "execution_count": 30,
      "metadata": {
        "id": "zWlEBjfe_OhI",
        "outputId": "94b4d4ee-e426-4103-921c-f1e67c90c2d6",
        "colab": {
          "base_uri": "https://localhost:8080/"
        }
      },
      "outputs": [
        {
          "output_type": "execute_result",
          "data": {
            "text/plain": [
              "192.0"
            ]
          },
          "metadata": {},
          "execution_count": 30
        }
      ],
      "source": [
        "min(sum(A))"
      ]
    },
    {
      "cell_type": "code",
      "execution_count": 31,
      "metadata": {
        "id": "qeJufbKf_OhI",
        "outputId": "b892907a-2f94-40da-c567-a9e0eb18194b",
        "colab": {
          "base_uri": "https://localhost:8080/",
          "height": 269
        }
      },
      "outputs": [
        {
          "output_type": "display_data",
          "data": {
            "text/plain": [
              "<Figure size 432x288 with 1 Axes>"
            ],
            "image/png": "[encoded data removed]"
          },
          "metadata": {
            "needs_background": "light"
          }
        }
      ],
      "source": [
        "plt.pcolormesh(D);"
      ]
    },
    {
      "cell_type": "code",
      "execution_count": 32,
      "metadata": {
        "id": "_IJGQNLf_OhI"
      },
      "outputs": [],
      "source": [
        "L=D-A"
      ]
    },
    {
      "cell_type": "code",
      "execution_count": 33,
      "metadata": {
        "id": "-ECi768l_OhJ"
      },
      "outputs": [],
      "source": [
        "from scipy.sparse.linalg import eigsh #a better choice than numpy"
      ]
    },
    {
      "cell_type": "code",
      "execution_count": 34,
      "metadata": {
        "id": "F0lNi0Q7_OhJ",
        "outputId": "0e4efab3-6655-409a-fcad-08c88d8fbf46",
        "colab": {
          "base_uri": "https://localhost:8080/"
        }
      },
      "outputs": [
        {
          "output_type": "stream",
          "name": "stdout",
          "text": [
            "Help on function eigsh in module scipy.sparse.linalg.eigen.arpack.arpack:\n",
            "\n",
            "eigsh(A, k=6, M=None, sigma=None, which='LM', v0=None, ncv=None, maxiter=None, tol=0, return_eigenvectors=True, Minv=None, OPinv=None, mode='normal')\n",
            "    Find k eigenvalues and eigenvectors of the real symmetric square matrix\n",
            "    or complex Hermitian matrix A.\n",
            "    \n",
            "    Solves ``A * x[i] = w[i] * x[i]``, the standard eigenvalue problem for\n",
            "    w[i] eigenvalues with corresponding eigenvectors x[i].\n",
            "    \n",
            "    If M is specified, solves ``A * x[i] = w[i] * M * x[i]``, the\n",
            "    generalized eigenvalue problem for w[i] eigenvalues\n",
            "    with corresponding eigenvectors x[i].\n",
            "    \n",
            "    Note that there is no specialized routine for the case when A is a complex\n",
            "    Hermitian matrix. In this case, ``eigsh()`` will call ``eigs()`` and return the\n",
            "    real parts of the eigenvalues thus obtained.\n",
            "    \n",
            "    Parameters\n",
            "    ----------\n",
            "    A : ndarray, sparse matrix or LinearOperator\n",
            "        A square operator representing the operation ``A * x``, where ``A`` is\n",
            "        real symmetric or complex Hermitian. For buckling mode (see below)\n",
            "        ``A`` must additionally be positive-definite.\n",
            "    k : int, optional\n",
            "        The number of eigenvalues and eigenvectors desired.\n",
            "        `k` must be smaller than N. It is not possible to compute all\n",
            "        eigenvectors of a matrix.\n",
            "    \n",
            "    Returns\n",
            "    -------\n",
            "    w : array\n",
            "        Array of k eigenvalues.\n",
            "    v : array\n",
            "        An array representing the `k` eigenvectors.  The column ``v[:, i]`` is\n",
            "        the eigenvector corresponding to the eigenvalue ``w[i]``.\n",
            "    \n",
            "    Other Parameters\n",
            "    ----------------\n",
            "    M : An N x N matrix, array, sparse matrix, or linear operator representing\n",
            "        the operation ``M @ x`` for the generalized eigenvalue problem\n",
            "    \n",
            "            A @ x = w * M @ x.\n",
            "    \n",
            "        M must represent a real symmetric matrix if A is real, and must\n",
            "        represent a complex Hermitian matrix if A is complex. For best\n",
            "        results, the data type of M should be the same as that of A.\n",
            "        Additionally:\n",
            "    \n",
            "            If sigma is None, M is symmetric positive definite.\n",
            "    \n",
            "            If sigma is specified, M is symmetric positive semi-definite.\n",
            "    \n",
            "            In buckling mode, M is symmetric indefinite.\n",
            "    \n",
            "        If sigma is None, eigsh requires an operator to compute the solution\n",
            "        of the linear equation ``M @ x = b``. This is done internally via a\n",
            "        (sparse) LU decomposition for an explicit matrix M, or via an\n",
            "        iterative solver for a general linear operator.  Alternatively,\n",
            "        the user can supply the matrix or operator Minv, which gives\n",
            "        ``x = Minv @ b = M^-1 @ b``.\n",
            "    sigma : real\n",
            "        Find eigenvalues near sigma using shift-invert mode.  This requires\n",
            "        an operator to compute the solution of the linear system\n",
            "        ``[A - sigma * M] x = b``, where M is the identity matrix if\n",
            "        unspecified.  This is computed internally via a (sparse) LU\n",
            "        decomposition for explicit matrices A & M, or via an iterative\n",
            "        solver if either A or M is a general linear operator.\n",
            "        Alternatively, the user can supply the matrix or operator OPinv,\n",
            "        which gives ``x = OPinv @ b = [A - sigma * M]^-1 @ b``.\n",
            "        Note that when sigma is specified, the keyword 'which' refers to\n",
            "        the shifted eigenvalues ``w'[i]`` where:\n",
            "    \n",
            "            if mode == 'normal', ``w'[i] = 1 / (w[i] - sigma)``.\n",
            "    \n",
            "            if mode == 'cayley', ``w'[i] = (w[i] + sigma) / (w[i] - sigma)``.\n",
            "    \n",
            "            if mode == 'buckling', ``w'[i] = w[i] / (w[i] - sigma)``.\n",
            "    \n",
            "        (see further discussion in 'mode' below)\n",
            "    v0 : ndarray, optional\n",
            "        Starting vector for iteration.\n",
            "        Default: random\n",
            "    ncv : int, optional\n",
            "        The number of Lanczos vectors generated ncv must be greater than k and\n",
            "        smaller than n; it is recommended that ``ncv > 2*k``.\n",
            "        Default: ``min(n, max(2*k + 1, 20))``\n",
            "    which : str ['LM' | 'SM' | 'LA' | 'SA' | 'BE']\n",
            "        If A is a complex Hermitian matrix, 'BE' is invalid.\n",
            "        Which `k` eigenvectors and eigenvalues to find:\n",
            "    \n",
            "            'LM' : Largest (in magnitude) eigenvalues.\n",
            "    \n",
            "            'SM' : Smallest (in magnitude) eigenvalues.\n",
            "    \n",
            "            'LA' : Largest (algebraic) eigenvalues.\n",
            "    \n",
            "            'SA' : Smallest (algebraic) eigenvalues.\n",
            "    \n",
            "            'BE' : Half (k/2) from each end of the spectrum.\n",
            "    \n",
            "        When k is odd, return one more (k/2+1) from the high end.\n",
            "        When sigma != None, 'which' refers to the shifted eigenvalues ``w'[i]``\n",
            "        (see discussion in 'sigma', above).  ARPACK is generally better\n",
            "        at finding large values than small values.  If small eigenvalues are\n",
            "        desired, consider using shift-invert mode for better performance.\n",
            "    maxiter : int, optional\n",
            "        Maximum number of Arnoldi update iterations allowed.\n",
            "        Default: ``n*10``\n",
            "    tol : float\n",
            "        Relative accuracy for eigenvalues (stopping criterion).\n",
            "        The default value of 0 implies machine precision.\n",
            "    Minv : N x N matrix, array, sparse matrix, or LinearOperator\n",
            "        See notes in M, above.\n",
            "    OPinv : N x N matrix, array, sparse matrix, or LinearOperator\n",
            "        See notes in sigma, above.\n",
            "    return_eigenvectors : bool\n",
            "        Return eigenvectors (True) in addition to eigenvalues.\n",
            "        This value determines the order in which eigenvalues are sorted.\n",
            "        The sort order is also dependent on the `which` variable.\n",
            "    \n",
            "            For which = 'LM' or 'SA':\n",
            "                If `return_eigenvectors` is True, eigenvalues are sorted by\n",
            "                algebraic value.\n",
            "    \n",
            "                If `return_eigenvectors` is False, eigenvalues are sorted by\n",
            "                absolute value.\n",
            "    \n",
            "            For which = 'BE' or 'LA':\n",
            "                eigenvalues are always sorted by algebraic value.\n",
            "    \n",
            "            For which = 'SM':\n",
            "                If `return_eigenvectors` is True, eigenvalues are sorted by\n",
            "                algebraic value.\n",
            "    \n",
            "                If `return_eigenvectors` is False, eigenvalues are sorted by\n",
            "                decreasing absolute value.\n",
            "    \n",
            "    mode : string ['normal' | 'buckling' | 'cayley']\n",
            "        Specify strategy to use for shift-invert mode.  This argument applies\n",
            "        only for real-valued A and sigma != None.  For shift-invert mode,\n",
            "        ARPACK internally solves the eigenvalue problem\n",
            "        ``OP * x'[i] = w'[i] * B * x'[i]``\n",
            "        and transforms the resulting Ritz vectors x'[i] and Ritz values w'[i]\n",
            "        into the desired eigenvectors and eigenvalues of the problem\n",
            "        ``A * x[i] = w[i] * M * x[i]``.\n",
            "        The modes are as follows:\n",
            "    \n",
            "            'normal' :\n",
            "                OP = [A - sigma * M]^-1 @ M,\n",
            "                B = M,\n",
            "                w'[i] = 1 / (w[i] - sigma)\n",
            "    \n",
            "            'buckling' :\n",
            "                OP = [A - sigma * M]^-1 @ A,\n",
            "                B = A,\n",
            "                w'[i] = w[i] / (w[i] - sigma)\n",
            "    \n",
            "            'cayley' :\n",
            "                OP = [A - sigma * M]^-1 @ [A + sigma * M],\n",
            "                B = M,\n",
            "                w'[i] = (w[i] + sigma) / (w[i] - sigma)\n",
            "    \n",
            "        The choice of mode will affect which eigenvalues are selected by\n",
            "        the keyword 'which', and can also impact the stability of\n",
            "        convergence (see [2] for a discussion).\n",
            "    \n",
            "    Raises\n",
            "    ------\n",
            "    ArpackNoConvergence\n",
            "        When the requested convergence is not obtained.\n",
            "    \n",
            "        The currently converged eigenvalues and eigenvectors can be found\n",
            "        as ``eigenvalues`` and ``eigenvectors`` attributes of the exception\n",
            "        object.\n",
            "    \n",
            "    See Also\n",
            "    --------\n",
            "    eigs : eigenvalues and eigenvectors for a general (nonsymmetric) matrix A\n",
            "    svds : singular value decomposition for a matrix A\n",
            "    \n",
            "    Notes\n",
            "    -----\n",
            "    This function is a wrapper to the ARPACK [1]_ SSEUPD and DSEUPD\n",
            "    functions which use the Implicitly Restarted Lanczos Method to\n",
            "    find the eigenvalues and eigenvectors [2]_.\n",
            "    \n",
            "    References\n",
            "    ----------\n",
            "    .. [1] ARPACK Software, http://www.caam.rice.edu/software/ARPACK/\n",
            "    .. [2] R. B. Lehoucq, D. C. Sorensen, and C. Yang,  ARPACK USERS GUIDE:\n",
            "       Solution of Large Scale Eigenvalue Problems by Implicitly Restarted\n",
            "       Arnoldi Methods. SIAM, Philadelphia, PA, 1998.\n",
            "    \n",
            "    Examples\n",
            "    --------\n",
            "    >>> from scipy.sparse.linalg import eigsh\n",
            "    >>> identity = np.eye(13)\n",
            "    >>> eigenvalues, eigenvectors = eigsh(identity, k=6)\n",
            "    >>> eigenvalues\n",
            "    array([1., 1., 1., 1., 1., 1.])\n",
            "    >>> eigenvectors.shape\n",
            "    (13, 6)\n",
            "\n"
          ]
        }
      ],
      "source": [
        "import scipy\n",
        "help(scipy.sparse.linalg.eigsh)"
      ]
    },
    {
      "cell_type": "code",
      "execution_count": 35,
      "metadata": {
        "id": "Ngu4Wzwx_OhJ"
      },
      "outputs": [],
      "source": [
        "#W,V=np.linalg.eigh(L)"
      ]
    },
    {
      "cell_type": "code",
      "execution_count": 36,
      "metadata": {
        "id": "9xBSeO1p_OhJ"
      },
      "outputs": [],
      "source": [
        "W,V=eigsh(L,which='SA') #six (by default) eignvalues are sorted in desceding order (by which='SA')"
      ]
    },
    {
      "cell_type": "code",
      "execution_count": 37,
      "metadata": {
        "id": "emG0g5Xb_OhJ",
        "outputId": "85d98f7f-f7bb-42e5-f928-fd154963ac96",
        "colab": {
          "base_uri": "https://localhost:8080/"
        }
      },
      "outputs": [
        {
          "output_type": "execute_result",
          "data": {
            "text/plain": [
              "(6,)"
            ]
          },
          "metadata": {},
          "execution_count": 37
        }
      ],
      "source": [
        "W.shape"
      ]
    },
    {
      "cell_type": "code",
      "execution_count": 38,
      "metadata": {
        "id": "oC3R7bue_OhJ",
        "outputId": "7c3ba735-fc90-46b9-fca2-808ca81af0b0",
        "colab": {
          "base_uri": "https://localhost:8080/"
        }
      },
      "outputs": [
        {
          "output_type": "execute_result",
          "data": {
            "text/plain": [
              "array([-4.90238201e-14,  4.57092142e+01,  1.89376721e+02,  1.92814908e+02,\n",
              "        1.94488153e+02,  1.95185780e+02])"
            ]
          },
          "metadata": {},
          "execution_count": 38
        }
      ],
      "source": [
        "W"
      ]
    },
    {
      "cell_type": "code",
      "execution_count": 39,
      "metadata": {
        "id": "TY6ZNqHX_OhK",
        "outputId": "bfc6656c-1b24-4322-a41c-b4c259ccb89a",
        "colab": {
          "base_uri": "https://localhost:8080/"
        }
      },
      "outputs": [
        {
          "output_type": "execute_result",
          "data": {
            "text/plain": [
              "array([-0.02348725,  0.03544151, -0.02713636, -0.0284369 ,  0.03435975,\n",
              "        0.03662417, -0.02827522,  0.03511546,  0.03495389, -0.02472246,\n",
              "        0.0362006 ,  0.03570073, -0.02832769,  0.03585962,  0.03557301,\n",
              "       -0.02776893,  0.03611934,  0.03522933, -0.0254254 , -0.02729527,\n",
              "       -0.03006816, -0.02536889, -0.02678665,  0.03477312, -0.02948611,\n",
              "       -0.029442  ,  0.03643592, -0.02485455, -0.02975134, -0.02854026,\n",
              "       -0.02651571, -0.02782982, -0.02629866, -0.02683249, -0.02564094,\n",
              "        0.03506584, -0.03046132, -0.02618025,  0.03626098,  0.03387677,\n",
              "       -0.02897747,  0.03469861,  0.03390456, -0.03092749,  0.03563754,\n",
              "        0.03544741, -0.02857827, -0.02728837, -0.02841349, -0.02621312,\n",
              "        0.03528806,  0.03509697,  0.03417377, -0.02407347,  0.03472273,\n",
              "       -0.02806294, -0.029259  , -0.02849192, -0.02597592,  0.03406843,\n",
              "       -0.02622262, -0.02706448,  0.03372423,  0.03494717,  0.03399091,\n",
              "        0.03260111, -0.02979051,  0.03421634, -0.02571122,  0.03432236,\n",
              "       -0.02839195, -0.02759456, -0.0274259 ,  0.03536869,  0.0329764 ,\n",
              "        0.03400487, -0.02892962, -0.02705679,  0.03395245,  0.0351026 ,\n",
              "        0.03404417, -0.02866745,  0.03432494,  0.03425938,  0.03375021,\n",
              "       -0.02848213,  0.03337912, -0.02601718,  0.03374248, -0.02602535,\n",
              "        0.03492056, -0.02923972, -0.02525195, -0.02851927,  0.03441673,\n",
              "        0.0332516 , -0.02719761,  0.03412187, -0.02913632, -0.02790646,\n",
              "        0.03359408,  0.03331618, -0.02767724,  0.03546535, -0.02593374,\n",
              "        0.03349078,  0.0369597 ,  0.03402179,  0.03408478,  0.03517511,\n",
              "        0.03317134, -0.02615378,  0.03523818,  0.03396402, -0.02807887,\n",
              "       -0.03169782,  0.03376812, -0.03091114,  0.0332714 ,  0.03236474,\n",
              "        0.03545662,  0.03113775,  0.03398292,  0.03309983,  0.03426176,\n",
              "       -0.02967701,  0.0337514 , -0.02965106, -0.02804285,  0.03345609,\n",
              "        0.03246967, -0.02891795,  0.03191216,  0.03581484,  0.03182703,\n",
              "       -0.02716949, -0.02821909,  0.03514607,  0.03339035, -0.0276213 ,\n",
              "       -0.0276322 , -0.02462889, -0.03174141,  0.03243291,  0.03104832,\n",
              "       -0.02894226, -0.02982859,  0.03330028, -0.03016011,  0.03394414,\n",
              "        0.03294415,  0.03355502, -0.02978691, -0.0290041 , -0.0277971 ,\n",
              "       -0.02629656, -0.02813905, -0.02720089,  0.031683  , -0.02630798,\n",
              "        0.03509803, -0.03004692,  0.03432832, -0.02810417, -0.02667642,\n",
              "        0.03394453,  0.03392596,  0.03387861,  0.03275301,  0.03151359,\n",
              "       -0.03088405,  0.03488346,  0.03379217,  0.03099249, -0.03207297,\n",
              "       -0.02700216,  0.0334166 , -0.02883379, -0.03065942,  0.03248613,\n",
              "        0.03340045,  0.03386051, -0.02647162, -0.03297571, -0.02701344,\n",
              "        0.03276144,  0.03325425,  0.03208131,  0.03163529, -0.03025988,\n",
              "        0.0310035 ,  0.03442738,  0.03313024, -0.02885451,  0.03074217,\n",
              "        0.0331758 ,  0.03126561, -0.03119307, -0.03002872, -0.03086375,\n",
              "        0.03280192, -0.02940459,  0.03265993, -0.03126556, -0.0335328 ,\n",
              "       -0.03064432, -0.0304246 ,  0.03050973, -0.02962589,  0.03182244,\n",
              "        0.03179919,  0.03248073,  0.03545286,  0.03216688,  0.03335198,\n",
              "       -0.02881124, -0.03045585,  0.03103536,  0.03262771, -0.03025938,\n",
              "        0.03108876,  0.03181882, -0.02864808, -0.02825537, -0.02749348,\n",
              "        0.03131587, -0.02595785,  0.03352204, -0.03023213,  0.03118743,\n",
              "       -0.02908991, -0.03037458,  0.03259846, -0.0306977 , -0.02961452,\n",
              "        0.03147597, -0.02734738, -0.0307597 , -0.03146362, -0.02948258,\n",
              "       -0.0274625 ,  0.03090438, -0.03070252,  0.03146243,  0.03312393,\n",
              "        0.03152731,  0.03332719,  0.03147047,  0.03154612,  0.03193915,\n",
              "        0.03000323, -0.03112396, -0.02946487, -0.03013394,  0.03150425,\n",
              "       -0.0296652 ,  0.03351913,  0.03279457, -0.02961095,  0.03143759,\n",
              "       -0.03049509,  0.0312895 ,  0.02999568, -0.03257523,  0.03051104,\n",
              "        0.03279837,  0.03028474, -0.03119081, -0.03217201, -0.02984938,\n",
              "        0.03211339, -0.03435448,  0.03266501,  0.03134366,  0.03202485,\n",
              "       -0.02962099, -0.03079705,  0.03165896,  0.03302282, -0.03096677,\n",
              "        0.03134724,  0.03092058, -0.03107603, -0.02992483, -0.03203347,\n",
              "        0.03059246,  0.03034619, -0.03009013,  0.03077872, -0.03322018,\n",
              "        0.0312484 ,  0.0303574 ,  0.03027872, -0.03126767,  0.03135368,\n",
              "       -0.03045869,  0.03102388,  0.03029088, -0.0305305 ,  0.03102635,\n",
              "       -0.03128338,  0.0324608 ,  0.02968126, -0.03222312, -0.03056848,\n",
              "        0.03190802,  0.02935949,  0.03142766, -0.03206202,  0.03005181,\n",
              "       -0.03222327, -0.03138891, -0.03039065,  0.03286112,  0.02921521,\n",
              "        0.0300426 ,  0.02977313, -0.0315511 ,  0.02976771,  0.02988345,\n",
              "       -0.02889793, -0.03327869,  0.03036032,  0.03073382, -0.03347857,\n",
              "        0.03025587, -0.03470677,  0.03091726,  0.03099468, -0.03149598,\n",
              "       -0.02895238, -0.03201727, -0.02936481,  0.0316709 , -0.03319153,\n",
              "        0.02968565,  0.03035546, -0.03189208,  0.02953864,  0.03020359,\n",
              "        0.0318918 ,  0.02974509, -0.03007597,  0.03119919,  0.02948703,\n",
              "       -0.03182911,  0.02887346, -0.03158038,  0.03133118,  0.03108282,\n",
              "        0.030914  ,  0.03181196,  0.02945943,  0.03022806, -0.03153874,\n",
              "       -0.03148256, -0.03044901, -0.03198048,  0.02824231,  0.0304294 ,\n",
              "        0.02892505,  0.0313539 , -0.03263459,  0.0315591 , -0.02997189,\n",
              "        0.02841955,  0.02900166,  0.03038949,  0.02887457, -0.03397377,\n",
              "        0.02997944,  0.02965942,  0.03120069,  0.02857208,  0.03061563,\n",
              "        0.02878755,  0.03008226,  0.02942898, -0.03218906,  0.03007692,\n",
              "       -0.03509116, -0.03266268,  0.02890919, -0.03109662, -0.03161669,\n",
              "       -0.03356606, -0.0308194 ,  0.02914946,  0.03094588, -0.03179588,\n",
              "       -0.03244996,  0.02955944, -0.03307181,  0.02892647, -0.03670739,\n",
              "        0.03021921, -0.03303249, -0.03389814,  0.03097887, -0.02936376,\n",
              "       -0.03060025,  0.02858815, -0.03303239, -0.03308155,  0.03156309,\n",
              "        0.02774279,  0.02921177,  0.02898311,  0.02855065,  0.02947176,\n",
              "       -0.03264714, -0.03441777, -0.03338669, -0.0345243 , -0.03214154,\n",
              "        0.0289847 , -0.03015128,  0.02858046,  0.02999041,  0.03068301,\n",
              "       -0.03155389,  0.02936969, -0.0339501 ,  0.0304972 , -0.03550647,\n",
              "        0.02939391,  0.02680198,  0.02868944,  0.02735008,  0.02730697,\n",
              "        0.02883068, -0.0339878 , -0.03643939, -0.03230118, -0.03583253,\n",
              "        0.02936275, -0.03373975, -0.03465022, -0.03415363,  0.03124697,\n",
              "        0.03116355,  0.03015426,  0.03023062,  0.03053961, -0.0368475 ,\n",
              "        0.02791474,  0.0281773 , -0.03149874, -0.03281701,  0.02905773,\n",
              "        0.02833012,  0.02865804, -0.03200264,  0.0283004 ,  0.02969117,\n",
              "       -0.03463683, -0.03329113, -0.03125318,  0.0283797 ,  0.03060993,\n",
              "       -0.03289536, -0.03579299, -0.03182108, -0.03592347,  0.03115975,\n",
              "        0.02980277,  0.02712166, -0.0320116 , -0.03357361, -0.0334226 ,\n",
              "        0.0275876 ,  0.02775018, -0.03357657,  0.02877047, -0.0333033 ,\n",
              "       -0.03337724,  0.02886294, -0.03292067,  0.02969796,  0.02776422,\n",
              "       -0.03476113,  0.02773294,  0.02933995, -0.03599447,  0.02886693,\n",
              "        0.03063522,  0.02775302,  0.02786202, -0.03523482, -0.03647566,\n",
              "        0.0272464 , -0.03450063, -0.03321155,  0.03041536, -0.03270723,\n",
              "       -0.03259097, -0.03490091, -0.03456436, -0.03271504,  0.03088358,\n",
              "       -0.03413302, -0.0361647 ,  0.02802421,  0.02802621,  0.0294118 ,\n",
              "       -0.03328406,  0.02671495,  0.03008637,  0.02829132, -0.03547831,\n",
              "       -0.0357101 , -0.03572079,  0.02846725,  0.0283474 , -0.03432472,\n",
              "       -0.03483914,  0.02552143, -0.03548464,  0.02734876,  0.02806878,\n",
              "        0.02860504,  0.0306728 , -0.03283977,  0.02998422,  0.0299098 ,\n",
              "        0.02927532, -0.03597228, -0.03609867,  0.0288178 ,  0.02905127,\n",
              "       -0.03579924, -0.03633405, -0.03584207, -0.03546796,  0.0288178 ,\n",
              "       -0.03460279, -0.03559106, -0.03447523,  0.02656024,  0.02877802,\n",
              "       -0.03395828,  0.02641202,  0.02720751,  0.02838494, -0.03677082,\n",
              "        0.02824679,  0.02535596, -0.03278523,  0.02646652,  0.02738715,\n",
              "        0.0281786 ,  0.02774768,  0.02600264,  0.03164189,  0.0289478 ,\n",
              "        0.02663617,  0.02636511,  0.02638256,  0.02883433,  0.02467715,\n",
              "        0.02650849,  0.02612217,  0.02785764,  0.02784691,  0.02613459,\n",
              "        0.03002829, -0.03550453,  0.02575259,  0.02739719,  0.0291674 ,\n",
              "        0.02703646,  0.02572091, -0.0350515 ,  0.02668478, -0.0332188 ,\n",
              "        0.02641349,  0.02531753,  0.02686022,  0.02811474, -0.03494138,\n",
              "        0.02726511, -0.03709527, -0.03604253,  0.02735357, -0.03374062,\n",
              "       -0.03619273,  0.02874346,  0.02929508, -0.03860426,  0.03059695,\n",
              "       -0.03925263, -0.03820516,  0.02734666, -0.03643888,  0.02504301,\n",
              "        0.02538193,  0.02824846, -0.03656638, -0.03404185,  0.02742118,\n",
              "       -0.03446049, -0.03632137,  0.02907549, -0.03544968, -0.03649387,\n",
              "        0.02512303, -0.03512283,  0.02814388,  0.0276805 , -0.0371999 ,\n",
              "        0.02447709, -0.03376064,  0.02523438,  0.02706506, -0.03816251,\n",
              "       -0.03646533,  0.02672114,  0.02848562, -0.03742864, -0.0356497 ,\n",
              "       -0.03744703,  0.02720554,  0.02551472,  0.0272031 , -0.03670127,\n",
              "       -0.03551758,  0.02844357, -0.03655861,  0.02728115, -0.03398616,\n",
              "        0.0264679 ,  0.02861099,  0.02596337,  0.02664699,  0.02661872,\n",
              "       -0.03843343,  0.02354276, -0.03723333,  0.0267016 , -0.03789905,\n",
              "        0.02551009,  0.02826872,  0.02818034,  0.0285914 , -0.03756026,\n",
              "        0.02720628,  0.02925499, -0.03572859, -0.03520296, -0.03694582,\n",
              "       -0.03690444,  0.02659238,  0.02539912, -0.03559054,  0.02626995,\n",
              "        0.02237048,  0.0286802 ,  0.02572436,  0.02566181, -0.03644994,\n",
              "        0.02428575, -0.0352023 , -0.03568604,  0.02442928,  0.02865972,\n",
              "        0.02782102, -0.03694094, -0.03708845,  0.028419  ,  0.02407234,\n",
              "        0.02824693, -0.03976052,  0.02557802,  0.02572243,  0.02766034,\n",
              "        0.02710039, -0.03850506,  0.02599701,  0.02363671,  0.02576828,\n",
              "        0.02720557,  0.02731939, -0.0367273 , -0.03760205, -0.03785164,\n",
              "        0.02556051,  0.02558759,  0.02701653, -0.03988557, -0.03905709,\n",
              "        0.02684565, -0.03617399,  0.02671473,  0.02397421,  0.02729355,\n",
              "        0.02865447,  0.02795794, -0.03919882, -0.03819745,  0.02735621,\n",
              "        0.02363853, -0.03814984, -0.03862721, -0.03953097,  0.0280652 ,\n",
              "        0.02666576,  0.02453049,  0.0225064 , -0.03735555, -0.03924088,\n",
              "        0.02600893, -0.03945458,  0.02578561, -0.03879778,  0.02696691,\n",
              "       -0.03902047,  0.02742424, -0.03770849,  0.02468604,  0.02278218,\n",
              "       -0.04005263, -0.03810469, -0.03729501, -0.0383611 ,  0.02581852,\n",
              "       -0.03812085,  0.02552651,  0.02582762, -0.03666349,  0.02272113,\n",
              "       -0.03822356, -0.03861746,  0.02914168,  0.02404277, -0.03854403,\n",
              "       -0.04027372, -0.03783242, -0.03823965, -0.04043391, -0.03906037,\n",
              "        0.02284462, -0.03900015, -0.03810654,  0.02545727,  0.0258431 ,\n",
              "       -0.03940263, -0.03767153, -0.0380023 ,  0.02804046,  0.02736342,\n",
              "       -0.04012579,  0.02467321,  0.02208687, -0.03943593,  0.01989932,\n",
              "        0.02093259,  0.02648747, -0.0383839 ,  0.02375726,  0.02585722,\n",
              "        0.02483563,  0.02192399, -0.03716399, -0.04004818,  0.02475373,\n",
              "        0.02584424,  0.02417548,  0.02675904,  0.02405288,  0.02449303,\n",
              "       -0.03881095,  0.02494342,  0.0262435 , -0.04091822,  0.02645463,\n",
              "       -0.0390053 , -0.03924697,  0.02689759,  0.02376249, -0.03817824,\n",
              "        0.02273371,  0.02621177, -0.03969634,  0.02245795,  0.02244967,\n",
              "       -0.039844  , -0.0399998 , -0.04129944,  0.02266401, -0.03913099,\n",
              "        0.02718693, -0.0388153 ,  0.02413296, -0.0405452 ,  0.02340174,\n",
              "       -0.03945581,  0.02399566, -0.04126528,  0.02430187, -0.04082959,\n",
              "       -0.04282298, -0.03952859,  0.02208212, -0.03875996,  0.02236629,\n",
              "       -0.03882272,  0.02259257,  0.02479835,  0.02559386,  0.02441252,\n",
              "        0.025029  , -0.04101963, -0.03859384,  0.02027733,  0.02624622,\n",
              "        0.02296981,  0.02383361, -0.04149714,  0.02748588, -0.03958683,\n",
              "       -0.03885518,  0.02084643,  0.02647577,  0.02386111,  0.02304749,\n",
              "        0.02446041,  0.0239599 , -0.04171357,  0.02254876,  0.02486182,\n",
              "        0.02487722,  0.02457023, -0.0421611 ,  0.02565942,  0.02108288,\n",
              "       -0.04097314,  0.02380191, -0.04169919, -0.04057042,  0.02341965,\n",
              "       -0.03917026, -0.04278756,  0.0257566 , -0.03903988,  0.02416223,\n",
              "        0.02358783,  0.0236276 , -0.04215728, -0.0396079 ,  0.02497163,\n",
              "        0.0230636 , -0.04120185, -0.03908231, -0.03808884, -0.0430191 ,\n",
              "       -0.04150257,  0.02475279,  0.0224067 ,  0.02318484, -0.04091368,\n",
              "       -0.03969616, -0.03865389, -0.04144093, -0.03957818, -0.0399305 ,\n",
              "        0.02310814,  0.02356267,  0.02397289, -0.04301841, -0.04137482,\n",
              "        0.02254665, -0.04119442,  0.02628907,  0.02189487, -0.04077836,\n",
              "        0.02083984, -0.04148802, -0.04151534,  0.02445164, -0.04003282,\n",
              "       -0.04150963, -0.04234427,  0.02304016,  0.02108946,  0.01996577,\n",
              "       -0.04191317,  0.02468516, -0.04154979,  0.0247805 , -0.04298447,\n",
              "       -0.0405462 ,  0.02191375, -0.04144555,  0.02150865, -0.04018843,\n",
              "       -0.04135366,  0.02365797, -0.04120749, -0.04171828,  0.0235357 ,\n",
              "        0.0194141 ,  0.02201601, -0.04145819,  0.02270504, -0.04052907,\n",
              "       -0.04096417,  0.0224181 , -0.04069479,  0.02246284,  0.02355389,\n",
              "       -0.04249359,  0.02136763, -0.04100256, -0.04065891, -0.04100092,\n",
              "        0.0207835 , -0.04224275, -0.0423371 ,  0.02488101,  0.0216105 ,\n",
              "       -0.04225804,  0.02465446,  0.02097684, -0.04199845, -0.04201293,\n",
              "       -0.04067238, -0.04208031, -0.04207247,  0.02501218,  0.02328464,\n",
              "       -0.04255659, -0.04187188,  0.0212615 , -0.04145076,  0.01971211,\n",
              "       -0.0426152 ,  0.02309322,  0.02149391,  0.02149797, -0.04241996,\n",
              "       -0.04160038, -0.04158854,  0.02204307,  0.02162593, -0.04055315,\n",
              "       -0.0427682 , -0.04197246,  0.02355997, -0.0425899 ,  0.02131757,\n",
              "        0.02293583, -0.04127947,  0.02056809,  0.02388801, -0.04203677,\n",
              "       -0.04284931,  0.02343302, -0.0417579 ,  0.02084668,  0.02048996,\n",
              "       -0.04193487,  0.02058901, -0.04270294,  0.02238229, -0.04248142,\n",
              "       -0.04405885,  0.02043824,  0.02293252,  0.02196926, -0.04183576,\n",
              "        0.02182178,  0.01815603,  0.02059711,  0.019434  , -0.04321513,\n",
              "        0.02118296, -0.04229548, -0.04330891,  0.01922171, -0.04230387,\n",
              "        0.02202835,  0.02018943,  0.02118352,  0.01947449,  0.01911048,\n",
              "        0.01976828,  0.02079681,  0.02147733, -0.04283151, -0.04296953,\n",
              "       -0.0433784 , -0.04316543,  0.0206543 ,  0.02285128,  0.0212396 ,\n",
              "        0.02481637, -0.04256698,  0.02055153,  0.02078061, -0.0437419 ])"
            ]
          },
          "metadata": {},
          "execution_count": 39
        }
      ],
      "source": [
        "V[:,1]"
      ]
    },
    {
      "cell_type": "code",
      "execution_count": 40,
      "metadata": {
        "id": "P-5U-_cO_OhK",
        "outputId": "0ca854a9-04a2-4eb4-99f4-586f3c675d69",
        "colab": {
          "base_uri": "https://localhost:8080/"
        }
      },
      "outputs": [
        {
          "output_type": "execute_result",
          "data": {
            "text/plain": [
              "(-4.9023820081680674e-14, 195.1857799785442)"
            ]
          },
          "metadata": {},
          "execution_count": 40
        }
      ],
      "source": [
        "min(W),max(W)"
      ]
    },
    {
      "cell_type": "code",
      "execution_count": 41,
      "metadata": {
        "id": "IcwlfWMS_OhK",
        "outputId": "5ec58246-32d1-4d70-823d-1c8465a3f199",
        "colab": {
          "base_uri": "https://localhost:8080/"
        }
      },
      "outputs": [
        {
          "output_type": "execute_result",
          "data": {
            "text/plain": [
              "array([-4.90238201e-14,  4.57092142e+01,  1.89376721e+02,  1.92814908e+02,\n",
              "        1.94488153e+02,  1.95185780e+02])"
            ]
          },
          "metadata": {},
          "execution_count": 41
        }
      ],
      "source": [
        "W"
      ]
    },
    {
      "cell_type": "code",
      "execution_count": 42,
      "metadata": {
        "id": "PVvJTUpF_OhK",
        "outputId": "ba9e583c-a410-48ab-c431-7de45eab3ebb",
        "colab": {
          "base_uri": "https://localhost:8080/"
        }
      },
      "outputs": [
        {
          "output_type": "execute_result",
          "data": {
            "text/plain": [
              "array([0.03162278, 0.03162278, 0.03162278, 0.03162278, 0.03162278,\n",
              "       0.03162278, 0.03162278, 0.03162278, 0.03162278, 0.03162278,\n",
              "       0.03162278, 0.03162278, 0.03162278, 0.03162278, 0.03162278,\n",
              "       0.03162278, 0.03162278, 0.03162278, 0.03162278, 0.03162278,\n",
              "       0.03162278, 0.03162278, 0.03162278, 0.03162278, 0.03162278,\n",
              "       0.03162278, 0.03162278, 0.03162278, 0.03162278, 0.03162278,\n",
              "       0.03162278, 0.03162278, 0.03162278, 0.03162278, 0.03162278,\n",
              "       0.03162278, 0.03162278, 0.03162278, 0.03162278, 0.03162278,\n",
              "       0.03162278, 0.03162278, 0.03162278, 0.03162278, 0.03162278,\n",
              "       0.03162278, 0.03162278, 0.03162278, 0.03162278, 0.03162278,\n",
              "       0.03162278, 0.03162278, 0.03162278, 0.03162278, 0.03162278,\n",
              "       0.03162278, 0.03162278, 0.03162278, 0.03162278, 0.03162278,\n",
              "       0.03162278, 0.03162278, 0.03162278, 0.03162278, 0.03162278,\n",
              "       0.03162278, 0.03162278, 0.03162278, 0.03162278, 0.03162278,\n",
              "       0.03162278, 0.03162278, 0.03162278, 0.03162278, 0.03162278,\n",
              "       0.03162278, 0.03162278, 0.03162278, 0.03162278, 0.03162278,\n",
              "       0.03162278, 0.03162278, 0.03162278, 0.03162278, 0.03162278,\n",
              "       0.03162278, 0.03162278, 0.03162278, 0.03162278, 0.03162278,\n",
              "       0.03162278, 0.03162278, 0.03162278, 0.03162278, 0.03162278,\n",
              "       0.03162278, 0.03162278, 0.03162278, 0.03162278, 0.03162278,\n",
              "       0.03162278, 0.03162278, 0.03162278, 0.03162278, 0.03162278,\n",
              "       0.03162278, 0.03162278, 0.03162278, 0.03162278, 0.03162278,\n",
              "       0.03162278, 0.03162278, 0.03162278, 0.03162278, 0.03162278,\n",
              "       0.03162278, 0.03162278, 0.03162278, 0.03162278, 0.03162278,\n",
              "       0.03162278, 0.03162278, 0.03162278, 0.03162278, 0.03162278,\n",
              "       0.03162278, 0.03162278, 0.03162278, 0.03162278, 0.03162278,\n",
              "       0.03162278, 0.03162278, 0.03162278, 0.03162278, 0.03162278,\n",
              "       0.03162278, 0.03162278, 0.03162278, 0.03162278, 0.03162278,\n",
              "       0.03162278, 0.03162278, 0.03162278, 0.03162278, 0.03162278,\n",
              "       0.03162278, 0.03162278, 0.03162278, 0.03162278, 0.03162278,\n",
              "       0.03162278, 0.03162278, 0.03162278, 0.03162278, 0.03162278,\n",
              "       0.03162278, 0.03162278, 0.03162278, 0.03162278, 0.03162278,\n",
              "       0.03162278, 0.03162278, 0.03162278, 0.03162278, 0.03162278,\n",
              "       0.03162278, 0.03162278, 0.03162278, 0.03162278, 0.03162278,\n",
              "       0.03162278, 0.03162278, 0.03162278, 0.03162278, 0.03162278,\n",
              "       0.03162278, 0.03162278, 0.03162278, 0.03162278, 0.03162278,\n",
              "       0.03162278, 0.03162278, 0.03162278, 0.03162278, 0.03162278,\n",
              "       0.03162278, 0.03162278, 0.03162278, 0.03162278, 0.03162278,\n",
              "       0.03162278, 0.03162278, 0.03162278, 0.03162278, 0.03162278,\n",
              "       0.03162278, 0.03162278, 0.03162278, 0.03162278, 0.03162278,\n",
              "       0.03162278, 0.03162278, 0.03162278, 0.03162278, 0.03162278,\n",
              "       0.03162278, 0.03162278, 0.03162278, 0.03162278, 0.03162278,\n",
              "       0.03162278, 0.03162278, 0.03162278, 0.03162278, 0.03162278,\n",
              "       0.03162278, 0.03162278, 0.03162278, 0.03162278, 0.03162278,\n",
              "       0.03162278, 0.03162278, 0.03162278, 0.03162278, 0.03162278,\n",
              "       0.03162278, 0.03162278, 0.03162278, 0.03162278, 0.03162278,\n",
              "       0.03162278, 0.03162278, 0.03162278, 0.03162278, 0.03162278,\n",
              "       0.03162278, 0.03162278, 0.03162278, 0.03162278, 0.03162278,\n",
              "       0.03162278, 0.03162278, 0.03162278, 0.03162278, 0.03162278,\n",
              "       0.03162278, 0.03162278, 0.03162278, 0.03162278, 0.03162278,\n",
              "       0.03162278, 0.03162278, 0.03162278, 0.03162278, 0.03162278,\n",
              "       0.03162278, 0.03162278, 0.03162278, 0.03162278, 0.03162278,\n",
              "       0.03162278, 0.03162278, 0.03162278, 0.03162278, 0.03162278,\n",
              "       0.03162278, 0.03162278, 0.03162278, 0.03162278, 0.03162278,\n",
              "       0.03162278, 0.03162278, 0.03162278, 0.03162278, 0.03162278,\n",
              "       0.03162278, 0.03162278, 0.03162278, 0.03162278, 0.03162278,\n",
              "       0.03162278, 0.03162278, 0.03162278, 0.03162278, 0.03162278,\n",
              "       0.03162278, 0.03162278, 0.03162278, 0.03162278, 0.03162278,\n",
              "       0.03162278, 0.03162278, 0.03162278, 0.03162278, 0.03162278,\n",
              "       0.03162278, 0.03162278, 0.03162278, 0.03162278, 0.03162278,\n",
              "       0.03162278, 0.03162278, 0.03162278, 0.03162278, 0.03162278,\n",
              "       0.03162278, 0.03162278, 0.03162278, 0.03162278, 0.03162278,\n",
              "       0.03162278, 0.03162278, 0.03162278, 0.03162278, 0.03162278,\n",
              "       0.03162278, 0.03162278, 0.03162278, 0.03162278, 0.03162278,\n",
              "       0.03162278, 0.03162278, 0.03162278, 0.03162278, 0.03162278,\n",
              "       0.03162278, 0.03162278, 0.03162278, 0.03162278, 0.03162278,\n",
              "       0.03162278, 0.03162278, 0.03162278, 0.03162278, 0.03162278,\n",
              "       0.03162278, 0.03162278, 0.03162278, 0.03162278, 0.03162278,\n",
              "       0.03162278, 0.03162278, 0.03162278, 0.03162278, 0.03162278,\n",
              "       0.03162278, 0.03162278, 0.03162278, 0.03162278, 0.03162278,\n",
              "       0.03162278, 0.03162278, 0.03162278, 0.03162278, 0.03162278,\n",
              "       0.03162278, 0.03162278, 0.03162278, 0.03162278, 0.03162278,\n",
              "       0.03162278, 0.03162278, 0.03162278, 0.03162278, 0.03162278,\n",
              "       0.03162278, 0.03162278, 0.03162278, 0.03162278, 0.03162278,\n",
              "       0.03162278, 0.03162278, 0.03162278, 0.03162278, 0.03162278,\n",
              "       0.03162278, 0.03162278, 0.03162278, 0.03162278, 0.03162278,\n",
              "       0.03162278, 0.03162278, 0.03162278, 0.03162278, 0.03162278,\n",
              "       0.03162278, 0.03162278, 0.03162278, 0.03162278, 0.03162278,\n",
              "       0.03162278, 0.03162278, 0.03162278, 0.03162278, 0.03162278,\n",
              "       0.03162278, 0.03162278, 0.03162278, 0.03162278, 0.03162278,\n",
              "       0.03162278, 0.03162278, 0.03162278, 0.03162278, 0.03162278,\n",
              "       0.03162278, 0.03162278, 0.03162278, 0.03162278, 0.03162278,\n",
              "       0.03162278, 0.03162278, 0.03162278, 0.03162278, 0.03162278,\n",
              "       0.03162278, 0.03162278, 0.03162278, 0.03162278, 0.03162278,\n",
              "       0.03162278, 0.03162278, 0.03162278, 0.03162278, 0.03162278,\n",
              "       0.03162278, 0.03162278, 0.03162278, 0.03162278, 0.03162278,\n",
              "       0.03162278, 0.03162278, 0.03162278, 0.03162278, 0.03162278,\n",
              "       0.03162278, 0.03162278, 0.03162278, 0.03162278, 0.03162278,\n",
              "       0.03162278, 0.03162278, 0.03162278, 0.03162278, 0.03162278,\n",
              "       0.03162278, 0.03162278, 0.03162278, 0.03162278, 0.03162278,\n",
              "       0.03162278, 0.03162278, 0.03162278, 0.03162278, 0.03162278,\n",
              "       0.03162278, 0.03162278, 0.03162278, 0.03162278, 0.03162278,\n",
              "       0.03162278, 0.03162278, 0.03162278, 0.03162278, 0.03162278,\n",
              "       0.03162278, 0.03162278, 0.03162278, 0.03162278, 0.03162278,\n",
              "       0.03162278, 0.03162278, 0.03162278, 0.03162278, 0.03162278,\n",
              "       0.03162278, 0.03162278, 0.03162278, 0.03162278, 0.03162278,\n",
              "       0.03162278, 0.03162278, 0.03162278, 0.03162278, 0.03162278,\n",
              "       0.03162278, 0.03162278, 0.03162278, 0.03162278, 0.03162278,\n",
              "       0.03162278, 0.03162278, 0.03162278, 0.03162278, 0.03162278,\n",
              "       0.03162278, 0.03162278, 0.03162278, 0.03162278, 0.03162278,\n",
              "       0.03162278, 0.03162278, 0.03162278, 0.03162278, 0.03162278,\n",
              "       0.03162278, 0.03162278, 0.03162278, 0.03162278, 0.03162278,\n",
              "       0.03162278, 0.03162278, 0.03162278, 0.03162278, 0.03162278,\n",
              "       0.03162278, 0.03162278, 0.03162278, 0.03162278, 0.03162278,\n",
              "       0.03162278, 0.03162278, 0.03162278, 0.03162278, 0.03162278,\n",
              "       0.03162278, 0.03162278, 0.03162278, 0.03162278, 0.03162278,\n",
              "       0.03162278, 0.03162278, 0.03162278, 0.03162278, 0.03162278,\n",
              "       0.03162278, 0.03162278, 0.03162278, 0.03162278, 0.03162278,\n",
              "       0.03162278, 0.03162278, 0.03162278, 0.03162278, 0.03162278,\n",
              "       0.03162278, 0.03162278, 0.03162278, 0.03162278, 0.03162278,\n",
              "       0.03162278, 0.03162278, 0.03162278, 0.03162278, 0.03162278,\n",
              "       0.03162278, 0.03162278, 0.03162278, 0.03162278, 0.03162278,\n",
              "       0.03162278, 0.03162278, 0.03162278, 0.03162278, 0.03162278,\n",
              "       0.03162278, 0.03162278, 0.03162278, 0.03162278, 0.03162278,\n",
              "       0.03162278, 0.03162278, 0.03162278, 0.03162278, 0.03162278,\n",
              "       0.03162278, 0.03162278, 0.03162278, 0.03162278, 0.03162278,\n",
              "       0.03162278, 0.03162278, 0.03162278, 0.03162278, 0.03162278,\n",
              "       0.03162278, 0.03162278, 0.03162278, 0.03162278, 0.03162278,\n",
              "       0.03162278, 0.03162278, 0.03162278, 0.03162278, 0.03162278,\n",
              "       0.03162278, 0.03162278, 0.03162278, 0.03162278, 0.03162278,\n",
              "       0.03162278, 0.03162278, 0.03162278, 0.03162278, 0.03162278,\n",
              "       0.03162278, 0.03162278, 0.03162278, 0.03162278, 0.03162278,\n",
              "       0.03162278, 0.03162278, 0.03162278, 0.03162278, 0.03162278,\n",
              "       0.03162278, 0.03162278, 0.03162278, 0.03162278, 0.03162278,\n",
              "       0.03162278, 0.03162278, 0.03162278, 0.03162278, 0.03162278,\n",
              "       0.03162278, 0.03162278, 0.03162278, 0.03162278, 0.03162278,\n",
              "       0.03162278, 0.03162278, 0.03162278, 0.03162278, 0.03162278,\n",
              "       0.03162278, 0.03162278, 0.03162278, 0.03162278, 0.03162278,\n",
              "       0.03162278, 0.03162278, 0.03162278, 0.03162278, 0.03162278,\n",
              "       0.03162278, 0.03162278, 0.03162278, 0.03162278, 0.03162278,\n",
              "       0.03162278, 0.03162278, 0.03162278, 0.03162278, 0.03162278,\n",
              "       0.03162278, 0.03162278, 0.03162278, 0.03162278, 0.03162278,\n",
              "       0.03162278, 0.03162278, 0.03162278, 0.03162278, 0.03162278,\n",
              "       0.03162278, 0.03162278, 0.03162278, 0.03162278, 0.03162278,\n",
              "       0.03162278, 0.03162278, 0.03162278, 0.03162278, 0.03162278,\n",
              "       0.03162278, 0.03162278, 0.03162278, 0.03162278, 0.03162278,\n",
              "       0.03162278, 0.03162278, 0.03162278, 0.03162278, 0.03162278,\n",
              "       0.03162278, 0.03162278, 0.03162278, 0.03162278, 0.03162278,\n",
              "       0.03162278, 0.03162278, 0.03162278, 0.03162278, 0.03162278,\n",
              "       0.03162278, 0.03162278, 0.03162278, 0.03162278, 0.03162278,\n",
              "       0.03162278, 0.03162278, 0.03162278, 0.03162278, 0.03162278,\n",
              "       0.03162278, 0.03162278, 0.03162278, 0.03162278, 0.03162278,\n",
              "       0.03162278, 0.03162278, 0.03162278, 0.03162278, 0.03162278,\n",
              "       0.03162278, 0.03162278, 0.03162278, 0.03162278, 0.03162278,\n",
              "       0.03162278, 0.03162278, 0.03162278, 0.03162278, 0.03162278,\n",
              "       0.03162278, 0.03162278, 0.03162278, 0.03162278, 0.03162278,\n",
              "       0.03162278, 0.03162278, 0.03162278, 0.03162278, 0.03162278,\n",
              "       0.03162278, 0.03162278, 0.03162278, 0.03162278, 0.03162278,\n",
              "       0.03162278, 0.03162278, 0.03162278, 0.03162278, 0.03162278,\n",
              "       0.03162278, 0.03162278, 0.03162278, 0.03162278, 0.03162278,\n",
              "       0.03162278, 0.03162278, 0.03162278, 0.03162278, 0.03162278,\n",
              "       0.03162278, 0.03162278, 0.03162278, 0.03162278, 0.03162278,\n",
              "       0.03162278, 0.03162278, 0.03162278, 0.03162278, 0.03162278,\n",
              "       0.03162278, 0.03162278, 0.03162278, 0.03162278, 0.03162278,\n",
              "       0.03162278, 0.03162278, 0.03162278, 0.03162278, 0.03162278,\n",
              "       0.03162278, 0.03162278, 0.03162278, 0.03162278, 0.03162278,\n",
              "       0.03162278, 0.03162278, 0.03162278, 0.03162278, 0.03162278,\n",
              "       0.03162278, 0.03162278, 0.03162278, 0.03162278, 0.03162278,\n",
              "       0.03162278, 0.03162278, 0.03162278, 0.03162278, 0.03162278,\n",
              "       0.03162278, 0.03162278, 0.03162278, 0.03162278, 0.03162278,\n",
              "       0.03162278, 0.03162278, 0.03162278, 0.03162278, 0.03162278,\n",
              "       0.03162278, 0.03162278, 0.03162278, 0.03162278, 0.03162278,\n",
              "       0.03162278, 0.03162278, 0.03162278, 0.03162278, 0.03162278,\n",
              "       0.03162278, 0.03162278, 0.03162278, 0.03162278, 0.03162278,\n",
              "       0.03162278, 0.03162278, 0.03162278, 0.03162278, 0.03162278,\n",
              "       0.03162278, 0.03162278, 0.03162278, 0.03162278, 0.03162278,\n",
              "       0.03162278, 0.03162278, 0.03162278, 0.03162278, 0.03162278,\n",
              "       0.03162278, 0.03162278, 0.03162278, 0.03162278, 0.03162278,\n",
              "       0.03162278, 0.03162278, 0.03162278, 0.03162278, 0.03162278,\n",
              "       0.03162278, 0.03162278, 0.03162278, 0.03162278, 0.03162278,\n",
              "       0.03162278, 0.03162278, 0.03162278, 0.03162278, 0.03162278,\n",
              "       0.03162278, 0.03162278, 0.03162278, 0.03162278, 0.03162278,\n",
              "       0.03162278, 0.03162278, 0.03162278, 0.03162278, 0.03162278,\n",
              "       0.03162278, 0.03162278, 0.03162278, 0.03162278, 0.03162278,\n",
              "       0.03162278, 0.03162278, 0.03162278, 0.03162278, 0.03162278,\n",
              "       0.03162278, 0.03162278, 0.03162278, 0.03162278, 0.03162278,\n",
              "       0.03162278, 0.03162278, 0.03162278, 0.03162278, 0.03162278,\n",
              "       0.03162278, 0.03162278, 0.03162278, 0.03162278, 0.03162278,\n",
              "       0.03162278, 0.03162278, 0.03162278, 0.03162278, 0.03162278,\n",
              "       0.03162278, 0.03162278, 0.03162278, 0.03162278, 0.03162278,\n",
              "       0.03162278, 0.03162278, 0.03162278, 0.03162278, 0.03162278,\n",
              "       0.03162278, 0.03162278, 0.03162278, 0.03162278, 0.03162278,\n",
              "       0.03162278, 0.03162278, 0.03162278, 0.03162278, 0.03162278,\n",
              "       0.03162278, 0.03162278, 0.03162278, 0.03162278, 0.03162278,\n",
              "       0.03162278, 0.03162278, 0.03162278, 0.03162278, 0.03162278,\n",
              "       0.03162278, 0.03162278, 0.03162278, 0.03162278, 0.03162278,\n",
              "       0.03162278, 0.03162278, 0.03162278, 0.03162278, 0.03162278,\n",
              "       0.03162278, 0.03162278, 0.03162278, 0.03162278, 0.03162278,\n",
              "       0.03162278, 0.03162278, 0.03162278, 0.03162278, 0.03162278,\n",
              "       0.03162278, 0.03162278, 0.03162278, 0.03162278, 0.03162278,\n",
              "       0.03162278, 0.03162278, 0.03162278, 0.03162278, 0.03162278,\n",
              "       0.03162278, 0.03162278, 0.03162278, 0.03162278, 0.03162278,\n",
              "       0.03162278, 0.03162278, 0.03162278, 0.03162278, 0.03162278,\n",
              "       0.03162278, 0.03162278, 0.03162278, 0.03162278, 0.03162278,\n",
              "       0.03162278, 0.03162278, 0.03162278, 0.03162278, 0.03162278,\n",
              "       0.03162278, 0.03162278, 0.03162278, 0.03162278, 0.03162278,\n",
              "       0.03162278, 0.03162278, 0.03162278, 0.03162278, 0.03162278,\n",
              "       0.03162278, 0.03162278, 0.03162278, 0.03162278, 0.03162278,\n",
              "       0.03162278, 0.03162278, 0.03162278, 0.03162278, 0.03162278,\n",
              "       0.03162278, 0.03162278, 0.03162278, 0.03162278, 0.03162278])"
            ]
          },
          "metadata": {},
          "execution_count": 42
        }
      ],
      "source": [
        "V[:,0] #the first samllest eigenvalue corresponds to the first eigenvector – should be a constant vector k*e, where e=(1,1,...,1), where k=sqrt(1/n)"
      ]
    },
    {
      "cell_type": "code",
      "execution_count": 43,
      "metadata": {
        "id": "QyzhECbz_OhK"
      },
      "outputs": [],
      "source": [
        "from math import sqrt"
      ]
    },
    {
      "cell_type": "code",
      "execution_count": 44,
      "metadata": {
        "id": "_2bd5cJl_OhL",
        "outputId": "bb6a47f5-7810-4fcd-b768-b96d9030ebf6",
        "colab": {
          "base_uri": "https://localhost:8080/"
        }
      },
      "outputs": [
        {
          "output_type": "execute_result",
          "data": {
            "text/plain": [
              "0.03162277660168379"
            ]
          },
          "metadata": {},
          "execution_count": 44
        }
      ],
      "source": [
        "sqrt(1/1000)"
      ]
    },
    {
      "cell_type": "code",
      "execution_count": 45,
      "metadata": {
        "id": "2uTTVHSl_OhL"
      },
      "outputs": [],
      "source": [
        "X=V[:,1] #the second smallest eigenvalue corresponds to the second eigenvector\n",
        "Y=V[:,2]"
      ]
    },
    {
      "cell_type": "code",
      "execution_count": 46,
      "metadata": {
        "id": "4zxlki5F_OhL"
      },
      "outputs": [],
      "source": [
        "Ids1=np.argsort(X)\n",
        "Ids2=np.argsort(Y)"
      ]
    },
    {
      "cell_type": "code",
      "execution_count": 47,
      "metadata": {
        "id": "InzIWXPQ_OhL",
        "outputId": "d8879013-8c7e-440f-bc7a-f8f71f18d70d",
        "colab": {
          "base_uri": "https://localhost:8080/",
          "height": 284
        }
      },
      "outputs": [
        {
          "output_type": "execute_result",
          "data": {
            "text/plain": [
              "[<matplotlib.lines.Line2D at 0x7fe37eaee490>]"
            ]
          },
          "metadata": {},
          "execution_count": 47
        },
        {
          "output_type": "display_data",
          "data": {
            "text/plain": [
              "<Figure size 432x288 with 1 Axes>"
            ],
            "image/png": "[encoded data removed]"
          },
          "metadata": {
            "needs_background": "light"
          }
        }
      ],
      "source": [
        "plt.plot(X,\"o\") #original X"
      ]
    },
    {
      "cell_type": "code",
      "execution_count": 48,
      "metadata": {
        "id": "7Q-BC6IE_OhL",
        "outputId": "43c7c6a1-4bc2-4e5e-ad33-cdd4c6486776",
        "colab": {
          "base_uri": "https://localhost:8080/",
          "height": 284
        }
      },
      "outputs": [
        {
          "output_type": "execute_result",
          "data": {
            "text/plain": [
              "[<matplotlib.lines.Line2D at 0x7fe37ea7ec10>]"
            ]
          },
          "metadata": {},
          "execution_count": 48
        },
        {
          "output_type": "display_data",
          "data": {
            "text/plain": [
              "<Figure size 432x288 with 1 Axes>"
            ],
            "image/png": "[encoded data removed]"
          },
          "metadata": {
            "needs_background": "light"
          }
        }
      ],
      "source": [
        "plt.plot(X[Ids1])"
      ]
    },
    {
      "cell_type": "code",
      "execution_count": 49,
      "metadata": {
        "id": "J-TK4dpK_OhL",
        "outputId": "c20928b4-a968-4f75-a8fc-5dc18ab50707",
        "colab": {
          "base_uri": "https://localhost:8080/",
          "height": 282
        }
      },
      "outputs": [
        {
          "output_type": "execute_result",
          "data": {
            "text/plain": [
              "[<matplotlib.lines.Line2D at 0x7fe37ea5ad00>]"
            ]
          },
          "metadata": {},
          "execution_count": 49
        },
        {
          "output_type": "display_data",
          "data": {
            "text/plain": [
              "<Figure size 432x288 with 1 Axes>"
            ],
            "image/png": "[encoded data removed]"
          },
          "metadata": {
            "needs_background": "light"
          }
        }
      ],
      "source": [
        "plt.plot(X[Ids1],Y[Ids2],\"*\") #sorted X"
      ]
    },
    {
      "cell_type": "code",
      "execution_count": 50,
      "metadata": {
        "id": "B63NlLLj_OhM",
        "outputId": "f0b7861c-1680-47b0-d1fa-0c389a581aa5",
        "colab": {
          "base_uri": "https://localhost:8080/"
        }
      },
      "outputs": [
        {
          "output_type": "execute_result",
          "data": {
            "text/plain": [
              "-1.9095836023552692e-13"
            ]
          },
          "metadata": {},
          "execution_count": 50
        }
      ],
      "source": [
        "sum(np.dot(L,X)) #the result is non-zero"
      ]
    },
    {
      "cell_type": "code",
      "execution_count": 51,
      "metadata": {
        "id": "tA4ul8sh_OhM",
        "outputId": "4e06b707-1d8e-4390-fbc7-33f7f8f72748",
        "colab": {
          "base_uri": "https://localhost:8080/"
        }
      },
      "outputs": [
        {
          "output_type": "execute_result",
          "data": {
            "text/plain": [
              "-4.262812325350751e-12"
            ]
          },
          "metadata": {},
          "execution_count": 51
        }
      ],
      "source": [
        "sum(np.dot(L,V[:,0])) #due to numerical instability the result is non-zero for the first vector too"
      ]
    },
    {
      "cell_type": "code",
      "execution_count": 52,
      "metadata": {
        "id": "lO5i24Sx_OhM",
        "outputId": "e5047563-a40c-4161-bfca-7c240d8dc27a",
        "colab": {
          "base_uri": "https://localhost:8080/",
          "height": 293
        }
      },
      "outputs": [
        {
          "output_type": "execute_result",
          "data": {
            "text/plain": [
              "[<matplotlib.lines.Line2D at 0x7fe37ea3b7c0>]"
            ]
          },
          "metadata": {},
          "execution_count": 52
        },
        {
          "output_type": "display_data",
          "data": {
            "text/plain": [
              "<Figure size 432x288 with 1 Axes>"
            ],
            "image/png": "[encoded data removed]"
          },
          "metadata": {
            "needs_background": "light"
          }
        }
      ],
      "source": [
        "plt.plot(V[:,0]) # but it does not suite our purpose"
      ]
    },
    {
      "cell_type": "code",
      "execution_count": 53,
      "metadata": {
        "id": "65JuZgyd_OhM"
      },
      "outputs": [],
      "source": [
        "B=A[Ids1,:]#let us sort our matrix according to the new order of the second vector components; first, by rows"
      ]
    },
    {
      "cell_type": "code",
      "execution_count": 54,
      "metadata": {
        "id": "sIh1yZH-_OhM",
        "outputId": "a9b26f4a-fafe-49fd-bd64-c9f632de1ab1",
        "colab": {
          "base_uri": "https://localhost:8080/",
          "height": 286
        }
      },
      "outputs": [
        {
          "output_type": "execute_result",
          "data": {
            "text/plain": [
              "<matplotlib.collections.QuadMesh at 0x7fe388fd6070>"
            ]
          },
          "metadata": {},
          "execution_count": 54
        },
        {
          "output_type": "display_data",
          "data": {
            "text/plain": [
              "<Figure size 432x288 with 1 Axes>"
            ],
            "image/png": "[encoded data removed]"
          },
          "metadata": {
            "needs_background": "light"
          }
        }
      ],
      "source": [
        "plt.pcolormesh(B)"
      ]
    },
    {
      "cell_type": "code",
      "execution_count": 55,
      "metadata": {
        "id": "QejrHnJK_OhM",
        "outputId": "4df1d7fc-4387-441d-ef71-b0c22e8701ad",
        "colab": {
          "base_uri": "https://localhost:8080/",
          "height": 286
        }
      },
      "outputs": [
        {
          "output_type": "execute_result",
          "data": {
            "text/plain": [
              "<matplotlib.collections.QuadMesh at 0x7fe37e9bf640>"
            ]
          },
          "metadata": {},
          "execution_count": 55
        },
        {
          "output_type": "display_data",
          "data": {
            "text/plain": [
              "<Figure size 432x288 with 1 Axes>"
            ],
            "image/png": "[encoded data removed]"
          },
          "metadata": {
            "needs_background": "light"
          }
        }
      ],
      "source": [
        "plt.pcolormesh(B[:,Ids1]) #second, by columns; we identified our communities"
      ]
    },
    {
      "cell_type": "code",
      "execution_count": 56,
      "metadata": {
        "id": "wIgLCach_OhN"
      },
      "outputs": [],
      "source": [
        "e=np.ones(1000) #just for curiosity, let us check the constant vector"
      ]
    },
    {
      "cell_type": "code",
      "execution_count": 57,
      "metadata": {
        "id": "Ta7olPH1_OhN",
        "outputId": "135a6270-85b5-4c2c-eef9-f201c23d7c98",
        "colab": {
          "base_uri": "https://localhost:8080/"
        }
      },
      "outputs": [
        {
          "output_type": "execute_result",
          "data": {
            "text/plain": [
              "array([1., 1., 1., 1., 1., 1., 1., 1., 1., 1., 1., 1., 1., 1., 1., 1., 1.,\n",
              "       1., 1., 1., 1., 1., 1., 1., 1., 1., 1., 1., 1., 1., 1., 1., 1., 1.,\n",
              "       1., 1., 1., 1., 1., 1., 1., 1., 1., 1., 1., 1., 1., 1., 1., 1., 1.,\n",
              "       1., 1., 1., 1., 1., 1., 1., 1., 1., 1., 1., 1., 1., 1., 1., 1., 1.,\n",
              "       1., 1., 1., 1., 1., 1., 1., 1., 1., 1., 1., 1., 1., 1., 1., 1., 1.,\n",
              "       1., 1., 1., 1., 1., 1., 1., 1., 1., 1., 1., 1., 1., 1., 1., 1., 1.,\n",
              "       1., 1., 1., 1., 1., 1., 1., 1., 1., 1., 1., 1., 1., 1., 1., 1., 1.,\n",
              "       1., 1., 1., 1., 1., 1., 1., 1., 1., 1., 1., 1., 1., 1., 1., 1., 1.,\n",
              "       1., 1., 1., 1., 1., 1., 1., 1., 1., 1., 1., 1., 1., 1., 1., 1., 1.,\n",
              "       1., 1., 1., 1., 1., 1., 1., 1., 1., 1., 1., 1., 1., 1., 1., 1., 1.,\n",
              "       1., 1., 1., 1., 1., 1., 1., 1., 1., 1., 1., 1., 1., 1., 1., 1., 1.,\n",
              "       1., 1., 1., 1., 1., 1., 1., 1., 1., 1., 1., 1., 1., 1., 1., 1., 1.,\n",
              "       1., 1., 1., 1., 1., 1., 1., 1., 1., 1., 1., 1., 1., 1., 1., 1., 1.,\n",
              "       1., 1., 1., 1., 1., 1., 1., 1., 1., 1., 1., 1., 1., 1., 1., 1., 1.,\n",
              "       1., 1., 1., 1., 1., 1., 1., 1., 1., 1., 1., 1., 1., 1., 1., 1., 1.,\n",
              "       1., 1., 1., 1., 1., 1., 1., 1., 1., 1., 1., 1., 1., 1., 1., 1., 1.,\n",
              "       1., 1., 1., 1., 1., 1., 1., 1., 1., 1., 1., 1., 1., 1., 1., 1., 1.,\n",
              "       1., 1., 1., 1., 1., 1., 1., 1., 1., 1., 1., 1., 1., 1., 1., 1., 1.,\n",
              "       1., 1., 1., 1., 1., 1., 1., 1., 1., 1., 1., 1., 1., 1., 1., 1., 1.,\n",
              "       1., 1., 1., 1., 1., 1., 1., 1., 1., 1., 1., 1., 1., 1., 1., 1., 1.,\n",
              "       1., 1., 1., 1., 1., 1., 1., 1., 1., 1., 1., 1., 1., 1., 1., 1., 1.,\n",
              "       1., 1., 1., 1., 1., 1., 1., 1., 1., 1., 1., 1., 1., 1., 1., 1., 1.,\n",
              "       1., 1., 1., 1., 1., 1., 1., 1., 1., 1., 1., 1., 1., 1., 1., 1., 1.,\n",
              "       1., 1., 1., 1., 1., 1., 1., 1., 1., 1., 1., 1., 1., 1., 1., 1., 1.,\n",
              "       1., 1., 1., 1., 1., 1., 1., 1., 1., 1., 1., 1., 1., 1., 1., 1., 1.,\n",
              "       1., 1., 1., 1., 1., 1., 1., 1., 1., 1., 1., 1., 1., 1., 1., 1., 1.,\n",
              "       1., 1., 1., 1., 1., 1., 1., 1., 1., 1., 1., 1., 1., 1., 1., 1., 1.,\n",
              "       1., 1., 1., 1., 1., 1., 1., 1., 1., 1., 1., 1., 1., 1., 1., 1., 1.,\n",
              "       1., 1., 1., 1., 1., 1., 1., 1., 1., 1., 1., 1., 1., 1., 1., 1., 1.,\n",
              "       1., 1., 1., 1., 1., 1., 1., 1., 1., 1., 1., 1., 1., 1., 1., 1., 1.,\n",
              "       1., 1., 1., 1., 1., 1., 1., 1., 1., 1., 1., 1., 1., 1., 1., 1., 1.,\n",
              "       1., 1., 1., 1., 1., 1., 1., 1., 1., 1., 1., 1., 1., 1., 1., 1., 1.,\n",
              "       1., 1., 1., 1., 1., 1., 1., 1., 1., 1., 1., 1., 1., 1., 1., 1., 1.,\n",
              "       1., 1., 1., 1., 1., 1., 1., 1., 1., 1., 1., 1., 1., 1., 1., 1., 1.,\n",
              "       1., 1., 1., 1., 1., 1., 1., 1., 1., 1., 1., 1., 1., 1., 1., 1., 1.,\n",
              "       1., 1., 1., 1., 1., 1., 1., 1., 1., 1., 1., 1., 1., 1., 1., 1., 1.,\n",
              "       1., 1., 1., 1., 1., 1., 1., 1., 1., 1., 1., 1., 1., 1., 1., 1., 1.,\n",
              "       1., 1., 1., 1., 1., 1., 1., 1., 1., 1., 1., 1., 1., 1., 1., 1., 1.,\n",
              "       1., 1., 1., 1., 1., 1., 1., 1., 1., 1., 1., 1., 1., 1., 1., 1., 1.,\n",
              "       1., 1., 1., 1., 1., 1., 1., 1., 1., 1., 1., 1., 1., 1., 1., 1., 1.,\n",
              "       1., 1., 1., 1., 1., 1., 1., 1., 1., 1., 1., 1., 1., 1., 1., 1., 1.,\n",
              "       1., 1., 1., 1., 1., 1., 1., 1., 1., 1., 1., 1., 1., 1., 1., 1., 1.,\n",
              "       1., 1., 1., 1., 1., 1., 1., 1., 1., 1., 1., 1., 1., 1., 1., 1., 1.,\n",
              "       1., 1., 1., 1., 1., 1., 1., 1., 1., 1., 1., 1., 1., 1., 1., 1., 1.,\n",
              "       1., 1., 1., 1., 1., 1., 1., 1., 1., 1., 1., 1., 1., 1., 1., 1., 1.,\n",
              "       1., 1., 1., 1., 1., 1., 1., 1., 1., 1., 1., 1., 1., 1., 1., 1., 1.,\n",
              "       1., 1., 1., 1., 1., 1., 1., 1., 1., 1., 1., 1., 1., 1., 1., 1., 1.,\n",
              "       1., 1., 1., 1., 1., 1., 1., 1., 1., 1., 1., 1., 1., 1., 1., 1., 1.,\n",
              "       1., 1., 1., 1., 1., 1., 1., 1., 1., 1., 1., 1., 1., 1., 1., 1., 1.,\n",
              "       1., 1., 1., 1., 1., 1., 1., 1., 1., 1., 1., 1., 1., 1., 1., 1., 1.,\n",
              "       1., 1., 1., 1., 1., 1., 1., 1., 1., 1., 1., 1., 1., 1., 1., 1., 1.,\n",
              "       1., 1., 1., 1., 1., 1., 1., 1., 1., 1., 1., 1., 1., 1., 1., 1., 1.,\n",
              "       1., 1., 1., 1., 1., 1., 1., 1., 1., 1., 1., 1., 1., 1., 1., 1., 1.,\n",
              "       1., 1., 1., 1., 1., 1., 1., 1., 1., 1., 1., 1., 1., 1., 1., 1., 1.,\n",
              "       1., 1., 1., 1., 1., 1., 1., 1., 1., 1., 1., 1., 1., 1., 1., 1., 1.,\n",
              "       1., 1., 1., 1., 1., 1., 1., 1., 1., 1., 1., 1., 1., 1., 1., 1., 1.,\n",
              "       1., 1., 1., 1., 1., 1., 1., 1., 1., 1., 1., 1., 1., 1., 1., 1., 1.,\n",
              "       1., 1., 1., 1., 1., 1., 1., 1., 1., 1., 1., 1., 1., 1., 1., 1., 1.,\n",
              "       1., 1., 1., 1., 1., 1., 1., 1., 1., 1., 1., 1., 1., 1.])"
            ]
          },
          "metadata": {},
          "execution_count": 57
        }
      ],
      "source": [
        "e"
      ]
    },
    {
      "cell_type": "code",
      "execution_count": 58,
      "metadata": {
        "id": "Y1UW5aMG_OhN",
        "outputId": "61994c40-206b-4328-8bb0-428d736bcb9a",
        "colab": {
          "base_uri": "https://localhost:8080/"
        }
      },
      "outputs": [
        {
          "output_type": "execute_result",
          "data": {
            "text/plain": [
              "array([0., 0., 0., 0., 0., 0., 0., 0., 0., 0., 0., 0., 0., 0., 0., 0., 0.,\n",
              "       0., 0., 0., 0., 0., 0., 0., 0., 0., 0., 0., 0., 0., 0., 0., 0., 0.,\n",
              "       0., 0., 0., 0., 0., 0., 0., 0., 0., 0., 0., 0., 0., 0., 0., 0., 0.,\n",
              "       0., 0., 0., 0., 0., 0., 0., 0., 0., 0., 0., 0., 0., 0., 0., 0., 0.,\n",
              "       0., 0., 0., 0., 0., 0., 0., 0., 0., 0., 0., 0., 0., 0., 0., 0., 0.,\n",
              "       0., 0., 0., 0., 0., 0., 0., 0., 0., 0., 0., 0., 0., 0., 0., 0., 0.,\n",
              "       0., 0., 0., 0., 0., 0., 0., 0., 0., 0., 0., 0., 0., 0., 0., 0., 0.,\n",
              "       0., 0., 0., 0., 0., 0., 0., 0., 0., 0., 0., 0., 0., 0., 0., 0., 0.,\n",
              "       0., 0., 0., 0., 0., 0., 0., 0., 0., 0., 0., 0., 0., 0., 0., 0., 0.,\n",
              "       0., 0., 0., 0., 0., 0., 0., 0., 0., 0., 0., 0., 0., 0., 0., 0., 0.,\n",
              "       0., 0., 0., 0., 0., 0., 0., 0., 0., 0., 0., 0., 0., 0., 0., 0., 0.,\n",
              "       0., 0., 0., 0., 0., 0., 0., 0., 0., 0., 0., 0., 0., 0., 0., 0., 0.,\n",
              "       0., 0., 0., 0., 0., 0., 0., 0., 0., 0., 0., 0., 0., 0., 0., 0., 0.,\n",
              "       0., 0., 0., 0., 0., 0., 0., 0., 0., 0., 0., 0., 0., 0., 0., 0., 0.,\n",
              "       0., 0., 0., 0., 0., 0., 0., 0., 0., 0., 0., 0., 0., 0., 0., 0., 0.,\n",
              "       0., 0., 0., 0., 0., 0., 0., 0., 0., 0., 0., 0., 0., 0., 0., 0., 0.,\n",
              "       0., 0., 0., 0., 0., 0., 0., 0., 0., 0., 0., 0., 0., 0., 0., 0., 0.,\n",
              "       0., 0., 0., 0., 0., 0., 0., 0., 0., 0., 0., 0., 0., 0., 0., 0., 0.,\n",
              "       0., 0., 0., 0., 0., 0., 0., 0., 0., 0., 0., 0., 0., 0., 0., 0., 0.,\n",
              "       0., 0., 0., 0., 0., 0., 0., 0., 0., 0., 0., 0., 0., 0., 0., 0., 0.,\n",
              "       0., 0., 0., 0., 0., 0., 0., 0., 0., 0., 0., 0., 0., 0., 0., 0., 0.,\n",
              "       0., 0., 0., 0., 0., 0., 0., 0., 0., 0., 0., 0., 0., 0., 0., 0., 0.,\n",
              "       0., 0., 0., 0., 0., 0., 0., 0., 0., 0., 0., 0., 0., 0., 0., 0., 0.,\n",
              "       0., 0., 0., 0., 0., 0., 0., 0., 0., 0., 0., 0., 0., 0., 0., 0., 0.,\n",
              "       0., 0., 0., 0., 0., 0., 0., 0., 0., 0., 0., 0., 0., 0., 0., 0., 0.,\n",
              "       0., 0., 0., 0., 0., 0., 0., 0., 0., 0., 0., 0., 0., 0., 0., 0., 0.,\n",
              "       0., 0., 0., 0., 0., 0., 0., 0., 0., 0., 0., 0., 0., 0., 0., 0., 0.,\n",
              "       0., 0., 0., 0., 0., 0., 0., 0., 0., 0., 0., 0., 0., 0., 0., 0., 0.,\n",
              "       0., 0., 0., 0., 0., 0., 0., 0., 0., 0., 0., 0., 0., 0., 0., 0., 0.,\n",
              "       0., 0., 0., 0., 0., 0., 0., 0., 0., 0., 0., 0., 0., 0., 0., 0., 0.,\n",
              "       0., 0., 0., 0., 0., 0., 0., 0., 0., 0., 0., 0., 0., 0., 0., 0., 0.,\n",
              "       0., 0., 0., 0., 0., 0., 0., 0., 0., 0., 0., 0., 0., 0., 0., 0., 0.,\n",
              "       0., 0., 0., 0., 0., 0., 0., 0., 0., 0., 0., 0., 0., 0., 0., 0., 0.,\n",
              "       0., 0., 0., 0., 0., 0., 0., 0., 0., 0., 0., 0., 0., 0., 0., 0., 0.,\n",
              "       0., 0., 0., 0., 0., 0., 0., 0., 0., 0., 0., 0., 0., 0., 0., 0., 0.,\n",
              "       0., 0., 0., 0., 0., 0., 0., 0., 0., 0., 0., 0., 0., 0., 0., 0., 0.,\n",
              "       0., 0., 0., 0., 0., 0., 0., 0., 0., 0., 0., 0., 0., 0., 0., 0., 0.,\n",
              "       0., 0., 0., 0., 0., 0., 0., 0., 0., 0., 0., 0., 0., 0., 0., 0., 0.,\n",
              "       0., 0., 0., 0., 0., 0., 0., 0., 0., 0., 0., 0., 0., 0., 0., 0., 0.,\n",
              "       0., 0., 0., 0., 0., 0., 0., 0., 0., 0., 0., 0., 0., 0., 0., 0., 0.,\n",
              "       0., 0., 0., 0., 0., 0., 0., 0., 0., 0., 0., 0., 0., 0., 0., 0., 0.,\n",
              "       0., 0., 0., 0., 0., 0., 0., 0., 0., 0., 0., 0., 0., 0., 0., 0., 0.,\n",
              "       0., 0., 0., 0., 0., 0., 0., 0., 0., 0., 0., 0., 0., 0., 0., 0., 0.,\n",
              "       0., 0., 0., 0., 0., 0., 0., 0., 0., 0., 0., 0., 0., 0., 0., 0., 0.,\n",
              "       0., 0., 0., 0., 0., 0., 0., 0., 0., 0., 0., 0., 0., 0., 0., 0., 0.,\n",
              "       0., 0., 0., 0., 0., 0., 0., 0., 0., 0., 0., 0., 0., 0., 0., 0., 0.,\n",
              "       0., 0., 0., 0., 0., 0., 0., 0., 0., 0., 0., 0., 0., 0., 0., 0., 0.,\n",
              "       0., 0., 0., 0., 0., 0., 0., 0., 0., 0., 0., 0., 0., 0., 0., 0., 0.,\n",
              "       0., 0., 0., 0., 0., 0., 0., 0., 0., 0., 0., 0., 0., 0., 0., 0., 0.,\n",
              "       0., 0., 0., 0., 0., 0., 0., 0., 0., 0., 0., 0., 0., 0., 0., 0., 0.,\n",
              "       0., 0., 0., 0., 0., 0., 0., 0., 0., 0., 0., 0., 0., 0., 0., 0., 0.,\n",
              "       0., 0., 0., 0., 0., 0., 0., 0., 0., 0., 0., 0., 0., 0., 0., 0., 0.,\n",
              "       0., 0., 0., 0., 0., 0., 0., 0., 0., 0., 0., 0., 0., 0., 0., 0., 0.,\n",
              "       0., 0., 0., 0., 0., 0., 0., 0., 0., 0., 0., 0., 0., 0., 0., 0., 0.,\n",
              "       0., 0., 0., 0., 0., 0., 0., 0., 0., 0., 0., 0., 0., 0., 0., 0., 0.,\n",
              "       0., 0., 0., 0., 0., 0., 0., 0., 0., 0., 0., 0., 0., 0., 0., 0., 0.,\n",
              "       0., 0., 0., 0., 0., 0., 0., 0., 0., 0., 0., 0., 0., 0., 0., 0., 0.,\n",
              "       0., 0., 0., 0., 0., 0., 0., 0., 0., 0., 0., 0., 0., 0., 0., 0., 0.,\n",
              "       0., 0., 0., 0., 0., 0., 0., 0., 0., 0., 0., 0., 0., 0.])"
            ]
          },
          "metadata": {},
          "execution_count": 58
        }
      ],
      "source": [
        "np.dot(L,e) # it corresponds to zero eigenvalue"
      ]
    },
    {
      "cell_type": "code",
      "execution_count": 59,
      "metadata": {
        "id": "tD1XBfxS_OhN",
        "outputId": "d5347c8c-deca-4348-eae1-8d2352143357",
        "colab": {
          "base_uri": "https://localhost:8080/"
        }
      },
      "outputs": [
        {
          "output_type": "execute_result",
          "data": {
            "text/plain": [
              "-4.9023820081680674e-14"
            ]
          },
          "metadata": {},
          "execution_count": 59
        }
      ],
      "source": [
        "W[0] #even though due to numeric instability it is not zero in our method"
      ]
    },
    {
      "cell_type": "markdown",
      "metadata": {
        "id": "pYu6A5YR_jCW"
      },
      "source": [
        "### 2. Meaningful Partitions of Real Datasets (100%)\n",
        "\"The previous example was rather compelling. However, it was also fake.\"\n",
        "\n",
        "We can play with real anonymised data from Yahoo https://www.dropbox.com/s/ii1e09dx6o2ktit/yahoo.zip?dl=0 for web advertisment."
      ]
    },
    {
      "cell_type": "code",
      "source": [
        "!wget https://www.dropbox.com/s/ii1e09dx6o2ktit/yahoo.zip\n",
        "!unzip yahoo.zip"
      ],
      "metadata": {
        "colab": {
          "base_uri": "https://localhost:8080/"
        },
        "id": "esX7v29RRkux",
        "outputId": "58124677-5a25-435f-99d9-929ca917c6f8"
      },
      "execution_count": 78,
      "outputs": [
        {
          "output_type": "stream",
          "name": "stdout",
          "text": [
            "--2022-12-14 21:34:39--  https://www.dropbox.com/s/ii1e09dx6o2ktit/yahoo.zip\n",
            "Resolving www.dropbox.com (www.dropbox.com)... 162.125.6.18, 2620:100:6017:18::a27d:212\n",
            "Connecting to www.dropbox.com (www.dropbox.com)|162.125.6.18|:443... connected.\n",
            "HTTP request sent, awaiting response... 302 Found\n",
            "Location: /s/raw/ii1e09dx6o2ktit/yahoo.zip [following]\n",
            "--2022-12-14 21:34:39--  https://www.dropbox.com/s/raw/ii1e09dx6o2ktit/yahoo.zip\n",
            "Reusing existing connection to www.dropbox.com:443.\n",
            "HTTP request sent, awaiting response... 302 Found\n",
            "Location: https://uc87c696aaf4051b2b3ac38d7501.dl.dropboxusercontent.com/cd/0/inline/Byoxxy6s45HXtyBnmrvlpzWHSGskDuNXLjWtliuLD3k_vaFynFuNp-FZQUUAWYSnAIs5u1mKzKcSgJomStczP8vQ6s5cmLFk2uPBVqp6S6uWrNM2nG61a9CZox5lwOW-Bb_sBPyCvrusU11KFQ0cbQJCLqYkRxLfknWZ7eVCjZ54cw/file# [following]\n",
            "--2022-12-14 21:34:39--  https://uc87c696aaf4051b2b3ac38d7501.dl.dropboxusercontent.com/cd/0/inline/Byoxxy6s45HXtyBnmrvlpzWHSGskDuNXLjWtliuLD3k_vaFynFuNp-FZQUUAWYSnAIs5u1mKzKcSgJomStczP8vQ6s5cmLFk2uPBVqp6S6uWrNM2nG61a9CZox5lwOW-Bb_sBPyCvrusU11KFQ0cbQJCLqYkRxLfknWZ7eVCjZ54cw/file\n",
            "Resolving uc87c696aaf4051b2b3ac38d7501.dl.dropboxusercontent.com (uc87c696aaf4051b2b3ac38d7501.dl.dropboxusercontent.com)... 162.125.4.15, 2620:100:6019:15::a27d:40f\n",
            "Connecting to uc87c696aaf4051b2b3ac38d7501.dl.dropboxusercontent.com (uc87c696aaf4051b2b3ac38d7501.dl.dropboxusercontent.com)|162.125.4.15|:443... connected.\n",
            "HTTP request sent, awaiting response... 302 Found\n",
            "Location: /cd/0/inline2/ByrOyHE_G5y_4kinzxB-tlFv5iZkEfZYTDflBn-7nFHibtXxvpIcNDobCwffJvgzl_s-pF_-e-qY8GQr55gdtBBdAYxf8WA1Nmz8UqRWy6LKSe-jVUlrobyXs0BK96ZDVoPLS8F00SSPuJeKhjklSIuzxyxLKvnf2YY66EYzYpU9AJ5KkxzWqCo5Z-rHYEtCwNgwmjU75oJJpVBY0s82zvBOMRqqWTMzkoI6aqq1nyQJr42AQA9JiT7K80IRVuLz7uTWrUcWcRQsgKTiI5H9_4OUxUM3c-rmfOoMl3omlBBJ3l-L_ETCi7UtPki-l8ByzrhoXIVY-fgHdN0Xa-XlGE02cTOxErY8ldwfFQ9iXDSoPlS6Oesnq4JtQtxChIjwjrN9lSpSL2Jb57V-IWArZBTC7-GUEVQTP7OzS6mz1JF6MA/file [following]\n",
            "--2022-12-14 21:34:40--  https://uc87c696aaf4051b2b3ac38d7501.dl.dropboxusercontent.com/cd/0/inline2/ByrOyHE_G5y_4kinzxB-tlFv5iZkEfZYTDflBn-7nFHibtXxvpIcNDobCwffJvgzl_s-pF_-e-qY8GQr55gdtBBdAYxf8WA1Nmz8UqRWy6LKSe-jVUlrobyXs0BK96ZDVoPLS8F00SSPuJeKhjklSIuzxyxLKvnf2YY66EYzYpU9AJ5KkxzWqCo5Z-rHYEtCwNgwmjU75oJJpVBY0s82zvBOMRqqWTMzkoI6aqq1nyQJr42AQA9JiT7K80IRVuLz7uTWrUcWcRQsgKTiI5H9_4OUxUM3c-rmfOoMl3omlBBJ3l-L_ETCi7UtPki-l8ByzrhoXIVY-fgHdN0Xa-XlGE02cTOxErY8ldwfFQ9iXDSoPlS6Oesnq4JtQtxChIjwjrN9lSpSL2Jb57V-IWArZBTC7-GUEVQTP7OzS6mz1JF6MA/file\n",
            "Reusing existing connection to uc87c696aaf4051b2b3ac38d7501.dl.dropboxusercontent.com:443.\n",
            "HTTP request sent, awaiting response... 200 OK\n",
            "Length: 263238 (257K) [application/zip]\n",
            "Saving to: ‘yahoo.zip’\n",
            "\n",
            "yahoo.zip           100%[===================>] 257.07K  --.-KB/s    in 0.03s   \n",
            "\n",
            "2022-12-14 21:34:40 (9.70 MB/s) - ‘yahoo.zip’ saved [263238/263238]\n",
            "\n",
            "Archive:  yahoo.zip\n",
            "  inflating: us.3k.2k.smat           \n",
            "  inflating: us.3k.2k.trms           \n"
          ]
        }
      ]
    },
    {
      "cell_type": "code",
      "source": [
        "import numpy as np\n",
        "import pandas as pd\n",
        "import matplotlib.pyplot as plt\n",
        "from scipy.sparse.linalg import eigsh"
      ],
      "metadata": {
        "id": "HErBuGjnoNSk"
      },
      "execution_count": 1,
      "outputs": []
    },
    {
      "cell_type": "code",
      "execution_count": 2,
      "metadata": {
        "id": "6U4SjCVu_jCY"
      },
      "outputs": [],
      "source": [
        "# reading data, 2000 companies, 3000 advertising terms, \n",
        "# 92345 connections in the graph showing that a firm buys a term\n",
        "a = np.genfromtxt('us.3k.2k.smat')\n",
        "a = a.astype(int)\n",
        "n, m, n_connections = a[0]"
      ]
    },
    {
      "cell_type": "code",
      "execution_count": 3,
      "metadata": {
        "id": "ziUWCf2__OhO",
        "outputId": "dbe06fd6-6a55-4d63-d8eb-dd583328b0e8",
        "colab": {
          "base_uri": "https://localhost:8080/"
        }
      },
      "outputs": [
        {
          "output_type": "execute_result",
          "data": {
            "text/plain": [
              "array([[  0,  23,   1],\n",
              "       [  0,  96,   1],\n",
              "       [  0, 188,   1],\n",
              "       [  0, 328,   1],\n",
              "       [  0, 556,   1],\n",
              "       [  0, 632,   1],\n",
              "       [  0, 672,   1],\n",
              "       [  0, 700,   1],\n",
              "       [  0, 714,   1]])"
            ]
          },
          "metadata": {},
          "execution_count": 3
        }
      ],
      "source": [
        "a[1:10]"
      ]
    },
    {
      "cell_type": "code",
      "execution_count": 4,
      "metadata": {
        "id": "5GULoysw_jCZ"
      },
      "outputs": [],
      "source": [
        "#let us put data in the adjacency matrix n x m\n",
        "A_small = np.zeros((n, m))\n",
        "A_small[a[1:, 0], a[1:, 1]] = 1"
      ]
    },
    {
      "cell_type": "code",
      "execution_count": 5,
      "metadata": {
        "id": "0IuVdiI3_jCd"
      },
      "outputs": [],
      "source": [
        "A = np.vstack(\n",
        "    (np.hstack(\n",
        "        (np.zeros((n, n)), A_small)\n",
        "    ),\n",
        "     np.hstack((A_small.T, np.zeros((m, m))))\n",
        "    )\n",
        ")"
      ]
    },
    {
      "cell_type": "code",
      "execution_count": 6,
      "metadata": {
        "id": "Mg0pQyDp_jCg"
      },
      "outputs": [],
      "source": [
        "# let us calcualte the number of non-zero elements (connections)\n",
        "assert sum(sum(A_small)) == 92345"
      ]
    },
    {
      "cell_type": "code",
      "execution_count": 7,
      "metadata": {
        "id": "-9MhUwS5_jCm"
      },
      "outputs": [],
      "source": [
        "# let us read terms along with their ids\n",
        "with open(\"us.3k.2k.trms\", 'r') as iofile:\n",
        "    labels = iofile.readlines()"
      ]
    },
    {
      "cell_type": "code",
      "execution_count": 8,
      "metadata": {
        "id": "0PPkTP1Z_OhP",
        "outputId": "0a538fb2-10db-4e05-fda6-900c69b91268",
        "colab": {
          "base_uri": "https://localhost:8080/"
        }
      },
      "outputs": [
        {
          "output_type": "execute_result",
          "data": {
            "text/plain": [
              "['12a1970 lexmark\\n',\n",
              " '2 stacker\\n',\n",
              " '21 black jack\\n',\n",
              " '2nd mortgage\\n',\n",
              " 'acapulco hotel\\n']"
            ]
          },
          "metadata": {},
          "execution_count": 8
        }
      ],
      "source": [
        "labels[:5]"
      ]
    },
    {
      "cell_type": "markdown",
      "metadata": {
        "id": "KU3dKeir_jCo"
      },
      "source": [
        "Perfrom the second task from the tutorial. First, calculate the Laplacian matrix, L=D-A, find its second smallest eigenvector, sort it, and use the found indicies to find interpretable clusters of advertising terms (2-3 such clusters is enough). As an alternative out-of-the-box solution, you can use the implementation of Spectral Clustering with a given number of clusters from scikit-learn: http://scikit-learn.org/stable/modules/generated/sklearn.cluster.SpectralClustering.html"
      ]
    },
    {
      "cell_type": "markdown",
      "source": [
        "Calculating the Laplacian matrix"
      ],
      "metadata": {
        "id": "FVno3AhyUKSR"
      }
    },
    {
      "cell_type": "code",
      "source": [
        "from scipy.sparse import csgraph"
      ],
      "metadata": {
        "id": "pRJKFRIAy-n8"
      },
      "execution_count": 9,
      "outputs": []
    },
    {
      "cell_type": "code",
      "source": [
        "L = csgraph.laplacian(A, normed=False) # or just L = A - np.diag(D)"
      ],
      "metadata": {
        "id": "PJ4EdTd7zFLs"
      },
      "execution_count": 10,
      "outputs": []
    },
    {
      "cell_type": "markdown",
      "source": [
        "Calculating eigenvectors"
      ],
      "metadata": {
        "id": "8O7BjaAJU3MB"
      }
    },
    {
      "cell_type": "code",
      "source": [
        "W, V = eigsh(L, which='SA') "
      ],
      "metadata": {
        "id": "e5lFvebRU0gQ"
      },
      "execution_count": 11,
      "outputs": []
    },
    {
      "cell_type": "code",
      "source": [
        "W"
      ],
      "metadata": {
        "colab": {
          "base_uri": "https://localhost:8080/"
        },
        "id": "hpu_0seRzkeU",
        "outputId": "890b3ae1-4929-4041-b1b0-9848060adf17"
      },
      "execution_count": 12,
      "outputs": [
        {
          "output_type": "execute_result",
          "data": {
            "text/plain": [
              "array([1.29167212e-14, 6.03137518e-01, 1.21876765e+00, 1.41136831e+00,\n",
              "       1.48086295e+00, 1.83181136e+00])"
            ]
          },
          "metadata": {},
          "execution_count": 12
        }
      ]
    },
    {
      "cell_type": "markdown",
      "source": [
        "Eigenvector that corresponds to the second biggest eigenvalue"
      ],
      "metadata": {
        "id": "JVCnHn4vV3Sh"
      }
    },
    {
      "cell_type": "code",
      "source": [
        "se = V[:,1]"
      ],
      "metadata": {
        "id": "mf5XDUniVAG5"
      },
      "execution_count": 13,
      "outputs": []
    },
    {
      "cell_type": "code",
      "source": [
        "plt.plot(se, \"o\")"
      ],
      "metadata": {
        "colab": {
          "base_uri": "https://localhost:8080/",
          "height": 286
        },
        "id": "zuTyrPWnVNY5",
        "outputId": "204ceadd-8662-4004-c512-b5bf67116912"
      },
      "execution_count": 14,
      "outputs": [
        {
          "output_type": "execute_result",
          "data": {
            "text/plain": [
              "[<matplotlib.lines.Line2D at 0x7f32c0451490>]"
            ]
          },
          "metadata": {},
          "execution_count": 14
        },
        {
          "output_type": "display_data",
          "data": {
            "text/plain": [
              "<Figure size 432x288 with 1 Axes>"
            ],
            "image/png": "[encoded data removed]"
          },
          "metadata": {
            "needs_background": "light"
          }
        }
      ]
    },
    {
      "cell_type": "markdown",
      "source": [
        "With sorted indices"
      ],
      "metadata": {
        "id": "hFjxhj7sAVSV"
      }
    },
    {
      "cell_type": "code",
      "source": [
        "se_i = np.argsort(se)"
      ],
      "metadata": {
        "id": "hHW7un_-csf6"
      },
      "execution_count": 15,
      "outputs": []
    },
    {
      "cell_type": "code",
      "source": [
        "plt.plot(se[se_i])"
      ],
      "metadata": {
        "colab": {
          "base_uri": "https://localhost:8080/",
          "height": 286
        },
        "id": "PFOENMKOXsAx",
        "outputId": "4dc9c4e6-ce7a-461a-88cf-b9f7c87da0d2"
      },
      "execution_count": 16,
      "outputs": [
        {
          "output_type": "execute_result",
          "data": {
            "text/plain": [
              "[<matplotlib.lines.Line2D at 0x7f32c0a153d0>]"
            ]
          },
          "metadata": {},
          "execution_count": 16
        },
        {
          "output_type": "display_data",
          "data": {
            "text/plain": [
              "<Figure size 432x288 with 1 Axes>"
            ],
            "image/png": "[encoded data removed]"
          },
          "metadata": {
            "needs_background": "light"
          }
        }
      ]
    },
    {
      "cell_type": "code",
      "source": [
        "B = A[se_i, :]"
      ],
      "metadata": {
        "id": "RyufgLpyYQUp"
      },
      "execution_count": 17,
      "outputs": []
    },
    {
      "cell_type": "code",
      "source": [
        "plt.pcolormesh(B[:, se_i])"
      ],
      "metadata": {
        "colab": {
          "base_uri": "https://localhost:8080/",
          "height": 286
        },
        "id": "FttB-j1Jb09p",
        "outputId": "0b7357e3-bf71-419b-adf2-57f9bd68300c"
      },
      "execution_count": 18,
      "outputs": [
        {
          "output_type": "execute_result",
          "data": {
            "text/plain": [
              "<matplotlib.collections.QuadMesh at 0x7f32d1e0a5b0>"
            ]
          },
          "metadata": {},
          "execution_count": 18
        },
        {
          "output_type": "display_data",
          "data": {
            "text/plain": [
              "<Figure size 432x288 with 1 Axes>"
            ],
            "image/png": "[encoded data removed]"
          },
          "metadata": {
            "needs_background": "light"
          }
        }
      ]
    },
    {
      "cell_type": "markdown",
      "source": [
        "We can see three clusters here: the biggest in the upper-right corner and two small in the lower-left corner"
      ],
      "metadata": {
        "id": "qPLFzU1EAc7u"
      }
    },
    {
      "cell_type": "markdown",
      "source": [
        "### Spectral Clustering in sklearn"
      ],
      "metadata": {
        "id": "-JonfJlB3euE"
      }
    },
    {
      "cell_type": "markdown",
      "source": [
        "To interpret our results we actually need to use Kmeans several times afterwards. So let's just repeat above actions and obtain cluster numbers using sklearn implementation"
      ],
      "metadata": {
        "id": "hJvAteQtAtSO"
      }
    },
    {
      "cell_type": "code",
      "source": [
        "from sklearn.cluster import SpectralClustering\n",
        "model = SpectralClustering(n_clusters=3, affinity='nearest_neighbors', assign_labels='kmeans')"
      ],
      "metadata": {
        "id": "J4IRm9VS3dpk"
      },
      "execution_count": 31,
      "outputs": []
    },
    {
      "cell_type": "code",
      "source": [
        "labelsS = model.fit_predict(A_small)"
      ],
      "metadata": {
        "colab": {
          "base_uri": "https://localhost:8080/"
        },
        "id": "AxLM3KoZ3sel",
        "outputId": "b3e2faf0-3815-4ee8-ee8b-285a09647f92"
      },
      "execution_count": 54,
      "outputs": [
        {
          "output_type": "stream",
          "name": "stderr",
          "text": [
            "/usr/local/lib/python3.8/dist-packages/sklearn/manifold/_spectral_embedding.py:260: UserWarning: Graph is not fully connected, spectral embedding may not work as expected.\n",
            "  warnings.warn(\n"
          ]
        }
      ]
    },
    {
      "cell_type": "markdown",
      "source": [
        "Interpreting of classes"
      ],
      "metadata": {
        "id": "5cKAvVEZBJFO"
      }
    },
    {
      "cell_type": "markdown",
      "source": [
        "First cluster just don't make sense. I guess it is needed to distinguish objects from meaningfull clusters and other objects"
      ],
      "metadata": {
        "id": "_spzZeUkBS2u"
      }
    },
    {
      "cell_type": "code",
      "source": [
        "np.array(labels)[np.argwhere(labelsS == 0)]"
      ],
      "metadata": {
        "colab": {
          "base_uri": "https://localhost:8080/"
        },
        "id": "K9Oj7rT1_ZlN",
        "outputId": "a810ed03-4bb7-46d4-af4d-08185d689ce8"
      },
      "execution_count": 56,
      "outputs": [
        {
          "output_type": "execute_result",
          "data": {
            "text/plain": [
              "array([['12a1970 lexmark\\n'],\n",
              "       ['2 stacker\\n'],\n",
              "       ['2nd mortgage\\n'],\n",
              "       ...,\n",
              "       ['yukon\\n'],\n",
              "       ['zinc\\n'],\n",
              "       ['zyban\\n']], dtype='<U41')"
            ]
          },
          "metadata": {},
          "execution_count": 56
        }
      ]
    },
    {
      "cell_type": "markdown",
      "source": [
        "Second cluster represents everything about casino, gambling and so on"
      ],
      "metadata": {
        "id": "KRx6prNnBhnd"
      }
    },
    {
      "cell_type": "code",
      "source": [
        "np.array(labels)[np.argwhere(labelsS == 1)]"
      ],
      "metadata": {
        "colab": {
          "base_uri": "https://localhost:8080/"
        },
        "id": "t9WEeblr_jr-",
        "outputId": "4a2d4489-51c4-4439-97ce-ef1eda32cd1a"
      },
      "execution_count": 58,
      "outputs": [
        {
          "output_type": "execute_result",
          "data": {
            "text/plain": [
              "array([['21 black jack\\n'],\n",
              "       ['baccarat\\n'],\n",
              "       ['baccarat casino game\\n'],\n",
              "       ['baccarat online\\n'],\n",
              "       ['baccarat play\\n'],\n",
              "       ['baseball bet\\n'],\n",
              "       ['baseball betting\\n'],\n",
              "       ['baseball betting line\\n'],\n",
              "       ['baseball gambling\\n'],\n",
              "       ['baseball odds\\n'],\n",
              "       ['basketball bet\\n'],\n",
              "       ['basketball betting\\n'],\n",
              "       ['basketball betting football\\n'],\n",
              "       ['basketball gambling\\n'],\n",
              "       ['basketball gambling online\\n'],\n",
              "       ['basketball wagering\\n'],\n",
              "       ['best book online sport\\n'],\n",
              "       ['best book sport\\n'],\n",
              "       ['best casino\\n'],\n",
              "       ['best casino gambling online\\n'],\n",
              "       ['best casino internet\\n'],\n",
              "       ['best casino online\\n'],\n",
              "       ['best gambling online\\n'],\n",
              "       ['best gambling site\\n'],\n",
              "       ['best gambling site web\\n'],\n",
              "       ['best online wagering\\n'],\n",
              "       ['bet\\n'],\n",
              "       ['bet bowl super\\n'],\n",
              "       ['bet casino\\n'],\n",
              "       ['bet college football\\n'],\n",
              "       ['bet football\\n'],\n",
              "       ['bet football online\\n'],\n",
              "       ['bet free\\n'],\n",
              "       ['bet golf\\n'],\n",
              "       ['bet internet\\n'],\n",
              "       ['bet line\\n'],\n",
              "       ['bet nfl\\n'],\n",
              "       ['bet online\\n'],\n",
              "       ['bet online sport\\n'],\n",
              "       ['bet place\\n'],\n",
              "       ['bet soccer\\n'],\n",
              "       ['bet sport\\n'],\n",
              "       ['bet sports\\n'],\n",
              "       ['bet virtual\\n'],\n",
              "       ['bet where\\n'],\n",
              "       ['betting\\n'],\n",
              "       ['betting black jack\\n'],\n",
              "       ['betting book line sport\\n'],\n",
              "       ['betting book online sport\\n'],\n",
              "       ['betting book sport\\n'],\n",
              "       ['betting casino\\n'],\n",
              "       ['betting casino online\\n'],\n",
              "       ['betting college football\\n'],\n",
              "       ['betting college football line\\n'],\n",
              "       ['betting football\\n'],\n",
              "       ['betting football line\\n'],\n",
              "       ['betting football ncaa\\n'],\n",
              "       ['betting football nfl\\n'],\n",
              "       ['betting football odds\\n'],\n",
              "       ['betting football online\\n'],\n",
              "       ['betting football pro\\n'],\n",
              "       ['betting golf\\n'],\n",
              "       ['betting hockey\\n'],\n",
              "       ['betting horse\\n'],\n",
              "       ['betting internet\\n'],\n",
              "       ['betting internet sport\\n'],\n",
              "       ['betting internet sports\\n'],\n",
              "       ['betting line\\n'],\n",
              "       ['betting line nfl\\n'],\n",
              "       ['betting line sport\\n'],\n",
              "       ['betting line sports\\n'],\n",
              "       ['betting listing\\n'],\n",
              "       ['betting nba\\n'],\n",
              "       ['betting nfl\\n'],\n",
              "       ['betting nfl odds\\n'],\n",
              "       ['betting odds\\n'],\n",
              "       ['betting odds sport\\n'],\n",
              "       ['betting offshore\\n'],\n",
              "       ['betting offshore sport\\n'],\n",
              "       ['betting offshore wagering\\n'],\n",
              "       ['betting online\\n'],\n",
              "       ['betting online shop\\n'],\n",
              "       ['betting online sport\\n'],\n",
              "       ['betting online sports\\n'],\n",
              "       ['betting site\\n'],\n",
              "       ['betting soccer\\n'],\n",
              "       ['betting sport\\n'],\n",
              "       ['betting sport wagering\\n'],\n",
              "       ['betting sports\\n'],\n",
              "       ['betting spread\\n'],\n",
              "       ['betting virtual\\n'],\n",
              "       ['black card game jack\\n'],\n",
              "       ['black casino game jack\\n'],\n",
              "       ['black casino jack\\n'],\n",
              "       ['black casino jack online\\n'],\n",
              "       ['black casino jack poker\\n'],\n",
              "       ['black casino jack roulette\\n'],\n",
              "       ['black craps jack roulette\\n'],\n",
              "       ['black download game jack\\n'],\n",
              "       ['black download jack\\n'],\n",
              "       ['black free game jack\\n'],\n",
              "       ['black free jack\\n'],\n",
              "       ['black free jack online\\n'],\n",
              "       ['black gambling jack\\n'],\n",
              "       ['black gambling jack online\\n'],\n",
              "       ['black game jack\\n'],\n",
              "       ['black game jack online\\n'],\n",
              "       ['black internet jack\\n'],\n",
              "       ['black jack\\n'],\n",
              "       ['black jack java\\n'],\n",
              "       ['black jack machine slot\\n'],\n",
              "       ['black jack online\\n'],\n",
              "       ['black jack online play\\n'],\n",
              "       ['black jack play\\n'],\n",
              "       ['black jack poker\\n'],\n",
              "       ['black jack poker roulette\\n'],\n",
              "       ['black jack roulette\\n'],\n",
              "       ['black jack software\\n'],\n",
              "       ['black jack tip\\n'],\n",
              "       ['black jack virtual\\n'],\n",
              "       ['black jack win\\n'],\n",
              "       ['black jack winning\\n'],\n",
              "       ['bonus casino\\n'],\n",
              "       ['bonus casino free\\n'],\n",
              "       ['bonus casino online\\n'],\n",
              "       ['book casino gambling sport\\n'],\n",
              "       ['book casino online sport\\n'],\n",
              "       ['book casino sport\\n'],\n",
              "       ['book cyber sport\\n'],\n",
              "       ['book football sport\\n'],\n",
              "       ['book gambling online sport\\n'],\n",
              "       ['book gambling sport\\n'],\n",
              "       ['book gaming sport\\n'],\n",
              "       ['book internet sport\\n'],\n",
              "       ['book legal sport\\n'],\n",
              "       ['book line sport\\n'],\n",
              "       ['book maker\\n'],\n",
              "       ['book nfl sport\\n'],\n",
              "       ['book offshore sport\\n'],\n",
              "       ['book online sport\\n'],\n",
              "       ['book online sport wagering\\n'],\n",
              "       ['book sport\\n'],\n",
              "       ['book sport wager\\n'],\n",
              "       ['book sport wagering\\n'],\n",
              "       ['book sports\\n'],\n",
              "       ['bookie\\n'],\n",
              "       ['bookie online\\n'],\n",
              "       ['card casino game\\n'],\n",
              "       ['card gambling\\n'],\n",
              "       ['card game\\n'],\n",
              "       ['card game online\\n'],\n",
              "       ['card game poker\\n'],\n",
              "       ['caribbean poker\\n'],\n",
              "       ['caribbean poker stud\\n'],\n",
              "       ['cash casino free\\n'],\n",
              "       ['cash casino free online\\n'],\n",
              "       ['casino\\n'],\n",
              "       ['casino chip\\n'],\n",
              "       ['casino chip free\\n'],\n",
              "       ['casino club gaming\\n'],\n",
              "       ['casino craps\\n'],\n",
              "       ['casino cyber\\n'],\n",
              "       ['casino directory\\n'],\n",
              "       ['casino directory online\\n'],\n",
              "       ['casino download\\n'],\n",
              "       ['casino download game\\n'],\n",
              "       ['casino download no online\\n'],\n",
              "       ['casino free\\n'],\n",
              "       ['casino free gambling\\n'],\n",
              "       ['casino free gambling online\\n'],\n",
              "       ['casino free game\\n'],\n",
              "       ['casino free game online\\n'],\n",
              "       ['casino free money\\n'],\n",
              "       ['casino free online\\n'],\n",
              "       ['casino free slot\\n'],\n",
              "       ['casino gamble\\n'],\n",
              "       ['casino gambling\\n'],\n",
              "       ['casino gambling game\\n'],\n",
              "       ['casino gambling game online\\n'],\n",
              "       ['casino gambling internet\\n'],\n",
              "       ['casino gambling internet online\\n'],\n",
              "       ['casino gambling line\\n'],\n",
              "       ['casino gambling online\\n'],\n",
              "       ['casino gambling online secure\\n'],\n",
              "       ['casino gambling virtual\\n'],\n",
              "       ['casino game\\n'],\n",
              "       ['casino game internet\\n'],\n",
              "       ['casino game line\\n'],\n",
              "       ['casino game online\\n'],\n",
              "       ['casino game online play\\n'],\n",
              "       ['casino game play\\n'],\n",
              "       ['casino game roulette\\n'],\n",
              "       ['casino game slot\\n'],\n",
              "       ['casino gaming\\n'],\n",
              "       ['casino gaming internet\\n'],\n",
              "       ['casino gaming online\\n'],\n",
              "       ['casino guide\\n'],\n",
              "       ['casino guide online\\n'],\n",
              "       ['casino internet\\n'],\n",
              "       ['casino internet online\\n'],\n",
              "       ['casino jackpot online\\n'],\n",
              "       ['casino java\\n'],\n",
              "       ['casino las vegas\\n'],\n",
              "       ['casino line\\n'],\n",
              "       ['casino links\\n'],\n",
              "       ['casino machine slot\\n'],\n",
              "       ['casino net\\n'],\n",
              "       ['casino offshore\\n'],\n",
              "       ['casino online\\n'],\n",
              "       ['casino online play\\n'],\n",
              "       ['casino online poker\\n'],\n",
              "       ['casino online promotion\\n'],\n",
              "       ['casino online review\\n'],\n",
              "       ['casino online roulette\\n'],\n",
              "       ['casino online site\\n'],\n",
              "       ['casino online slot\\n'],\n",
              "       ['casino online top\\n'],\n",
              "       ['casino online virtual\\n'],\n",
              "       ['casino online wagering\\n'],\n",
              "       ['casino poker\\n'],\n",
              "       ['casino poker video\\n'],\n",
              "       ['casino promotion\\n'],\n",
              "       ['casino roulette\\n'],\n",
              "       ['casino site\\n'],\n",
              "       ['casino site web\\n'],\n",
              "       ['casino slot\\n'],\n",
              "       ['casino software\\n'],\n",
              "       ['casino virtual\\n'],\n",
              "       ['casino wager\\n'],\n",
              "       ['casino wagering\\n'],\n",
              "       ['casino web\\n'],\n",
              "       ['casinogambling\\n'],\n",
              "       ['college football gambling\\n'],\n",
              "       ['college football odds\\n'],\n",
              "       ['craps\\n'],\n",
              "       ['craps gambling\\n'],\n",
              "       ['craps game\\n'],\n",
              "       ['craps internet\\n'],\n",
              "       ['craps online\\n'],\n",
              "       ['craps play\\n'],\n",
              "       ['craps roulette\\n'],\n",
              "       ['cyber gambling\\n'],\n",
              "       ['directory gambling\\n'],\n",
              "       ['directory gambling online\\n'],\n",
              "       ['download poker\\n'],\n",
              "       ['draw poker\\n'],\n",
              "       ['football gambling\\n'],\n",
              "       ['football gambling line\\n'],\n",
              "       ['football gambling online\\n'],\n",
              "       ['football gambling pro\\n'],\n",
              "       ['football nfl odds\\n'],\n",
              "       ['football odds\\n'],\n",
              "       ['football online wagering\\n'],\n",
              "       ['football pro wagering\\n'],\n",
              "       ['football wagering\\n'],\n",
              "       ['free gamble\\n'],\n",
              "       ['free gambling\\n'],\n",
              "       ['free gambling game\\n'],\n",
              "       ['free gambling online\\n'],\n",
              "       ['free game slot\\n'],\n",
              "       ['free online poker\\n'],\n",
              "       ['free online slot\\n'],\n",
              "       ['free poker\\n'],\n",
              "       ['free poker video\\n'],\n",
              "       ['free slot\\n'],\n",
              "       ['gamble\\n'],\n",
              "       ['gamble internet\\n'],\n",
              "       ['gamble online\\n'],\n",
              "       ['gamble online where\\n'],\n",
              "       ['gamble place\\n'],\n",
              "       ['gamble where\\n'],\n",
              "       ['gambler\\n'],\n",
              "       ['gambling\\n'],\n",
              "       ['gambling game\\n'],\n",
              "       ['gambling game online\\n'],\n",
              "       ['gambling guide\\n'],\n",
              "       ['gambling guide online\\n'],\n",
              "       ['gambling information\\n'],\n",
              "       ['gambling internet\\n'],\n",
              "       ['gambling internet legal\\n'],\n",
              "       ['gambling internet online\\n'],\n",
              "       ['gambling internet site\\n'],\n",
              "       ['gambling internet sport\\n'],\n",
              "       ['gambling las vegas\\n'],\n",
              "       ['gambling legal\\n'],\n",
              "       ['gambling legal online\\n'],\n",
              "       ['gambling legalized\\n'],\n",
              "       ['gambling line\\n'],\n",
              "       ['gambling link\\n'],\n",
              "       ['gambling listing\\n'],\n",
              "       ['gambling money real\\n'],\n",
              "       ['gambling net\\n'],\n",
              "       ['gambling nfl\\n'],\n",
              "       ['gambling odds\\n'],\n",
              "       ['gambling offshore\\n'],\n",
              "       ['gambling offshore sport\\n'],\n",
              "       ['gambling online\\n'],\n",
              "       ['gambling online site\\n'],\n",
              "       ['gambling online sport\\n'],\n",
              "       ['gambling online sports\\n'],\n",
              "       ['gambling poker\\n'],\n",
              "       ['gambling real\\n'],\n",
              "       ['gambling roulette\\n'],\n",
              "       ['gambling site\\n'],\n",
              "       ['gambling site web\\n'],\n",
              "       ['gambling slot\\n'],\n",
              "       ['gambling software\\n'],\n",
              "       ['gambling sport\\n'],\n",
              "       ['gambling sports\\n'],\n",
              "       ['gambling strategy\\n'],\n",
              "       ['gambling system\\n'],\n",
              "       ['gambling tip\\n'],\n",
              "       ['gambling virtual\\n'],\n",
              "       ['gambling web\\n'],\n",
              "       ['game machine slot\\n'],\n",
              "       ['game online poker\\n'],\n",
              "       ['game poker\\n'],\n",
              "       ['game poker video\\n'],\n",
              "       ['game roulette\\n'],\n",
              "       ['game slot\\n'],\n",
              "       ['gaming\\n'],\n",
              "       ['gaming internet\\n'],\n",
              "       ['gaming online\\n'],\n",
              "       ['gaming online site\\n'],\n",
              "       ['gaming site\\n'],\n",
              "       ['gaming site web\\n'],\n",
              "       ['gow pai\\n'],\n",
              "       ['horse racing\\n'],\n",
              "       ['internet poker\\n'],\n",
              "       ['internet roulette\\n'],\n",
              "       ['internet slot\\n'],\n",
              "       ['internet sport wagering\\n'],\n",
              "       ['internet wager\\n'],\n",
              "       ['internet wagering\\n'],\n",
              "       ['jackpot\\n'],\n",
              "       ['joker poker\\n'],\n",
              "       ['keno\\n'],\n",
              "       ['legal online wagering\\n'],\n",
              "       ['legal wagering\\n'],\n",
              "       ['machine online slot\\n'],\n",
              "       ['machine play slot\\n'],\n",
              "       ['machine poker video\\n'],\n",
              "       ['machine roulette slot\\n'],\n",
              "       ['machine slot\\n'],\n",
              "       ['machine slot video\\n'],\n",
              "       ['money real wagering\\n'],\n",
              "       ['nfl odds\\n'],\n",
              "       ['nfl wagering\\n'],\n",
              "       ['odds\\n'],\n",
              "       ['offshore wagering\\n'],\n",
              "       ['on line sport gambling\\n'],\n",
              "       ['online play poker\\n'],\n",
              "       ['online poker\\n'],\n",
              "       ['online poker video\\n'],\n",
              "       ['online roulette\\n'],\n",
              "       ['online slot\\n'],\n",
              "       ['online sport wagering\\n'],\n",
              "       ['online wager\\n'],\n",
              "       ['online wagering\\n'],\n",
              "       ['play poker\\n'],\n",
              "       ['play poker video\\n'],\n",
              "       ['play roulette\\n'],\n",
              "       ['play slot\\n'],\n",
              "       ['poker\\n'],\n",
              "       ['poker video\\n'],\n",
              "       ['real wager\\n'],\n",
              "       ['roulette\\n'],\n",
              "       ['roulette slot\\n'],\n",
              "       ['roulette system\\n'],\n",
              "       ['roulette wheel\\n'],\n",
              "       ['roulette win\\n'],\n",
              "       ['roulette winning\\n'],\n",
              "       ['site wagering\\n'],\n",
              "       ['slot\\n'],\n",
              "       ['slot video\\n'],\n",
              "       ['slot virtual\\n'],\n",
              "       ['sport wager\\n'],\n",
              "       ['sport wagering\\n'],\n",
              "       ['sports wagering\\n'],\n",
              "       ['virtual wagering\\n'],\n",
              "       ['wager\\n'],\n",
              "       ['wagering\\n']], dtype='<U41')"
            ]
          },
          "metadata": {},
          "execution_count": 58
        }
      ]
    },
    {
      "cell_type": "markdown",
      "source": [
        "The third and the smallest cluster represents cruises"
      ],
      "metadata": {
        "id": "pU4LKt-bBt0W"
      }
    },
    {
      "cell_type": "code",
      "source": [
        "np.array(labels)[np.argwhere(labelsS == 2)]"
      ],
      "metadata": {
        "colab": {
          "base_uri": "https://localhost:8080/"
        },
        "id": "I5DxsB_F_pzd",
        "outputId": "a193cb26-8124-4f45-d84f-557de1e25b4a"
      },
      "execution_count": 59,
      "outputs": [
        {
          "output_type": "execute_result",
          "data": {
            "text/plain": [
              "array([['alaska cruise\\n'],\n",
              "       ['america cruise holland\\n'],\n",
              "       ['america cruise holland line\\n'],\n",
              "       ['bahamas cruise\\n'],\n",
              "       ['bargain cruise\\n'],\n",
              "       ['bermuda cruise\\n'],\n",
              "       ['caribbean cruise\\n'],\n",
              "       ['caribbean cruise line royal\\n'],\n",
              "       ['caribbean cruise royal\\n'],\n",
              "       ['carnival cruise\\n'],\n",
              "       ['carnival cruise line\\n'],\n",
              "       ['celebrity cruise\\n'],\n",
              "       ['celebrity cruise line\\n'],\n",
              "       ['cheap cruise\\n'],\n",
              "       ['cruise\\n'],\n",
              "       ['cruise crystal\\n'],\n",
              "       ['cruise deal\\n'],\n",
              "       ['cruise discount\\n'],\n",
              "       ['cruise disney\\n'],\n",
              "       ['cruise disney line\\n'],\n",
              "       ['cruise hawaii\\n'],\n",
              "       ['cruise line\\n'],\n",
              "       ['cruise line norwegian\\n'],\n",
              "       ['cruise line princess\\n'],\n",
              "       ['cruise luxury\\n'],\n",
              "       ['cruise mexico\\n'],\n",
              "       ['cruise package\\n'],\n",
              "       ['cruise princess\\n'],\n",
              "       ['cruise ship\\n'],\n",
              "       ['cruise special\\n'],\n",
              "       ['cruise travel\\n'],\n",
              "       ['cruise vacation\\n']], dtype='<U41')"
            ]
          },
          "metadata": {},
          "execution_count": 59
        }
      ]
    }
  ],
  "metadata": {
    "colab": {
      "provenance": [],
      "include_colab_link": true
    },
    "kernelspec": {
      "display_name": "Python 3",
      "language": "python",
      "name": "python3"
    },
    "language_info": {
      "codemirror_mode": {
        "name": "ipython",
        "version": 3
      },
      "file_extension": ".py",
      "mimetype": "text/x-python",
      "name": "python",
      "nbconvert_exporter": "python",
      "pygments_lexer": "ipython3",
      "version": "3.8.8"
    }
  },
  "nbformat": 4,
  "nbformat_minor": 0
}